{
  "metadata": {
    "kernelspec": {
      "name": "python3",
      "display_name": "Python 3",
      "language": "python"
    },
    "language_info": {
      "name": "python",
      "version": "3.7.12",
      "mimetype": "text/x-python",
      "codemirror_mode": {
        "name": "ipython",
        "version": 3
      },
      "pygments_lexer": "ipython3",
      "nbconvert_exporter": "python",
      "file_extension": ".py"
    },
    "colab": {
      "provenance": []
    },
    "gpuClass": "standard",
    "accelerator": "GPU"
  },
  "nbformat_minor": 5,
  "nbformat": 4,
  "cells": [
    {
      "cell_type": "markdown",
      "source": [
        "## Group Members:\n",
        "1. Nipun Gupta (2021fc04426)\n",
        "2. Aiswarya S Parvathi (2021fc04430)\n",
        "3. Vengadesh S (2021fc04424)"
      ],
      "metadata": {
        "id": "e1288529"
      },
      "id": "e1288529"
    },
    {
      "cell_type": "markdown",
      "source": [
        "# 1. Problem Statement\n",
        " \n",
        "1. What is the problem that you are trying to solve?\n",
        "   \n",
        "   **Answer**: The problem is regarding **Fraud detection** on credit card transactions.\n",
        "   \n",
        "   \n",
        "2. What kind of prediction (classification / regression) task are you performing?\n",
        "\n",
        "   **Answer**: This is a binary classification task. We have to predict if a transaction is genuine or fraudulent"
      ],
      "metadata": {
        "id": "aa72d7f3"
      },
      "id": "aa72d7f3"
    },
    {
      "cell_type": "markdown",
      "source": [
        "### Importing libraries"
      ],
      "metadata": {
        "id": "c3544f08"
      },
      "id": "c3544f08"
    },
    {
      "cell_type": "code",
      "source": [
        "import tensorflow as tf\n",
        "import numpy as np\n",
        "import pandas as pd\n",
        "from matplotlib import pyplot as plt\n",
        "import seaborn as sns\n",
        "import os\n",
        "\n",
        "import warnings\n",
        "warnings.filterwarnings('ignore')"
      ],
      "metadata": {
        "id": "cd342391",
        "execution": {
          "iopub.status.busy": "2023-04-20T06:41:27.115309Z",
          "iopub.execute_input": "2023-04-20T06:41:27.116007Z",
          "iopub.status.idle": "2023-04-20T06:41:42.484971Z",
          "shell.execute_reply.started": "2023-04-20T06:41:27.115962Z",
          "shell.execute_reply": "2023-04-20T06:41:42.483812Z"
        },
        "trusted": true
      },
      "execution_count": null,
      "outputs": [],
      "id": "cd342391"
    },
    {
      "cell_type": "code",
      "source": [
        "tf.test.gpu_device_name()"
      ],
      "metadata": {
        "colab": {
          "base_uri": "https://localhost:8080/",
          "height": 35
        },
        "id": "Ppt3GK0PQ_2T",
        "outputId": "dd4d5b8d-f4dd-4c92-9c51-2fb80d0cf349",
        "execution": {
          "iopub.status.busy": "2023-04-20T06:41:42.487059Z",
          "iopub.execute_input": "2023-04-20T06:41:42.487751Z",
          "iopub.status.idle": "2023-04-20T06:41:47.381977Z",
          "shell.execute_reply.started": "2023-04-20T06:41:42.487718Z",
          "shell.execute_reply": "2023-04-20T06:41:47.380736Z"
        },
        "trusted": true
      },
      "execution_count": null,
      "outputs": [
        {
          "execution_count": 2,
          "output_type": "execute_result",
          "data": {
            "text/plain": "'/device:GPU:0'"
          },
          "metadata": {}
        }
      ],
      "id": "Ppt3GK0PQ_2T"
    },
    {
      "cell_type": "code",
      "source": [
        "# Installing opendatasets library to download the dataset\n",
        "!pip install opendatasets"
      ],
      "metadata": {
        "colab": {
          "base_uri": "https://localhost:8080/"
        },
        "id": "6b1dcf63",
        "outputId": "b182829b-cfb8-4cd5-f53d-424b16adb01b",
        "execution": {
          "iopub.status.busy": "2023-04-20T06:41:47.383090Z",
          "iopub.execute_input": "2023-04-20T06:41:47.383527Z",
          "iopub.status.idle": "2023-04-20T06:41:58.929797Z",
          "shell.execute_reply.started": "2023-04-20T06:41:47.383483Z",
          "shell.execute_reply": "2023-04-20T06:41:58.928544Z"
        },
        "trusted": true
      },
      "execution_count": null,
      "outputs": [
        {
          "name": "stdout",
          "text": "Collecting opendatasets\n  Downloading opendatasets-0.1.22-py3-none-any.whl (15 kB)\nRequirement already satisfied: click in /opt/conda/lib/python3.7/site-packages (from opendatasets) (8.1.3)\nRequirement already satisfied: tqdm in /opt/conda/lib/python3.7/site-packages (from opendatasets) (4.64.1)\nRequirement already satisfied: kaggle in /opt/conda/lib/python3.7/site-packages (from opendatasets) (1.5.13)\nRequirement already satisfied: importlib-metadata in /opt/conda/lib/python3.7/site-packages (from click->opendatasets) (4.11.4)\nRequirement already satisfied: python-slugify in /opt/conda/lib/python3.7/site-packages (from kaggle->opendatasets) (8.0.1)\nRequirement already satisfied: certifi in /opt/conda/lib/python3.7/site-packages (from kaggle->opendatasets) (2022.12.7)\nRequirement already satisfied: requests in /opt/conda/lib/python3.7/site-packages (from kaggle->opendatasets) (2.28.2)\nRequirement already satisfied: urllib3 in /opt/conda/lib/python3.7/site-packages (from kaggle->opendatasets) (1.26.14)\nRequirement already satisfied: six>=1.10 in /opt/conda/lib/python3.7/site-packages (from kaggle->opendatasets) (1.16.0)\nRequirement already satisfied: python-dateutil in /opt/conda/lib/python3.7/site-packages (from kaggle->opendatasets) (2.8.2)\nRequirement already satisfied: typing-extensions>=3.6.4 in /opt/conda/lib/python3.7/site-packages (from importlib-metadata->click->opendatasets) (4.4.0)\nRequirement already satisfied: zipp>=0.5 in /opt/conda/lib/python3.7/site-packages (from importlib-metadata->click->opendatasets) (3.11.0)\nRequirement already satisfied: text-unidecode>=1.3 in /opt/conda/lib/python3.7/site-packages (from python-slugify->kaggle->opendatasets) (1.3)\nRequirement already satisfied: charset-normalizer<4,>=2 in /opt/conda/lib/python3.7/site-packages (from requests->kaggle->opendatasets) (2.1.1)\nRequirement already satisfied: idna<4,>=2.5 in /opt/conda/lib/python3.7/site-packages (from requests->kaggle->opendatasets) (3.4)\nInstalling collected packages: opendatasets\nSuccessfully installed opendatasets-0.1.22\n\u001b[33mWARNING: Running pip as the 'root' user can result in broken permissions and conflicting behaviour with the system package manager. It is recommended to use a virtual environment instead: https://pip.pypa.io/warnings/venv\u001b[0m\u001b[33m\n\u001b[0m",
          "output_type": "stream"
        }
      ],
      "id": "6b1dcf63"
    },
    {
      "cell_type": "code",
      "source": [
        "import opendatasets as od"
      ],
      "metadata": {
        "id": "01f7a65d",
        "execution": {
          "iopub.status.busy": "2023-04-20T06:41:58.934047Z",
          "iopub.execute_input": "2023-04-20T06:41:58.935735Z",
          "iopub.status.idle": "2023-04-20T06:41:59.216951Z",
          "shell.execute_reply.started": "2023-04-20T06:41:58.935682Z",
          "shell.execute_reply": "2023-04-20T06:41:59.215890Z"
        },
        "trusted": true
      },
      "execution_count": null,
      "outputs": [],
      "id": "01f7a65d"
    },
    {
      "cell_type": "markdown",
      "source": [
        "# 2. Data Acquisition"
      ],
      "metadata": {
        "id": "18682cd3"
      },
      "id": "18682cd3"
    },
    {
      "cell_type": "markdown",
      "source": [
        "## 2.1 Download the data directly\n",
        "\n",
        "The dataset has been downloaded from Kaggle website : **https://www.kaggle.com/datasets/dermisfit/fraud-transactions-dataset**."
      ],
      "metadata": {
        "id": "52319f3e"
      },
      "id": "52319f3e"
    },
    {
      "cell_type": "code",
      "source": [
        "# Path to the dataset on kaggle website\n",
        "dataset = r\"https://www.kaggle.com/datasets/dermisfit/fraud-transactions-dataset\""
      ],
      "metadata": {
        "id": "84de426a",
        "execution": {
          "iopub.status.busy": "2023-04-20T06:41:59.218434Z",
          "iopub.execute_input": "2023-04-20T06:41:59.218937Z",
          "iopub.status.idle": "2023-04-20T06:41:59.224501Z",
          "shell.execute_reply.started": "2023-04-20T06:41:59.218897Z",
          "shell.execute_reply": "2023-04-20T06:41:59.223515Z"
        },
        "trusted": true
      },
      "execution_count": null,
      "outputs": [],
      "id": "84de426a"
    },
    {
      "cell_type": "code",
      "source": [
        "# Downloading the dataset\n",
        "od.download(dataset)\n",
        "#{\"username\":\"nipungupta26\",\"key\":\"b74150bcb6b0c11a90bd22630992ac26\"}"
      ],
      "metadata": {
        "colab": {
          "base_uri": "https://localhost:8080/"
        },
        "id": "04852d40",
        "outputId": "af6e7e86-12ba-457f-e4d8-4e2b088c650f",
        "execution": {
          "iopub.status.busy": "2023-04-20T06:41:59.226395Z",
          "iopub.execute_input": "2023-04-20T06:41:59.227220Z",
          "iopub.status.idle": "2023-04-20T06:42:22.936662Z",
          "shell.execute_reply.started": "2023-04-20T06:41:59.227180Z",
          "shell.execute_reply": "2023-04-20T06:42:22.935536Z"
        },
        "trusted": true
      },
      "execution_count": null,
      "outputs": [
        {
          "name": "stdout",
          "text": "Please provide your Kaggle credentials to download this dataset. Learn more: http://bit.ly/kaggle-creds\nYour Kaggle username:",
          "output_type": "stream"
        },
        {
          "output_type": "stream",
          "name": "stdin",
          "text": "  nipungupta26\n"
        },
        {
          "name": "stdout",
          "text": "Your Kaggle Key:",
          "output_type": "stream"
        },
        {
          "output_type": "stream",
          "name": "stdin",
          "text": "  ································\n"
        },
        {
          "name": "stdout",
          "text": "Downloading fraud-transactions-dataset.zip to ./fraud-transactions-dataset\n",
          "output_type": "stream"
        },
        {
          "name": "stderr",
          "text": "100%|██████████| 202M/202M [00:02<00:00, 105MB/s]  \n",
          "output_type": "stream"
        },
        {
          "name": "stdout",
          "text": "\n",
          "output_type": "stream"
        }
      ],
      "id": "04852d40"
    },
    {
      "cell_type": "markdown",
      "source": [
        "The training and the testing datasets have been downloaded"
      ],
      "metadata": {
        "id": "zfyl59NgiK_J"
      },
      "id": "zfyl59NgiK_J"
    },
    {
      "cell_type": "markdown",
      "source": [
        "## 2.2 Code for converting the above downloaded data into a form suitable for DL "
      ],
      "metadata": {
        "id": "9a931715"
      },
      "id": "9a931715"
    },
    {
      "cell_type": "code",
      "source": [
        "# Directory of the downloaded datasets in local system\n",
        "data_dir = r'fraud-transactions-dataset'"
      ],
      "metadata": {
        "id": "c6499396",
        "execution": {
          "iopub.status.busy": "2023-04-20T06:42:22.939060Z",
          "iopub.execute_input": "2023-04-20T06:42:22.939431Z",
          "iopub.status.idle": "2023-04-20T06:42:22.945406Z",
          "shell.execute_reply.started": "2023-04-20T06:42:22.939394Z",
          "shell.execute_reply": "2023-04-20T06:42:22.944148Z"
        },
        "trusted": true
      },
      "execution_count": null,
      "outputs": [],
      "id": "c6499396"
    },
    {
      "cell_type": "code",
      "source": [
        "# Listing out the datasets\n",
        "os.listdir(data_dir)"
      ],
      "metadata": {
        "colab": {
          "base_uri": "https://localhost:8080/"
        },
        "id": "c1eeeac4",
        "outputId": "37bd9e9d-7b08-4fea-d016-a7fed4202be8",
        "execution": {
          "iopub.status.busy": "2023-04-20T06:42:22.947247Z",
          "iopub.execute_input": "2023-04-20T06:42:22.948069Z",
          "iopub.status.idle": "2023-04-20T06:42:22.960960Z",
          "shell.execute_reply.started": "2023-04-20T06:42:22.948039Z",
          "shell.execute_reply": "2023-04-20T06:42:22.959822Z"
        },
        "trusted": true
      },
      "execution_count": null,
      "outputs": [
        {
          "execution_count": 8,
          "output_type": "execute_result",
          "data": {
            "text/plain": "['fraudTrain.csv', 'fraudTest.csv']"
          },
          "metadata": {}
        }
      ],
      "id": "c1eeeac4"
    },
    {
      "cell_type": "code",
      "source": [
        "file_train = r'fraud-transactions-dataset/fraudTrain.csv'"
      ],
      "metadata": {
        "id": "bDPYnInda2cy",
        "execution": {
          "iopub.status.busy": "2023-04-20T06:42:22.962834Z",
          "iopub.execute_input": "2023-04-20T06:42:22.963296Z",
          "iopub.status.idle": "2023-04-20T06:42:22.973633Z",
          "shell.execute_reply.started": "2023-04-20T06:42:22.963255Z",
          "shell.execute_reply": "2023-04-20T06:42:22.972629Z"
        },
        "trusted": true
      },
      "execution_count": null,
      "outputs": [],
      "id": "bDPYnInda2cy"
    },
    {
      "cell_type": "code",
      "source": [
        "file_train"
      ],
      "metadata": {
        "colab": {
          "base_uri": "https://localhost:8080/",
          "height": 35
        },
        "id": "BL7xE_Hlbd-l",
        "outputId": "127dbad6-6a40-402d-d2d4-194d7ca42d6d",
        "execution": {
          "iopub.status.busy": "2023-04-20T06:42:22.978809Z",
          "iopub.execute_input": "2023-04-20T06:42:22.979137Z",
          "iopub.status.idle": "2023-04-20T06:42:22.986915Z",
          "shell.execute_reply.started": "2023-04-20T06:42:22.979109Z",
          "shell.execute_reply": "2023-04-20T06:42:22.985845Z"
        },
        "trusted": true
      },
      "execution_count": null,
      "outputs": [
        {
          "execution_count": 10,
          "output_type": "execute_result",
          "data": {
            "text/plain": "'fraud-transactions-dataset/fraudTrain.csv'"
          },
          "metadata": {}
        }
      ],
      "id": "BL7xE_Hlbd-l"
    },
    {
      "cell_type": "markdown",
      "source": [
        "Reading the dataset using pandas"
      ],
      "metadata": {
        "id": "9bd5e9a3"
      },
      "id": "9bd5e9a3"
    },
    {
      "cell_type": "code",
      "source": [
        "df_fraudTrain = pd.read_csv(file_train, index_col=0)"
      ],
      "metadata": {
        "id": "bdbfea21",
        "execution": {
          "iopub.status.busy": "2023-04-20T06:42:22.988247Z",
          "iopub.execute_input": "2023-04-20T06:42:22.988680Z",
          "iopub.status.idle": "2023-04-20T06:42:29.829611Z",
          "shell.execute_reply.started": "2023-04-20T06:42:22.988634Z",
          "shell.execute_reply": "2023-04-20T06:42:29.828310Z"
        },
        "trusted": true
      },
      "execution_count": null,
      "outputs": [],
      "id": "bdbfea21"
    },
    {
      "cell_type": "code",
      "source": [
        "df_fraudTrain.shape"
      ],
      "metadata": {
        "colab": {
          "base_uri": "https://localhost:8080/"
        },
        "id": "b72c4376",
        "outputId": "5dfb89fe-667e-4034-b886-84e01a65d73c",
        "execution": {
          "iopub.status.busy": "2023-04-20T06:42:29.831000Z",
          "iopub.execute_input": "2023-04-20T06:42:29.831374Z",
          "iopub.status.idle": "2023-04-20T06:42:29.838738Z",
          "shell.execute_reply.started": "2023-04-20T06:42:29.831337Z",
          "shell.execute_reply": "2023-04-20T06:42:29.837431Z"
        },
        "trusted": true
      },
      "execution_count": null,
      "outputs": [
        {
          "execution_count": 12,
          "output_type": "execute_result",
          "data": {
            "text/plain": "(1296675, 22)"
          },
          "metadata": {}
        }
      ],
      "id": "b72c4376"
    },
    {
      "cell_type": "code",
      "source": [
        "file_test = r'fraud-transactions-dataset/fraudTest.csv'"
      ],
      "metadata": {
        "id": "90eZoM6gb2Wx",
        "execution": {
          "iopub.status.busy": "2023-04-20T06:42:29.840228Z",
          "iopub.execute_input": "2023-04-20T06:42:29.841370Z",
          "iopub.status.idle": "2023-04-20T06:42:29.850145Z",
          "shell.execute_reply.started": "2023-04-20T06:42:29.841326Z",
          "shell.execute_reply": "2023-04-20T06:42:29.848827Z"
        },
        "trusted": true
      },
      "execution_count": null,
      "outputs": [],
      "id": "90eZoM6gb2Wx"
    },
    {
      "cell_type": "code",
      "source": [
        "file_test"
      ],
      "metadata": {
        "colab": {
          "base_uri": "https://localhost:8080/",
          "height": 35
        },
        "id": "lyCBTs1Tb2aM",
        "outputId": "58a5938c-8942-42da-c0c1-55278e23d0b2",
        "execution": {
          "iopub.status.busy": "2023-04-20T06:42:29.851866Z",
          "iopub.execute_input": "2023-04-20T06:42:29.853059Z",
          "iopub.status.idle": "2023-04-20T06:42:29.863530Z",
          "shell.execute_reply.started": "2023-04-20T06:42:29.853026Z",
          "shell.execute_reply": "2023-04-20T06:42:29.861554Z"
        },
        "trusted": true
      },
      "execution_count": null,
      "outputs": [
        {
          "execution_count": 14,
          "output_type": "execute_result",
          "data": {
            "text/plain": "'fraud-transactions-dataset/fraudTest.csv'"
          },
          "metadata": {}
        }
      ],
      "id": "lyCBTs1Tb2aM"
    },
    {
      "cell_type": "code",
      "source": [
        "df_fraudTest = pd.read_csv(file_test, index_col=0)"
      ],
      "metadata": {
        "id": "5e734833",
        "execution": {
          "iopub.status.busy": "2023-04-20T06:42:29.865078Z",
          "iopub.execute_input": "2023-04-20T06:42:29.866252Z",
          "iopub.status.idle": "2023-04-20T06:42:32.096650Z",
          "shell.execute_reply.started": "2023-04-20T06:42:29.866214Z",
          "shell.execute_reply": "2023-04-20T06:42:32.095504Z"
        },
        "trusted": true
      },
      "execution_count": null,
      "outputs": [],
      "id": "5e734833"
    },
    {
      "cell_type": "code",
      "source": [
        "df_fraudTest.shape"
      ],
      "metadata": {
        "colab": {
          "base_uri": "https://localhost:8080/"
        },
        "id": "0a739f41",
        "outputId": "9e0c16f8-8ee8-4565-c480-5540cb01d4dc",
        "execution": {
          "iopub.status.busy": "2023-04-20T06:42:32.098031Z",
          "iopub.execute_input": "2023-04-20T06:42:32.099145Z",
          "iopub.status.idle": "2023-04-20T06:42:32.106387Z",
          "shell.execute_reply.started": "2023-04-20T06:42:32.099104Z",
          "shell.execute_reply": "2023-04-20T06:42:32.105247Z"
        },
        "trusted": true
      },
      "execution_count": null,
      "outputs": [
        {
          "execution_count": 16,
          "output_type": "execute_result",
          "data": {
            "text/plain": "(555719, 22)"
          },
          "metadata": {}
        }
      ],
      "id": "0a739f41"
    },
    {
      "cell_type": "markdown",
      "source": [
        "## 2.3 Observations from the training dataframe"
      ],
      "metadata": {
        "id": "136d25da"
      },
      "id": "136d25da"
    },
    {
      "cell_type": "code",
      "source": [
        "df_fraudTrain.head()"
      ],
      "metadata": {
        "colab": {
          "base_uri": "https://localhost:8080/",
          "height": 577
        },
        "id": "5a10bcbf",
        "outputId": "d65453a1-fc1b-4e18-a08f-ade66251dae0",
        "execution": {
          "iopub.status.busy": "2023-04-20T06:42:32.107964Z",
          "iopub.execute_input": "2023-04-20T06:42:32.108697Z",
          "iopub.status.idle": "2023-04-20T06:42:32.150833Z",
          "shell.execute_reply.started": "2023-04-20T06:42:32.108658Z",
          "shell.execute_reply": "2023-04-20T06:42:32.149613Z"
        },
        "trusted": true
      },
      "execution_count": null,
      "outputs": [
        {
          "execution_count": 17,
          "output_type": "execute_result",
          "data": {
            "text/plain": "  trans_date_trans_time            cc_num                            merchant  \\\n0   2019-01-01 00:00:18  2703186189652095          fraud_Rippin, Kub and Mann   \n1   2019-01-01 00:00:44      630423337322     fraud_Heller, Gutmann and Zieme   \n2   2019-01-01 00:00:51    38859492057661                fraud_Lind-Buckridge   \n3   2019-01-01 00:01:16  3534093764340240  fraud_Kutch, Hermiston and Farrell   \n4   2019-01-01 00:03:06   375534208663984                 fraud_Keeling-Crist   \n\n        category     amt      first     last gender  \\\n0       misc_net    4.97   Jennifer    Banks      F   \n1    grocery_pos  107.23  Stephanie     Gill      F   \n2  entertainment  220.11     Edward  Sanchez      M   \n3  gas_transport   45.00     Jeremy    White      M   \n4       misc_pos   41.96      Tyler   Garcia      M   \n\n                         street            city  ...      lat      long  \\\n0                561 Perry Cove  Moravian Falls  ...  36.0788  -81.1781   \n1  43039 Riley Greens Suite 393          Orient  ...  48.8878 -118.2105   \n2      594 White Dale Suite 530      Malad City  ...  42.1808 -112.2620   \n3   9443 Cynthia Court Apt. 038         Boulder  ...  46.2306 -112.1138   \n4              408 Bradley Rest        Doe Hill  ...  38.4207  -79.4629   \n\n   city_pop                                job         dob  \\\n0      3495          Psychologist, counselling  1988-03-09   \n1       149  Special educational needs teacher  1978-06-21   \n2      4154        Nature conservation officer  1962-01-19   \n3      1939                    Patent attorney  1967-01-12   \n4        99     Dance movement psychotherapist  1986-03-28   \n\n                          trans_num   unix_time  merch_lat  merch_long  \\\n0  0b242abb623afc578575680df30655b9  1325376018  36.011293  -82.048315   \n1  1f76529f8574734946361c461b024d99  1325376044  49.159047 -118.186462   \n2  a1a22d70485983eac12b5b88dad1cf95  1325376051  43.150704 -112.154481   \n3  6b849c168bdad6f867558c3793159a81  1325376076  47.034331 -112.561071   \n4  a41d7549acf90789359a9aa5346dcb46  1325376186  38.674999  -78.632459   \n\n   is_fraud  \n0         0  \n1         0  \n2         0  \n3         0  \n4         0  \n\n[5 rows x 22 columns]",
            "text/html": "<div>\n<style scoped>\n    .dataframe tbody tr th:only-of-type {\n        vertical-align: middle;\n    }\n\n    .dataframe tbody tr th {\n        vertical-align: top;\n    }\n\n    .dataframe thead th {\n        text-align: right;\n    }\n</style>\n<table border=\"1\" class=\"dataframe\">\n  <thead>\n    <tr style=\"text-align: right;\">\n      <th></th>\n      <th>trans_date_trans_time</th>\n      <th>cc_num</th>\n      <th>merchant</th>\n      <th>category</th>\n      <th>amt</th>\n      <th>first</th>\n      <th>last</th>\n      <th>gender</th>\n      <th>street</th>\n      <th>city</th>\n      <th>...</th>\n      <th>lat</th>\n      <th>long</th>\n      <th>city_pop</th>\n      <th>job</th>\n      <th>dob</th>\n      <th>trans_num</th>\n      <th>unix_time</th>\n      <th>merch_lat</th>\n      <th>merch_long</th>\n      <th>is_fraud</th>\n    </tr>\n  </thead>\n  <tbody>\n    <tr>\n      <th>0</th>\n      <td>2019-01-01 00:00:18</td>\n      <td>2703186189652095</td>\n      <td>fraud_Rippin, Kub and Mann</td>\n      <td>misc_net</td>\n      <td>4.97</td>\n      <td>Jennifer</td>\n      <td>Banks</td>\n      <td>F</td>\n      <td>561 Perry Cove</td>\n      <td>Moravian Falls</td>\n      <td>...</td>\n      <td>36.0788</td>\n      <td>-81.1781</td>\n      <td>3495</td>\n      <td>Psychologist, counselling</td>\n      <td>1988-03-09</td>\n      <td>0b242abb623afc578575680df30655b9</td>\n      <td>1325376018</td>\n      <td>36.011293</td>\n      <td>-82.048315</td>\n      <td>0</td>\n    </tr>\n    <tr>\n      <th>1</th>\n      <td>2019-01-01 00:00:44</td>\n      <td>630423337322</td>\n      <td>fraud_Heller, Gutmann and Zieme</td>\n      <td>grocery_pos</td>\n      <td>107.23</td>\n      <td>Stephanie</td>\n      <td>Gill</td>\n      <td>F</td>\n      <td>43039 Riley Greens Suite 393</td>\n      <td>Orient</td>\n      <td>...</td>\n      <td>48.8878</td>\n      <td>-118.2105</td>\n      <td>149</td>\n      <td>Special educational needs teacher</td>\n      <td>1978-06-21</td>\n      <td>1f76529f8574734946361c461b024d99</td>\n      <td>1325376044</td>\n      <td>49.159047</td>\n      <td>-118.186462</td>\n      <td>0</td>\n    </tr>\n    <tr>\n      <th>2</th>\n      <td>2019-01-01 00:00:51</td>\n      <td>38859492057661</td>\n      <td>fraud_Lind-Buckridge</td>\n      <td>entertainment</td>\n      <td>220.11</td>\n      <td>Edward</td>\n      <td>Sanchez</td>\n      <td>M</td>\n      <td>594 White Dale Suite 530</td>\n      <td>Malad City</td>\n      <td>...</td>\n      <td>42.1808</td>\n      <td>-112.2620</td>\n      <td>4154</td>\n      <td>Nature conservation officer</td>\n      <td>1962-01-19</td>\n      <td>a1a22d70485983eac12b5b88dad1cf95</td>\n      <td>1325376051</td>\n      <td>43.150704</td>\n      <td>-112.154481</td>\n      <td>0</td>\n    </tr>\n    <tr>\n      <th>3</th>\n      <td>2019-01-01 00:01:16</td>\n      <td>3534093764340240</td>\n      <td>fraud_Kutch, Hermiston and Farrell</td>\n      <td>gas_transport</td>\n      <td>45.00</td>\n      <td>Jeremy</td>\n      <td>White</td>\n      <td>M</td>\n      <td>9443 Cynthia Court Apt. 038</td>\n      <td>Boulder</td>\n      <td>...</td>\n      <td>46.2306</td>\n      <td>-112.1138</td>\n      <td>1939</td>\n      <td>Patent attorney</td>\n      <td>1967-01-12</td>\n      <td>6b849c168bdad6f867558c3793159a81</td>\n      <td>1325376076</td>\n      <td>47.034331</td>\n      <td>-112.561071</td>\n      <td>0</td>\n    </tr>\n    <tr>\n      <th>4</th>\n      <td>2019-01-01 00:03:06</td>\n      <td>375534208663984</td>\n      <td>fraud_Keeling-Crist</td>\n      <td>misc_pos</td>\n      <td>41.96</td>\n      <td>Tyler</td>\n      <td>Garcia</td>\n      <td>M</td>\n      <td>408 Bradley Rest</td>\n      <td>Doe Hill</td>\n      <td>...</td>\n      <td>38.4207</td>\n      <td>-79.4629</td>\n      <td>99</td>\n      <td>Dance movement psychotherapist</td>\n      <td>1986-03-28</td>\n      <td>a41d7549acf90789359a9aa5346dcb46</td>\n      <td>1325376186</td>\n      <td>38.674999</td>\n      <td>-78.632459</td>\n      <td>0</td>\n    </tr>\n  </tbody>\n</table>\n<p>5 rows × 22 columns</p>\n</div>"
          },
          "metadata": {}
        }
      ],
      "id": "5a10bcbf"
    },
    {
      "cell_type": "markdown",
      "source": [
        "#### Shape of the dataframe"
      ],
      "metadata": {
        "id": "84f72527"
      },
      "id": "84f72527"
    },
    {
      "cell_type": "code",
      "source": [
        "df_fraudTrain.shape"
      ],
      "metadata": {
        "colab": {
          "base_uri": "https://localhost:8080/"
        },
        "id": "74419165",
        "outputId": "86207662-b2a3-4730-9a77-aeaafc7dd2b8",
        "execution": {
          "iopub.status.busy": "2023-04-20T06:42:32.152592Z",
          "iopub.execute_input": "2023-04-20T06:42:32.153014Z",
          "iopub.status.idle": "2023-04-20T06:42:32.216657Z",
          "shell.execute_reply.started": "2023-04-20T06:42:32.152976Z",
          "shell.execute_reply": "2023-04-20T06:42:32.215545Z"
        },
        "trusted": true
      },
      "execution_count": null,
      "outputs": [
        {
          "execution_count": 18,
          "output_type": "execute_result",
          "data": {
            "text/plain": "(1296675, 22)"
          },
          "metadata": {}
        }
      ],
      "id": "74419165"
    },
    {
      "cell_type": "markdown",
      "source": [
        "The dataframe consists of **1296675** rows and **22** columns"
      ],
      "metadata": {
        "id": "8a0abfc1"
      },
      "id": "8a0abfc1"
    },
    {
      "cell_type": "markdown",
      "source": [
        "#### Description of the attributes of the dataframe"
      ],
      "metadata": {
        "id": "3e08d198"
      },
      "id": "3e08d198"
    },
    {
      "cell_type": "markdown",
      "source": [
        "trans_date_trans_time: The date and time of the transaction.\n",
        "\n",
        "cc_num: credit card number.\n",
        "\n",
        "merchant: Merchant who was getting paid.\n",
        "\n",
        "category: In what area does that merchant deal.\n",
        "\n",
        "amt: Amount of money in American Dollars.\n",
        "\n",
        "first: first name of the card holder.\n",
        "\n",
        "last: last name of the card holder.\n",
        "\n",
        "gender: Gender of the cardholder.Just male and female!\n",
        "\n",
        "street:Street of card holder residence\n",
        "\n",
        "city:city of card holder residence\n",
        "\n",
        "state:state of card holder residence\n",
        "\n",
        "zip:ZIP code of card holder residence\n",
        "\n",
        "lat:latitude of card holder\n",
        "\n",
        "long:longitude of card holder\n",
        "\n",
        "city_pop:Population of the city\n",
        "\n",
        "job:trade of the card holder\n",
        "\n",
        "dob:Date of birth of the card holder\n",
        "\n",
        "trans_num: Transaction ID\n",
        "\n",
        "unix_time: Unix time which is the time calculated since 1970 to today.\n",
        "\n",
        "merch_lat: latitude of the merchant\n",
        "\n",
        "merch_long:longitude of the merchant\n",
        "\n",
        "is_fraud: Whether the transaction is fraud(1) or not(0)"
      ],
      "metadata": {
        "id": "f0e1cd12"
      },
      "id": "f0e1cd12"
    },
    {
      "cell_type": "code",
      "source": [
        "df_fraudTrain.info()"
      ],
      "metadata": {
        "colab": {
          "base_uri": "https://localhost:8080/"
        },
        "id": "f8226406",
        "outputId": "c9d3a74a-462d-4100-a1c0-82fcc3c04872",
        "execution": {
          "iopub.status.busy": "2023-04-20T06:42:32.218265Z",
          "iopub.execute_input": "2023-04-20T06:42:32.218624Z",
          "iopub.status.idle": "2023-04-20T06:42:32.834246Z",
          "shell.execute_reply.started": "2023-04-20T06:42:32.218587Z",
          "shell.execute_reply": "2023-04-20T06:42:32.832362Z"
        },
        "trusted": true
      },
      "execution_count": null,
      "outputs": [
        {
          "name": "stdout",
          "text": "<class 'pandas.core.frame.DataFrame'>\nInt64Index: 1296675 entries, 0 to 1296674\nData columns (total 22 columns):\n #   Column                 Non-Null Count    Dtype  \n---  ------                 --------------    -----  \n 0   trans_date_trans_time  1296675 non-null  object \n 1   cc_num                 1296675 non-null  int64  \n 2   merchant               1296675 non-null  object \n 3   category               1296675 non-null  object \n 4   amt                    1296675 non-null  float64\n 5   first                  1296675 non-null  object \n 6   last                   1296675 non-null  object \n 7   gender                 1296675 non-null  object \n 8   street                 1296675 non-null  object \n 9   city                   1296675 non-null  object \n 10  state                  1296675 non-null  object \n 11  zip                    1296675 non-null  int64  \n 12  lat                    1296675 non-null  float64\n 13  long                   1296675 non-null  float64\n 14  city_pop               1296675 non-null  int64  \n 15  job                    1296675 non-null  object \n 16  dob                    1296675 non-null  object \n 17  trans_num              1296675 non-null  object \n 18  unix_time              1296675 non-null  int64  \n 19  merch_lat              1296675 non-null  float64\n 20  merch_long             1296675 non-null  float64\n 21  is_fraud               1296675 non-null  int64  \ndtypes: float64(5), int64(5), object(12)\nmemory usage: 227.5+ MB\n",
          "output_type": "stream"
        }
      ],
      "id": "f8226406"
    },
    {
      "cell_type": "markdown",
      "source": [
        "### 3. Data Preparation"
      ],
      "metadata": {
        "id": "77beeb8c"
      },
      "id": "77beeb8c"
    },
    {
      "cell_type": "markdown",
      "source": [
        "#### 3.1 Apply techniques"
      ],
      "metadata": {
        "id": "7a1f0b25"
      },
      "id": "7a1f0b25"
    },
    {
      "cell_type": "markdown",
      "source": [
        "#### Dropping irrelevant features"
      ],
      "metadata": {
        "id": "78624c4f"
      },
      "id": "78624c4f"
    },
    {
      "cell_type": "markdown",
      "source": [
        "Based on domain knowledge, the attributes that will not be useful for fraud detection are :\n",
        "\n",
        " - trans_date_trans_time\n",
        " - cc_num\n",
        " - first\n",
        " - last\n",
        " - street\n",
        " - dob\n",
        " - zip\n",
        " - lat\n",
        " - long\n",
        " - trans_num\n",
        " - unix_time\n",
        " - merchant\n",
        " - city\n",
        " - job\n",
        " \n",
        " These attributes can be dropped "
      ],
      "metadata": {
        "id": "f1ad21f8"
      },
      "id": "f1ad21f8"
    },
    {
      "cell_type": "code",
      "source": [
        "df_fraudTrain = df_fraudTrain.drop(columns=[\"trans_date_trans_time\", \"cc_num\", \"first\", \"last\", \"street\", \"dob\", \"zip\", \"lat\", \"long\", \"trans_num\", \"unix_time\", \"merchant\", \"city\", \"job\"], axis=1)"
      ],
      "metadata": {
        "id": "7ac4ddb0",
        "execution": {
          "iopub.status.busy": "2023-04-20T06:42:32.836164Z",
          "iopub.execute_input": "2023-04-20T06:42:32.836544Z",
          "iopub.status.idle": "2023-04-20T06:42:32.880268Z",
          "shell.execute_reply.started": "2023-04-20T06:42:32.836506Z",
          "shell.execute_reply": "2023-04-20T06:42:32.879016Z"
        },
        "trusted": true
      },
      "execution_count": null,
      "outputs": [],
      "id": "7ac4ddb0"
    },
    {
      "cell_type": "code",
      "source": [
        "df_fraudTrain.info()"
      ],
      "metadata": {
        "colab": {
          "base_uri": "https://localhost:8080/"
        },
        "id": "1a4d30d9",
        "outputId": "3bc0744c-8534-48a0-da39-c2250ec479eb",
        "execution": {
          "iopub.status.busy": "2023-04-20T06:42:32.883507Z",
          "iopub.execute_input": "2023-04-20T06:42:32.883845Z",
          "iopub.status.idle": "2023-04-20T06:42:33.040399Z",
          "shell.execute_reply.started": "2023-04-20T06:42:32.883815Z",
          "shell.execute_reply": "2023-04-20T06:42:33.039066Z"
        },
        "trusted": true
      },
      "execution_count": null,
      "outputs": [
        {
          "name": "stdout",
          "text": "<class 'pandas.core.frame.DataFrame'>\nInt64Index: 1296675 entries, 0 to 1296674\nData columns (total 8 columns):\n #   Column      Non-Null Count    Dtype  \n---  ------      --------------    -----  \n 0   category    1296675 non-null  object \n 1   amt         1296675 non-null  float64\n 2   gender      1296675 non-null  object \n 3   state       1296675 non-null  object \n 4   city_pop    1296675 non-null  int64  \n 5   merch_lat   1296675 non-null  float64\n 6   merch_long  1296675 non-null  float64\n 7   is_fraud    1296675 non-null  int64  \ndtypes: float64(3), int64(2), object(3)\nmemory usage: 89.0+ MB\n",
          "output_type": "stream"
        }
      ],
      "id": "1a4d30d9"
    },
    {
      "cell_type": "markdown",
      "source": [
        "It can be observed that the irrelevant features have been dropped"
      ],
      "metadata": {
        "id": "2d30cdd3"
      },
      "id": "2d30cdd3"
    },
    {
      "cell_type": "markdown",
      "source": [
        "#### Checking for duplicate rows"
      ],
      "metadata": {
        "id": "71623a8b"
      },
      "id": "71623a8b"
    },
    {
      "cell_type": "code",
      "source": [
        "df_fraudTrain.duplicated().sum()"
      ],
      "metadata": {
        "colab": {
          "base_uri": "https://localhost:8080/"
        },
        "id": "f1f73d08",
        "outputId": "784e2aa2-b065-4cce-f8a5-b91b84bd3aaf",
        "execution": {
          "iopub.status.busy": "2023-04-20T06:42:33.042250Z",
          "iopub.execute_input": "2023-04-20T06:42:33.042685Z",
          "iopub.status.idle": "2023-04-20T06:42:33.887634Z",
          "shell.execute_reply.started": "2023-04-20T06:42:33.042642Z",
          "shell.execute_reply": "2023-04-20T06:42:33.886491Z"
        },
        "trusted": true
      },
      "execution_count": null,
      "outputs": [
        {
          "execution_count": 22,
          "output_type": "execute_result",
          "data": {
            "text/plain": "0"
          },
          "metadata": {}
        }
      ],
      "id": "f1f73d08"
    },
    {
      "cell_type": "markdown",
      "source": [
        "There are no duplicate rows in the dataframe"
      ],
      "metadata": {
        "id": "33d860d9"
      },
      "id": "33d860d9"
    },
    {
      "cell_type": "code",
      "source": [
        "print(\"Value count for feature is_fraud\")\n",
        "print(df_fraudTrain['is_fraud'].value_counts())"
      ],
      "metadata": {
        "colab": {
          "base_uri": "https://localhost:8080/"
        },
        "id": "9781e69b",
        "outputId": "40a0dd9d-b09e-491d-9a87-0ab83e5a8d17",
        "execution": {
          "iopub.status.busy": "2023-04-20T06:42:33.890621Z",
          "iopub.execute_input": "2023-04-20T06:42:33.890990Z",
          "iopub.status.idle": "2023-04-20T06:42:33.908669Z",
          "shell.execute_reply.started": "2023-04-20T06:42:33.890960Z",
          "shell.execute_reply": "2023-04-20T06:42:33.907411Z"
        },
        "trusted": true
      },
      "execution_count": null,
      "outputs": [
        {
          "name": "stdout",
          "text": "Value count for feature is_fraud\n0    1289169\n1       7506\nName: is_fraud, dtype: int64\n",
          "output_type": "stream"
        }
      ],
      "id": "9781e69b"
    },
    {
      "cell_type": "code",
      "source": [
        "plt.figure(figsize=(6,6))\n",
        "plt.ticklabel_format(style='plain')\n",
        "sns.countplot(x= 'is_fraud', data=df_fraudTrain)"
      ],
      "metadata": {
        "colab": {
          "base_uri": "https://localhost:8080/",
          "height": 559
        },
        "id": "02BZup7tcZbd",
        "outputId": "5cf7e67a-0f08-4d48-e5e9-77f7e637f133",
        "execution": {
          "iopub.status.busy": "2023-04-20T06:42:33.910301Z",
          "iopub.execute_input": "2023-04-20T06:42:33.910970Z",
          "iopub.status.idle": "2023-04-20T06:42:34.242855Z",
          "shell.execute_reply.started": "2023-04-20T06:42:33.910932Z",
          "shell.execute_reply": "2023-04-20T06:42:34.241751Z"
        },
        "trusted": true
      },
      "execution_count": null,
      "outputs": [
        {
          "execution_count": 24,
          "output_type": "execute_result",
          "data": {
            "text/plain": "<AxesSubplot:xlabel='is_fraud', ylabel='count'>"
          },
          "metadata": {}
        },
        {
          "output_type": "display_data",
          "data": {
            "text/plain": "<Figure size 600x600 with 1 Axes>",
            "image/png": "[encoded data removed]"
          },
          "metadata": {}
        }
      ],
      "id": "02BZup7tcZbd"
    },
    {
      "cell_type": "markdown",
      "source": [
        "It can be observe that the dataframe is highly imbalanced. There are **1289169** counts of genuine transactions whereas **7506** counts for fraud transactions. The dataset will need to be balanced"
      ],
      "metadata": {
        "id": "ebbded5a"
      },
      "id": "ebbded5a"
    },
    {
      "cell_type": "code",
      "source": [
        "print(\"Value count for feature gender\")\n",
        "print(df_fraudTrain['gender'].value_counts())"
      ],
      "metadata": {
        "colab": {
          "base_uri": "https://localhost:8080/"
        },
        "id": "f7thHAoYoQlI",
        "outputId": "d37810cb-058c-4ac5-e6c6-b4118060eded",
        "execution": {
          "iopub.status.busy": "2023-04-20T06:42:34.244506Z",
          "iopub.execute_input": "2023-04-20T06:42:34.246166Z",
          "iopub.status.idle": "2023-04-20T06:42:34.299197Z",
          "shell.execute_reply.started": "2023-04-20T06:42:34.246123Z",
          "shell.execute_reply": "2023-04-20T06:42:34.298249Z"
        },
        "trusted": true
      },
      "execution_count": null,
      "outputs": [
        {
          "name": "stdout",
          "text": "Value count for feature gender\nF    709863\nM    586812\nName: gender, dtype: int64\n",
          "output_type": "stream"
        }
      ],
      "id": "f7thHAoYoQlI"
    },
    {
      "cell_type": "code",
      "source": [
        "plt.figure(figsize=(6,6))\n",
        "plt.ticklabel_format(style='plain')\n",
        "sns.countplot(x='gender', data=df_fraudTrain)"
      ],
      "metadata": {
        "colab": {
          "base_uri": "https://localhost:8080/",
          "height": 559
        },
        "id": "tMQiPErioQx_",
        "outputId": "396755b6-59eb-48ae-d83a-aebe458d2c50",
        "execution": {
          "iopub.status.busy": "2023-04-20T06:42:34.300651Z",
          "iopub.execute_input": "2023-04-20T06:42:34.301097Z",
          "iopub.status.idle": "2023-04-20T06:42:35.179953Z",
          "shell.execute_reply.started": "2023-04-20T06:42:34.301060Z",
          "shell.execute_reply": "2023-04-20T06:42:35.178977Z"
        },
        "trusted": true
      },
      "execution_count": null,
      "outputs": [
        {
          "execution_count": 26,
          "output_type": "execute_result",
          "data": {
            "text/plain": "<AxesSubplot:xlabel='gender', ylabel='count'>"
          },
          "metadata": {}
        },
        {
          "output_type": "display_data",
          "data": {
            "text/plain": "<Figure size 600x600 with 1 Axes>",
            "image/png": "[encoded data removed]"
          },
          "metadata": {}
        }
      ],
      "id": "tMQiPErioQx_"
    },
    {
      "cell_type": "markdown",
      "source": [
        "It can be observed that there are **709863** females whereas **586812** males:"
      ],
      "metadata": {
        "id": "fc4f6488"
      },
      "id": "fc4f6488"
    },
    {
      "cell_type": "markdown",
      "source": [
        "Now we will clean the training dataset"
      ],
      "metadata": {
        "id": "1e7a654a"
      },
      "id": "1e7a654a"
    },
    {
      "cell_type": "markdown",
      "source": [
        "Checking if there is any missing value in the dataset"
      ],
      "metadata": {
        "id": "ab601fb9"
      },
      "id": "ab601fb9"
    },
    {
      "cell_type": "code",
      "source": [
        "df_fraudTrain.isnull().sum()"
      ],
      "metadata": {
        "id": "ec6b700f",
        "colab": {
          "base_uri": "https://localhost:8080/"
        },
        "outputId": "8f645ed1-eb80-4a79-9e1c-4552a0ea7b31",
        "execution": {
          "iopub.status.busy": "2023-04-20T06:42:35.182211Z",
          "iopub.execute_input": "2023-04-20T06:42:35.183729Z",
          "iopub.status.idle": "2023-04-20T06:42:35.343559Z",
          "shell.execute_reply.started": "2023-04-20T06:42:35.183687Z",
          "shell.execute_reply": "2023-04-20T06:42:35.342411Z"
        },
        "trusted": true
      },
      "execution_count": null,
      "outputs": [
        {
          "execution_count": 27,
          "output_type": "execute_result",
          "data": {
            "text/plain": "category      0\namt           0\ngender        0\nstate         0\ncity_pop      0\nmerch_lat     0\nmerch_long    0\nis_fraud      0\ndtype: int64"
          },
          "metadata": {}
        }
      ],
      "id": "ec6b700f"
    },
    {
      "cell_type": "markdown",
      "source": [
        "It can be observed there are no missing values in the training dataset"
      ],
      "metadata": {
        "id": "e0c9055c"
      },
      "id": "e0c9055c"
    },
    {
      "cell_type": "code",
      "source": [
        "df_fraudTrain.info()"
      ],
      "metadata": {
        "id": "1bd08cb6",
        "colab": {
          "base_uri": "https://localhost:8080/"
        },
        "outputId": "1bf73fe2-9d04-4c17-d6d1-2598edecba87",
        "execution": {
          "iopub.status.busy": "2023-04-20T06:42:35.352647Z",
          "iopub.execute_input": "2023-04-20T06:42:35.353005Z",
          "iopub.status.idle": "2023-04-20T06:42:35.508007Z",
          "shell.execute_reply.started": "2023-04-20T06:42:35.352974Z",
          "shell.execute_reply": "2023-04-20T06:42:35.506819Z"
        },
        "trusted": true
      },
      "execution_count": null,
      "outputs": [
        {
          "name": "stdout",
          "text": "<class 'pandas.core.frame.DataFrame'>\nInt64Index: 1296675 entries, 0 to 1296674\nData columns (total 8 columns):\n #   Column      Non-Null Count    Dtype  \n---  ------      --------------    -----  \n 0   category    1296675 non-null  object \n 1   amt         1296675 non-null  float64\n 2   gender      1296675 non-null  object \n 3   state       1296675 non-null  object \n 4   city_pop    1296675 non-null  int64  \n 5   merch_lat   1296675 non-null  float64\n 6   merch_long  1296675 non-null  float64\n 7   is_fraud    1296675 non-null  int64  \ndtypes: float64(3), int64(2), object(3)\nmemory usage: 89.0+ MB\n",
          "output_type": "stream"
        }
      ],
      "id": "1bd08cb6"
    },
    {
      "cell_type": "markdown",
      "source": [
        "It can be observed that there are **1296675** rows in the training dataset"
      ],
      "metadata": {
        "id": "b91b9e79"
      },
      "id": "b91b9e79"
    },
    {
      "cell_type": "markdown",
      "source": [
        "#### Extracting the continuous features from the data"
      ],
      "metadata": {
        "id": "21ca5b8d"
      },
      "id": "21ca5b8d"
    },
    {
      "cell_type": "code",
      "source": [
        "continuous_features = [feature for feature in df_fraudTrain.select_dtypes(np.number).columns if feature not in ['merch_lat', 'merch_long', 'is_fraud']]"
      ],
      "metadata": {
        "id": "f5993cca",
        "execution": {
          "iopub.status.busy": "2023-04-20T06:42:35.509471Z",
          "iopub.execute_input": "2023-04-20T06:42:35.509972Z",
          "iopub.status.idle": "2023-04-20T06:42:35.527618Z",
          "shell.execute_reply.started": "2023-04-20T06:42:35.509930Z",
          "shell.execute_reply": "2023-04-20T06:42:35.526350Z"
        },
        "trusted": true
      },
      "execution_count": null,
      "outputs": [],
      "id": "f5993cca"
    },
    {
      "cell_type": "code",
      "source": [
        "continuous_features"
      ],
      "metadata": {
        "id": "8a7eee70",
        "colab": {
          "base_uri": "https://localhost:8080/"
        },
        "outputId": "afcae39a-7f4a-4adc-ebd6-6ba0fcc8ecf6",
        "execution": {
          "iopub.status.busy": "2023-04-20T06:42:35.529013Z",
          "iopub.execute_input": "2023-04-20T06:42:35.529486Z",
          "iopub.status.idle": "2023-04-20T06:42:35.539924Z",
          "shell.execute_reply.started": "2023-04-20T06:42:35.529433Z",
          "shell.execute_reply": "2023-04-20T06:42:35.538677Z"
        },
        "trusted": true
      },
      "execution_count": null,
      "outputs": [
        {
          "execution_count": 30,
          "output_type": "execute_result",
          "data": {
            "text/plain": "['amt', 'city_pop']"
          },
          "metadata": {}
        }
      ],
      "id": "8a7eee70"
    },
    {
      "cell_type": "markdown",
      "source": [
        "#### Plotting Boxplots to identify Univariate outliers"
      ],
      "metadata": {
        "id": "f9d1eec3"
      },
      "id": "f9d1eec3"
    },
    {
      "cell_type": "code",
      "source": [
        "def create_boxplots(dataset, feature_list, target):\n",
        "    for feature in feature_list:\n",
        "        plt.figure(figsize=(8,8))\n",
        "        plt.subplot(2,2,1)\n",
        "        plt.ticklabel_format(style='plain')\n",
        "        dataset.boxplot(column=feature)\n",
        "        plt.ylabel(feature)\n",
        "        plt.title(feature)\n",
        "        plt.subplot(2,2,2)\n",
        "        plt.ticklabel_format(style='plain')\n",
        "        sns.boxplot(x=dataset[target], y=dataset[feature], data=dataset, hue=target, color='orange')\n",
        "        plt.ylabel(feature)\n",
        "        plt.title(feature)\n",
        "        plt.show()"
      ],
      "metadata": {
        "id": "da543afb",
        "execution": {
          "iopub.status.busy": "2023-04-20T06:42:35.541818Z",
          "iopub.execute_input": "2023-04-20T06:42:35.542367Z",
          "iopub.status.idle": "2023-04-20T06:42:35.554077Z",
          "shell.execute_reply.started": "2023-04-20T06:42:35.542255Z",
          "shell.execute_reply": "2023-04-20T06:42:35.552858Z"
        },
        "trusted": true
      },
      "execution_count": null,
      "outputs": [],
      "id": "da543afb"
    },
    {
      "cell_type": "code",
      "source": [
        "create_boxplots(df_fraudTrain, continuous_features, 'is_fraud')"
      ],
      "metadata": {
        "id": "63087eb1",
        "colab": {
          "base_uri": "https://localhost:8080/",
          "height": 747
        },
        "outputId": "0a5fa218-c774-4050-e560-8b7d2f22f9e3",
        "execution": {
          "iopub.status.busy": "2023-04-20T06:42:35.555355Z",
          "iopub.execute_input": "2023-04-20T06:42:35.555660Z",
          "iopub.status.idle": "2023-04-20T06:42:41.601439Z",
          "shell.execute_reply.started": "2023-04-20T06:42:35.555632Z",
          "shell.execute_reply": "2023-04-20T06:42:41.599013Z"
        },
        "trusted": true
      },
      "execution_count": null,
      "outputs": [
        {
          "output_type": "display_data",
          "data": {
            "text/plain": "<Figure size 800x800 with 2 Axes>",
            "image/png": "[encoded data removed]"
          },
          "metadata": {}
        },
        {
          "output_type": "display_data",
          "data": {
            "text/plain": "<Figure size 800x800 with 2 Axes>",
            "image/png": "[encoded data removed]"
          },
          "metadata": {}
        }
      ],
      "id": "63087eb1"
    },
    {
      "cell_type": "markdown",
      "source": [
        "From the boxplots, it can be observed that the above continuous features have univariate outliers"
      ],
      "metadata": {
        "id": "8b68243d"
      },
      "id": "8b68243d"
    },
    {
      "cell_type": "markdown",
      "source": [
        "#### Plotting histograms and distplots to check the distributions of continuous variables"
      ],
      "metadata": {
        "id": "8bfe4e3c"
      },
      "id": "8bfe4e3c"
    },
    {
      "cell_type": "code",
      "source": [
        "def create_histograms_distplots(dataset, feature_list):\n",
        "    for feature in feature_list:\n",
        "        plt.figure(figsize=(10,10))\n",
        "        plt.subplot(2,2,1)\n",
        "        plt.ticklabel_format(style='plain')\n",
        "        plt.hist(dataset[feature].dropna())\n",
        "        plt.xlabel(feature)\n",
        "        plt.ylabel(feature)\n",
        "        plt.title(feature)\n",
        "        plt.subplot(2,2,2)\n",
        "        plt.ticklabel_format(style='plain')\n",
        "        sns.distplot(dataset[feature])\n",
        "        plt.xlabel(feature)\n",
        "        plt.show()"
      ],
      "metadata": {
        "id": "e7b60464",
        "execution": {
          "iopub.status.busy": "2023-04-20T06:42:41.603045Z",
          "iopub.execute_input": "2023-04-20T06:42:41.604176Z",
          "iopub.status.idle": "2023-04-20T06:42:41.613496Z",
          "shell.execute_reply.started": "2023-04-20T06:42:41.604131Z",
          "shell.execute_reply": "2023-04-20T06:42:41.612251Z"
        },
        "trusted": true
      },
      "execution_count": null,
      "outputs": [],
      "id": "e7b60464"
    },
    {
      "cell_type": "code",
      "source": [
        "create_histograms_distplots(df_fraudTrain, continuous_features)"
      ],
      "metadata": {
        "id": "32ff04ab",
        "colab": {
          "base_uri": "https://localhost:8080/",
          "height": 887
        },
        "outputId": "f1eb4862-c5f2-4c2d-b409-45425fae19f5",
        "execution": {
          "iopub.status.busy": "2023-04-20T06:42:41.615442Z",
          "iopub.execute_input": "2023-04-20T06:42:41.615982Z",
          "iopub.status.idle": "2023-04-20T06:42:51.907019Z",
          "shell.execute_reply.started": "2023-04-20T06:42:41.615932Z",
          "shell.execute_reply": "2023-04-20T06:42:51.905918Z"
        },
        "trusted": true
      },
      "execution_count": null,
      "outputs": [
        {
          "output_type": "display_data",
          "data": {
            "text/plain": "<Figure size 1000x1000 with 2 Axes>",
            "image/png": "[encoded data removed]"
          },
          "metadata": {}
        },
        {
          "output_type": "display_data",
          "data": {
            "text/plain": "<Figure size 1000x1000 with 2 Axes>",
            "image/png": "[encoded data removed]"
          },
          "metadata": {}
        }
      ],
      "id": "32ff04ab"
    },
    {
      "cell_type": "markdown",
      "source": [
        "From the above histograms and distplots, it can be observed that the above continuous features have skewness"
      ],
      "metadata": {
        "id": "6030bb65"
      },
      "id": "6030bb65"
    },
    {
      "cell_type": "markdown",
      "source": [
        "#### Plotting a Heatmap for correlation analysis"
      ],
      "metadata": {
        "id": "8048b09f"
      },
      "id": "8048b09f"
    },
    {
      "cell_type": "code",
      "source": [
        "plt.figure(figsize=(10,10))\n",
        "sns.heatmap(df_fraudTrain.corr(), annot=True, cmap=\"RdYlGn\")"
      ],
      "metadata": {
        "id": "ba4bb523",
        "colab": {
          "base_uri": "https://localhost:8080/",
          "height": 853
        },
        "outputId": "5cb5a15b-2ec5-4939-abef-50d2614ff099",
        "execution": {
          "iopub.status.busy": "2023-04-20T06:42:51.908780Z",
          "iopub.execute_input": "2023-04-20T06:42:51.909576Z",
          "iopub.status.idle": "2023-04-20T06:42:52.406531Z",
          "shell.execute_reply.started": "2023-04-20T06:42:51.909531Z",
          "shell.execute_reply": "2023-04-20T06:42:52.405412Z"
        },
        "trusted": true
      },
      "execution_count": null,
      "outputs": [
        {
          "execution_count": 35,
          "output_type": "execute_result",
          "data": {
            "text/plain": "<AxesSubplot:>"
          },
          "metadata": {}
        },
        {
          "output_type": "display_data",
          "data": {
            "text/plain": "<Figure size 1000x1000 with 2 Axes>",
            "image/png": "[encoded data removed]"
          },
          "metadata": {}
        }
      ],
      "id": "ba4bb523"
    },
    {
      "cell_type": "markdown",
      "source": [
        "The correlation analysis using heatmap shows values of pearson correlation coefficient for the respective combinations of the features. The pearson correlation coefficient varies from -1 to 1. The stronger the negative value, the more inversely related are the features. The stronger the positive value, the stronger the direct relationship between the features. A value of zero means the features are independent of each other.\n",
        "\n",
        "The correlation analysis will have effect on the feature selection. The combination of features which are strongly and directly related to each other need to be considered. One of such features can be dropped as all of such features will have the same impact on the target feature."
      ],
      "metadata": {
        "id": "14049fb0"
      },
      "id": "14049fb0"
    },
    {
      "cell_type": "markdown",
      "source": [
        "#### Creating Pivot table"
      ],
      "metadata": {
        "id": "76f551da"
      },
      "id": "76f551da"
    },
    {
      "cell_type": "code",
      "source": [
        "pd.pivot_table(df_fraudTrain, index='is_fraud', values=['amt', 'city_pop', 'merch_lat', 'merch_long'], aggfunc=['median'])"
      ],
      "metadata": {
        "id": "9af802c8",
        "colab": {
          "base_uri": "https://localhost:8080/",
          "height": 175
        },
        "outputId": "8dbdf87c-ba56-4453-c982-a70246a52329",
        "execution": {
          "iopub.status.busy": "2023-04-20T06:42:52.408166Z",
          "iopub.execute_input": "2023-04-20T06:42:52.409238Z",
          "iopub.status.idle": "2023-04-20T06:42:52.587758Z",
          "shell.execute_reply.started": "2023-04-20T06:42:52.409198Z",
          "shell.execute_reply": "2023-04-20T06:42:52.586419Z"
        },
        "trusted": true
      },
      "execution_count": null,
      "outputs": [
        {
          "execution_count": 36,
          "output_type": "execute_result",
          "data": {
            "text/plain": "           median                               \n              amt city_pop  merch_lat merch_long\nis_fraud                                        \n0          47.280     2456  39.365283 -87.440911\n1         396.505     2623  39.427008 -86.813044",
            "text/html": "<div>\n<style scoped>\n    .dataframe tbody tr th:only-of-type {\n        vertical-align: middle;\n    }\n\n    .dataframe tbody tr th {\n        vertical-align: top;\n    }\n\n    .dataframe thead tr th {\n        text-align: left;\n    }\n\n    .dataframe thead tr:last-of-type th {\n        text-align: right;\n    }\n</style>\n<table border=\"1\" class=\"dataframe\">\n  <thead>\n    <tr>\n      <th></th>\n      <th colspan=\"4\" halign=\"left\">median</th>\n    </tr>\n    <tr>\n      <th></th>\n      <th>amt</th>\n      <th>city_pop</th>\n      <th>merch_lat</th>\n      <th>merch_long</th>\n    </tr>\n    <tr>\n      <th>is_fraud</th>\n      <th></th>\n      <th></th>\n      <th></th>\n      <th></th>\n    </tr>\n  </thead>\n  <tbody>\n    <tr>\n      <th>0</th>\n      <td>47.280</td>\n      <td>2456</td>\n      <td>39.365283</td>\n      <td>-87.440911</td>\n    </tr>\n    <tr>\n      <th>1</th>\n      <td>396.505</td>\n      <td>2623</td>\n      <td>39.427008</td>\n      <td>-86.813044</td>\n    </tr>\n  </tbody>\n</table>\n</div>"
          },
          "metadata": {}
        }
      ],
      "id": "9af802c8"
    },
    {
      "cell_type": "markdown",
      "source": [
        "It can be observed that fraud transactions correspond to a much higher median **amt(amount)**. This implies that when the transaction amount is high, it is more likely for the transaction to be fraudulent"
      ],
      "metadata": {
        "id": "9522432a"
      },
      "id": "9522432a"
    },
    {
      "cell_type": "code",
      "source": [
        "pd.pivot_table(df_fraudTrain, index='gender', values=['amt', 'city_pop', 'merch_lat', 'merch_long'], aggfunc='median')"
      ],
      "metadata": {
        "id": "d4abeb49",
        "colab": {
          "base_uri": "https://localhost:8080/",
          "height": 143
        },
        "outputId": "57fb497b-b4fc-4d3d-e0e0-ff2fa53c2b1e",
        "execution": {
          "iopub.status.busy": "2023-04-20T06:42:52.590631Z",
          "iopub.execute_input": "2023-04-20T06:42:52.591481Z",
          "iopub.status.idle": "2023-04-20T06:42:52.860699Z",
          "shell.execute_reply.started": "2023-04-20T06:42:52.591417Z",
          "shell.execute_reply": "2023-04-20T06:42:52.859517Z"
        },
        "trusted": true
      },
      "execution_count": null,
      "outputs": [
        {
          "execution_count": 37,
          "output_type": "execute_result",
          "data": {
            "text/plain": "          amt  city_pop  merch_lat  merch_long\ngender                                        \nF       43.44      2303  39.142939  -88.546272\nM       51.67      3032  39.631915  -86.574155",
            "text/html": "<div>\n<style scoped>\n    .dataframe tbody tr th:only-of-type {\n        vertical-align: middle;\n    }\n\n    .dataframe tbody tr th {\n        vertical-align: top;\n    }\n\n    .dataframe thead th {\n        text-align: right;\n    }\n</style>\n<table border=\"1\" class=\"dataframe\">\n  <thead>\n    <tr style=\"text-align: right;\">\n      <th></th>\n      <th>amt</th>\n      <th>city_pop</th>\n      <th>merch_lat</th>\n      <th>merch_long</th>\n    </tr>\n    <tr>\n      <th>gender</th>\n      <th></th>\n      <th></th>\n      <th></th>\n      <th></th>\n    </tr>\n  </thead>\n  <tbody>\n    <tr>\n      <th>F</th>\n      <td>43.44</td>\n      <td>2303</td>\n      <td>39.142939</td>\n      <td>-88.546272</td>\n    </tr>\n    <tr>\n      <th>M</th>\n      <td>51.67</td>\n      <td>3032</td>\n      <td>39.631915</td>\n      <td>-86.574155</td>\n    </tr>\n  </tbody>\n</table>\n</div>"
          },
          "metadata": {}
        }
      ],
      "id": "d4abeb49"
    },
    {
      "cell_type": "markdown",
      "source": [
        "It can be observed that males correspond to a higher median **amt(transaction amount)** and comprise a higher **city_pop(city population)**. This implies that males spend more and there are more number of males in the considered geographical area"
      ],
      "metadata": {
        "id": "576f5e0e"
      },
      "id": "576f5e0e"
    },
    {
      "cell_type": "code",
      "source": [
        "df_fraudTrain.groupby(['is_fraud', 'gender'])[['gender']].count().sort_values(['is_fraud']).rename(columns={'gender':'Count of males/females'})"
      ],
      "metadata": {
        "id": "aceda8b8",
        "colab": {
          "base_uri": "https://localhost:8080/",
          "height": 206
        },
        "outputId": "4aa30072-1f77-4459-c4a4-bfbb97003fa5",
        "execution": {
          "iopub.status.busy": "2023-04-20T06:42:52.862432Z",
          "iopub.execute_input": "2023-04-20T06:42:52.862853Z",
          "iopub.status.idle": "2023-04-20T06:42:53.041439Z",
          "shell.execute_reply.started": "2023-04-20T06:42:52.862821Z",
          "shell.execute_reply": "2023-04-20T06:42:53.040334Z"
        },
        "trusted": true
      },
      "execution_count": null,
      "outputs": [
        {
          "execution_count": 38,
          "output_type": "execute_result",
          "data": {
            "text/plain": "                 Count of males/females\nis_fraud gender                        \n0        F                       706128\n         M                       583041\n1        F                         3735\n         M                         3771",
            "text/html": "<div>\n<style scoped>\n    .dataframe tbody tr th:only-of-type {\n        vertical-align: middle;\n    }\n\n    .dataframe tbody tr th {\n        vertical-align: top;\n    }\n\n    .dataframe thead th {\n        text-align: right;\n    }\n</style>\n<table border=\"1\" class=\"dataframe\">\n  <thead>\n    <tr style=\"text-align: right;\">\n      <th></th>\n      <th></th>\n      <th>Count of males/females</th>\n    </tr>\n    <tr>\n      <th>is_fraud</th>\n      <th>gender</th>\n      <th></th>\n    </tr>\n  </thead>\n  <tbody>\n    <tr>\n      <th rowspan=\"2\" valign=\"top\">0</th>\n      <th>F</th>\n      <td>706128</td>\n    </tr>\n    <tr>\n      <th>M</th>\n      <td>583041</td>\n    </tr>\n    <tr>\n      <th rowspan=\"2\" valign=\"top\">1</th>\n      <th>F</th>\n      <td>3735</td>\n    </tr>\n    <tr>\n      <th>M</th>\n      <td>3771</td>\n    </tr>\n  </tbody>\n</table>\n</div>"
          },
          "metadata": {}
        }
      ],
      "id": "aceda8b8"
    },
    {
      "cell_type": "markdown",
      "source": [
        "The above table shows the count of males/females for genuine and fraudulent transactions"
      ],
      "metadata": {
        "id": "9ce21891"
      },
      "id": "9ce21891"
    },
    {
      "cell_type": "code",
      "source": [
        "df_fraudTrain.groupby(['is_fraud', 'gender'])[['gender']].count().sort_values(['is_fraud']).rename(columns={'gender':'Count of males/females'}).plot(kind='bar')"
      ],
      "metadata": {
        "id": "87794950",
        "colab": {
          "base_uri": "https://localhost:8080/",
          "height": 493
        },
        "outputId": "0af3a8bc-00b8-4dd2-8b6b-29267c83f9b3",
        "execution": {
          "iopub.status.busy": "2023-04-20T06:42:53.042819Z",
          "iopub.execute_input": "2023-04-20T06:42:53.044733Z",
          "iopub.status.idle": "2023-04-20T06:42:53.448619Z",
          "shell.execute_reply.started": "2023-04-20T06:42:53.044684Z",
          "shell.execute_reply": "2023-04-20T06:42:53.447510Z"
        },
        "trusted": true
      },
      "execution_count": null,
      "outputs": [
        {
          "execution_count": 39,
          "output_type": "execute_result",
          "data": {
            "text/plain": "<AxesSubplot:xlabel='is_fraud,gender'>"
          },
          "metadata": {}
        },
        {
          "output_type": "display_data",
          "data": {
            "text/plain": "<Figure size 640x480 with 1 Axes>",
            "image/png": "[encoded data removed]"
          },
          "metadata": {}
        }
      ],
      "id": "87794950"
    },
    {
      "cell_type": "markdown",
      "source": [
        "The above bar chart shows that there is higher count of females than males for genuine transactions. For fraudulent transactions, the number of males and females are approximately the same"
      ],
      "metadata": {
        "id": "bb47ff85"
      },
      "id": "bb47ff85"
    },
    {
      "cell_type": "code",
      "source": [
        "df_fraudTrain.head()"
      ],
      "metadata": {
        "id": "873b30d7",
        "colab": {
          "base_uri": "https://localhost:8080/",
          "height": 206
        },
        "outputId": "7692602d-eb83-410a-8b8b-0346649e1768",
        "execution": {
          "iopub.status.busy": "2023-04-20T06:42:53.450253Z",
          "iopub.execute_input": "2023-04-20T06:42:53.450631Z",
          "iopub.status.idle": "2023-04-20T06:42:53.465634Z",
          "shell.execute_reply.started": "2023-04-20T06:42:53.450592Z",
          "shell.execute_reply": "2023-04-20T06:42:53.464517Z"
        },
        "trusted": true
      },
      "execution_count": null,
      "outputs": [
        {
          "execution_count": 40,
          "output_type": "execute_result",
          "data": {
            "text/plain": "        category     amt gender state  city_pop  merch_lat  merch_long  \\\n0       misc_net    4.97      F    NC      3495  36.011293  -82.048315   \n1    grocery_pos  107.23      F    WA       149  49.159047 -118.186462   \n2  entertainment  220.11      M    ID      4154  43.150704 -112.154481   \n3  gas_transport   45.00      M    MT      1939  47.034331 -112.561071   \n4       misc_pos   41.96      M    VA        99  38.674999  -78.632459   \n\n   is_fraud  \n0         0  \n1         0  \n2         0  \n3         0  \n4         0  ",
            "text/html": "<div>\n<style scoped>\n    .dataframe tbody tr th:only-of-type {\n        vertical-align: middle;\n    }\n\n    .dataframe tbody tr th {\n        vertical-align: top;\n    }\n\n    .dataframe thead th {\n        text-align: right;\n    }\n</style>\n<table border=\"1\" class=\"dataframe\">\n  <thead>\n    <tr style=\"text-align: right;\">\n      <th></th>\n      <th>category</th>\n      <th>amt</th>\n      <th>gender</th>\n      <th>state</th>\n      <th>city_pop</th>\n      <th>merch_lat</th>\n      <th>merch_long</th>\n      <th>is_fraud</th>\n    </tr>\n  </thead>\n  <tbody>\n    <tr>\n      <th>0</th>\n      <td>misc_net</td>\n      <td>4.97</td>\n      <td>F</td>\n      <td>NC</td>\n      <td>3495</td>\n      <td>36.011293</td>\n      <td>-82.048315</td>\n      <td>0</td>\n    </tr>\n    <tr>\n      <th>1</th>\n      <td>grocery_pos</td>\n      <td>107.23</td>\n      <td>F</td>\n      <td>WA</td>\n      <td>149</td>\n      <td>49.159047</td>\n      <td>-118.186462</td>\n      <td>0</td>\n    </tr>\n    <tr>\n      <th>2</th>\n      <td>entertainment</td>\n      <td>220.11</td>\n      <td>M</td>\n      <td>ID</td>\n      <td>4154</td>\n      <td>43.150704</td>\n      <td>-112.154481</td>\n      <td>0</td>\n    </tr>\n    <tr>\n      <th>3</th>\n      <td>gas_transport</td>\n      <td>45.00</td>\n      <td>M</td>\n      <td>MT</td>\n      <td>1939</td>\n      <td>47.034331</td>\n      <td>-112.561071</td>\n      <td>0</td>\n    </tr>\n    <tr>\n      <th>4</th>\n      <td>misc_pos</td>\n      <td>41.96</td>\n      <td>M</td>\n      <td>VA</td>\n      <td>99</td>\n      <td>38.674999</td>\n      <td>-78.632459</td>\n      <td>0</td>\n    </tr>\n  </tbody>\n</table>\n</div>"
          },
          "metadata": {}
        }
      ],
      "id": "873b30d7"
    },
    {
      "cell_type": "code",
      "source": [
        "df_fraudTrain.groupby(['is_fraud', 'category'])[['category']].count().sort_values(['is_fraud']).rename(columns={'category':'Count of merchants'})"
      ],
      "metadata": {
        "id": "7b48a556",
        "colab": {
          "base_uri": "https://localhost:8080/",
          "height": 959
        },
        "outputId": "e19e3b7c-5d27-4367-f69b-6dc8b8ece0b9",
        "execution": {
          "iopub.status.busy": "2023-04-20T06:42:53.467481Z",
          "iopub.execute_input": "2023-04-20T06:42:53.468204Z",
          "iopub.status.idle": "2023-04-20T06:42:53.687597Z",
          "shell.execute_reply.started": "2023-04-20T06:42:53.468157Z",
          "shell.execute_reply": "2023-04-20T06:42:53.686510Z"
        },
        "trusted": true
      },
      "execution_count": null,
      "outputs": [
        {
          "execution_count": 41,
          "output_type": "execute_result",
          "data": {
            "text/plain": "                         Count of merchants\nis_fraud category                          \n0        entertainment                93781\n         shopping_pos                115829\n         shopping_net                 95830\n         personal_care                90538\n         misc_pos                     79405\n         misc_net                     62372\n         kids_pets                   112796\n         travel                       40391\n         health_fitness               85746\n         grocery_pos                 121895\n         grocery_net                  45318\n         gas_transport               131041\n         food_dining                  91310\n         home                        122917\n1        shopping_net                  1713\n         personal_care                  220\n         misc_pos                       250\n         misc_net                       915\n         kids_pets                      239\n         home                           198\n         grocery_net                    134\n         grocery_pos                   1743\n         gas_transport                  618\n         food_dining                    151\n         entertainment                  233\n         shopping_pos                   843\n         health_fitness                 133\n         travel                         116",
            "text/html": "<div>\n<style scoped>\n    .dataframe tbody tr th:only-of-type {\n        vertical-align: middle;\n    }\n\n    .dataframe tbody tr th {\n        vertical-align: top;\n    }\n\n    .dataframe thead th {\n        text-align: right;\n    }\n</style>\n<table border=\"1\" class=\"dataframe\">\n  <thead>\n    <tr style=\"text-align: right;\">\n      <th></th>\n      <th></th>\n      <th>Count of merchants</th>\n    </tr>\n    <tr>\n      <th>is_fraud</th>\n      <th>category</th>\n      <th></th>\n    </tr>\n  </thead>\n  <tbody>\n    <tr>\n      <th rowspan=\"14\" valign=\"top\">0</th>\n      <th>entertainment</th>\n      <td>93781</td>\n    </tr>\n    <tr>\n      <th>shopping_pos</th>\n      <td>115829</td>\n    </tr>\n    <tr>\n      <th>shopping_net</th>\n      <td>95830</td>\n    </tr>\n    <tr>\n      <th>personal_care</th>\n      <td>90538</td>\n    </tr>\n    <tr>\n      <th>misc_pos</th>\n      <td>79405</td>\n    </tr>\n    <tr>\n      <th>misc_net</th>\n      <td>62372</td>\n    </tr>\n    <tr>\n      <th>kids_pets</th>\n      <td>112796</td>\n    </tr>\n    <tr>\n      <th>travel</th>\n      <td>40391</td>\n    </tr>\n    <tr>\n      <th>health_fitness</th>\n      <td>85746</td>\n    </tr>\n    <tr>\n      <th>grocery_pos</th>\n      <td>121895</td>\n    </tr>\n    <tr>\n      <th>grocery_net</th>\n      <td>45318</td>\n    </tr>\n    <tr>\n      <th>gas_transport</th>\n      <td>131041</td>\n    </tr>\n    <tr>\n      <th>food_dining</th>\n      <td>91310</td>\n    </tr>\n    <tr>\n      <th>home</th>\n      <td>122917</td>\n    </tr>\n    <tr>\n      <th rowspan=\"14\" valign=\"top\">1</th>\n      <th>shopping_net</th>\n      <td>1713</td>\n    </tr>\n    <tr>\n      <th>personal_care</th>\n      <td>220</td>\n    </tr>\n    <tr>\n      <th>misc_pos</th>\n      <td>250</td>\n    </tr>\n    <tr>\n      <th>misc_net</th>\n      <td>915</td>\n    </tr>\n    <tr>\n      <th>kids_pets</th>\n      <td>239</td>\n    </tr>\n    <tr>\n      <th>home</th>\n      <td>198</td>\n    </tr>\n    <tr>\n      <th>grocery_net</th>\n      <td>134</td>\n    </tr>\n    <tr>\n      <th>grocery_pos</th>\n      <td>1743</td>\n    </tr>\n    <tr>\n      <th>gas_transport</th>\n      <td>618</td>\n    </tr>\n    <tr>\n      <th>food_dining</th>\n      <td>151</td>\n    </tr>\n    <tr>\n      <th>entertainment</th>\n      <td>233</td>\n    </tr>\n    <tr>\n      <th>shopping_pos</th>\n      <td>843</td>\n    </tr>\n    <tr>\n      <th>health_fitness</th>\n      <td>133</td>\n    </tr>\n    <tr>\n      <th>travel</th>\n      <td>116</td>\n    </tr>\n  </tbody>\n</table>\n</div>"
          },
          "metadata": {}
        }
      ],
      "id": "7b48a556"
    },
    {
      "cell_type": "code",
      "source": [
        "df_fraudTrain.groupby(['is_fraud', 'category'])[['category']].count().sort_values(['is_fraud']).rename(columns={'category':'Count of merchants'}).plot(kind='bar')"
      ],
      "metadata": {
        "id": "18a38052",
        "colab": {
          "base_uri": "https://localhost:8080/",
          "height": 581
        },
        "outputId": "d2a344b6-9856-4f40-9d20-3b9214d39f76",
        "execution": {
          "iopub.status.busy": "2023-04-20T06:42:53.688864Z",
          "iopub.execute_input": "2023-04-20T06:42:53.690331Z",
          "iopub.status.idle": "2023-04-20T06:42:54.317802Z",
          "shell.execute_reply.started": "2023-04-20T06:42:53.690288Z",
          "shell.execute_reply": "2023-04-20T06:42:54.315166Z"
        },
        "trusted": true
      },
      "execution_count": null,
      "outputs": [
        {
          "execution_count": 42,
          "output_type": "execute_result",
          "data": {
            "text/plain": "<AxesSubplot:xlabel='is_fraud,category'>"
          },
          "metadata": {}
        },
        {
          "output_type": "display_data",
          "data": {
            "text/plain": "<Figure size 640x480 with 1 Axes>",
            "image/png": "[encoded data removed]"
          },
          "metadata": {}
        }
      ],
      "id": "18a38052"
    },
    {
      "cell_type": "markdown",
      "source": [
        "#### Handling the outliers"
      ],
      "metadata": {
        "id": "df6b6254"
      },
      "id": "df6b6254"
    },
    {
      "cell_type": "code",
      "source": [
        "def remove_outliers(dataset, list_of_features):\n",
        "    for feature in list_of_features:\n",
        "        IQR = dataset[feature].quantile(0.75)-dataset[feature].quantile(0.25)\n",
        "        lower_bridge = dataset[feature].quantile(0.25) - IQR*(1.5)\n",
        "        upper_bridge = dataset[feature].quantile(0.75) + IQR*(1.5)\n",
        "        dataset.loc[dataset[feature] >= upper_bridge, feature] = upper_bridge\n",
        "        dataset.loc[dataset[feature] <= lower_bridge, feature] = lower_bridge"
      ],
      "metadata": {
        "id": "dac6f36d",
        "execution": {
          "iopub.status.busy": "2023-04-20T06:42:54.320374Z",
          "iopub.execute_input": "2023-04-20T06:42:54.321543Z",
          "iopub.status.idle": "2023-04-20T06:42:54.328090Z",
          "shell.execute_reply.started": "2023-04-20T06:42:54.321497Z",
          "shell.execute_reply": "2023-04-20T06:42:54.326841Z"
        },
        "trusted": true
      },
      "execution_count": null,
      "outputs": [],
      "id": "dac6f36d"
    },
    {
      "cell_type": "code",
      "source": [
        "remove_outliers(df_fraudTrain, continuous_features)"
      ],
      "metadata": {
        "id": "df1b31ae",
        "execution": {
          "iopub.status.busy": "2023-04-20T06:42:54.330155Z",
          "iopub.execute_input": "2023-04-20T06:42:54.330461Z",
          "iopub.status.idle": "2023-04-20T06:42:54.516893Z",
          "shell.execute_reply.started": "2023-04-20T06:42:54.330416Z",
          "shell.execute_reply": "2023-04-20T06:42:54.515741Z"
        },
        "trusted": true
      },
      "execution_count": null,
      "outputs": [],
      "id": "df1b31ae"
    },
    {
      "cell_type": "code",
      "source": [
        "create_boxplots(df_fraudTrain, continuous_features, 'is_fraud')"
      ],
      "metadata": {
        "id": "3159e3dc",
        "colab": {
          "base_uri": "https://localhost:8080/",
          "height": 747
        },
        "outputId": "72853022-c137-4944-85c2-4bfc7e74f513",
        "execution": {
          "iopub.status.busy": "2023-04-20T06:42:54.518624Z",
          "iopub.execute_input": "2023-04-20T06:42:54.519003Z",
          "iopub.status.idle": "2023-04-20T06:42:59.450387Z",
          "shell.execute_reply.started": "2023-04-20T06:42:54.518964Z",
          "shell.execute_reply": "2023-04-20T06:42:59.449412Z"
        },
        "trusted": true
      },
      "execution_count": null,
      "outputs": [
        {
          "output_type": "display_data",
          "data": {
            "text/plain": "<Figure size 800x800 with 2 Axes>",
            "image/png": "[encoded data removed]"
          },
          "metadata": {}
        },
        {
          "output_type": "display_data",
          "data": {
            "text/plain": "<Figure size 800x800 with 2 Axes>",
            "image/png": "[encoded data removed]"
          },
          "metadata": {}
        }
      ],
      "id": "3159e3dc"
    },
    {
      "cell_type": "markdown",
      "source": [
        "The univariate outliers have been treated"
      ],
      "metadata": {
        "id": "5cfde39f"
      },
      "id": "5cfde39f"
    },
    {
      "cell_type": "markdown",
      "source": [
        "### Checking for skewness"
      ],
      "metadata": {
        "id": "15a2db0e"
      },
      "id": "15a2db0e"
    },
    {
      "cell_type": "markdown",
      "source": [
        "Skewness scores to determine skewness in the column"
      ],
      "metadata": {
        "id": "b8c160e4"
      },
      "id": "b8c160e4"
    },
    {
      "cell_type": "code",
      "source": [
        "from scipy.stats import skew"
      ],
      "metadata": {
        "id": "5d34c283",
        "execution": {
          "iopub.status.busy": "2023-04-20T06:42:59.451792Z",
          "iopub.execute_input": "2023-04-20T06:42:59.452570Z",
          "iopub.status.idle": "2023-04-20T06:42:59.460026Z",
          "shell.execute_reply.started": "2023-04-20T06:42:59.452524Z",
          "shell.execute_reply": "2023-04-20T06:42:59.458984Z"
        },
        "trusted": true
      },
      "execution_count": null,
      "outputs": [],
      "id": "5d34c283"
    },
    {
      "cell_type": "code",
      "source": [
        "def skewness_score(dataset, feature_list):\n",
        "    variables = []\n",
        "    skew_scores = []\n",
        "    for feature in feature_list:\n",
        "        variables.append(feature)\n",
        "        skew_scores.append(skew(dataset[feature]))\n",
        "        skew_dict = {'Feature': variables, 'Skewness Score': skew_scores}\n",
        "        skewness_score = pd.DataFrame(skew_dict)\n",
        "    return skewness_score"
      ],
      "metadata": {
        "id": "c68f360b",
        "execution": {
          "iopub.status.busy": "2023-04-20T06:42:59.461636Z",
          "iopub.execute_input": "2023-04-20T06:42:59.461993Z",
          "iopub.status.idle": "2023-04-20T06:42:59.470827Z",
          "shell.execute_reply.started": "2023-04-20T06:42:59.461957Z",
          "shell.execute_reply": "2023-04-20T06:42:59.469703Z"
        },
        "trusted": true
      },
      "execution_count": null,
      "outputs": [],
      "id": "c68f360b"
    },
    {
      "cell_type": "code",
      "source": [
        "skewness_score(df_fraudTrain, continuous_features)"
      ],
      "metadata": {
        "id": "4d612594",
        "colab": {
          "base_uri": "https://localhost:8080/",
          "height": 112
        },
        "outputId": "fc33a113-5bdd-42c6-cb69-8d1a5d665374",
        "execution": {
          "iopub.status.busy": "2023-04-20T06:42:59.472311Z",
          "iopub.execute_input": "2023-04-20T06:42:59.473033Z",
          "iopub.status.idle": "2023-04-20T06:42:59.514431Z",
          "shell.execute_reply.started": "2023-04-20T06:42:59.472996Z",
          "shell.execute_reply": "2023-04-20T06:42:59.513162Z"
        },
        "trusted": true
      },
      "execution_count": null,
      "outputs": [
        {
          "execution_count": 48,
          "output_type": "execute_result",
          "data": {
            "text/plain": "    Feature  Skewness Score\n0       amt        1.061962\n1  city_pop        1.188108",
            "text/html": "<div>\n<style scoped>\n    .dataframe tbody tr th:only-of-type {\n        vertical-align: middle;\n    }\n\n    .dataframe tbody tr th {\n        vertical-align: top;\n    }\n\n    .dataframe thead th {\n        text-align: right;\n    }\n</style>\n<table border=\"1\" class=\"dataframe\">\n  <thead>\n    <tr style=\"text-align: right;\">\n      <th></th>\n      <th>Feature</th>\n      <th>Skewness Score</th>\n    </tr>\n  </thead>\n  <tbody>\n    <tr>\n      <th>0</th>\n      <td>amt</td>\n      <td>1.061962</td>\n    </tr>\n    <tr>\n      <th>1</th>\n      <td>city_pop</td>\n      <td>1.188108</td>\n    </tr>\n  </tbody>\n</table>\n</div>"
          },
          "metadata": {}
        }
      ],
      "id": "4d612594"
    },
    {
      "cell_type": "markdown",
      "source": [
        "From the distplots and skewness scores, it can be observed that the feature columns **amt** and **city_pop** are considerably skewed. We will remove skewness by performing square root transformation"
      ],
      "metadata": {
        "id": "581e6124"
      },
      "id": "581e6124"
    },
    {
      "cell_type": "code",
      "source": [
        "plt.figure(figsize=(4,4))\n",
        "df_fraudTrain['amt'] = np.sqrt(df_fraudTrain['amt'])\n",
        "sns.distplot(df_fraudTrain['amt'])"
      ],
      "metadata": {
        "id": "f863afbc",
        "colab": {
          "base_uri": "https://localhost:8080/",
          "height": 405
        },
        "outputId": "64eef9a8-5a07-4c49-888b-1eeb1d6f81ab",
        "execution": {
          "iopub.status.busy": "2023-04-20T06:42:59.517110Z",
          "iopub.execute_input": "2023-04-20T06:42:59.518032Z",
          "iopub.status.idle": "2023-04-20T06:43:04.360426Z",
          "shell.execute_reply.started": "2023-04-20T06:42:59.517985Z",
          "shell.execute_reply": "2023-04-20T06:43:04.359363Z"
        },
        "trusted": true
      },
      "execution_count": null,
      "outputs": [
        {
          "execution_count": 49,
          "output_type": "execute_result",
          "data": {
            "text/plain": "<AxesSubplot:xlabel='amt', ylabel='Density'>"
          },
          "metadata": {}
        },
        {
          "output_type": "display_data",
          "data": {
            "text/plain": "<Figure size 400x400 with 1 Axes>",
            "image/png": "[encoded data removed]"
          },
          "metadata": {}
        }
      ],
      "id": "f863afbc"
    },
    {
      "cell_type": "code",
      "source": [
        "plt.figure(figsize=(4,4))\n",
        "df_fraudTrain['city_pop'] = np.sqrt(df_fraudTrain['city_pop'])\n",
        "sns.distplot(df_fraudTrain['city_pop'])"
      ],
      "metadata": {
        "id": "4ca838bd",
        "colab": {
          "base_uri": "https://localhost:8080/",
          "height": 405
        },
        "outputId": "214ed249-c5b2-4fe8-f6ed-e4c7adaa551f",
        "execution": {
          "iopub.status.busy": "2023-04-20T06:43:04.362143Z",
          "iopub.execute_input": "2023-04-20T06:43:04.362812Z",
          "iopub.status.idle": "2023-04-20T06:43:09.459397Z",
          "shell.execute_reply.started": "2023-04-20T06:43:04.362772Z",
          "shell.execute_reply": "2023-04-20T06:43:09.458340Z"
        },
        "trusted": true
      },
      "execution_count": null,
      "outputs": [
        {
          "execution_count": 50,
          "output_type": "execute_result",
          "data": {
            "text/plain": "<AxesSubplot:xlabel='city_pop', ylabel='Density'>"
          },
          "metadata": {}
        },
        {
          "output_type": "display_data",
          "data": {
            "text/plain": "<Figure size 400x400 with 1 Axes>",
            "image/png": "[encoded data removed]"
          },
          "metadata": {}
        }
      ],
      "id": "4ca838bd"
    },
    {
      "cell_type": "markdown",
      "source": [
        "The skewness has been handled"
      ],
      "metadata": {
        "id": "ea2156b9"
      },
      "id": "ea2156b9"
    },
    {
      "cell_type": "markdown",
      "source": [
        "#### Separating the independent and dependent features in the training dataset"
      ],
      "metadata": {
        "id": "ddd754bf"
      },
      "id": "ddd754bf"
    },
    {
      "cell_type": "code",
      "source": [
        "X = df_fraudTrain.iloc[:,:-1]"
      ],
      "metadata": {
        "id": "28ed74e6",
        "execution": {
          "iopub.status.busy": "2023-04-20T06:43:09.460927Z",
          "iopub.execute_input": "2023-04-20T06:43:09.461284Z",
          "iopub.status.idle": "2023-04-20T06:43:09.506775Z",
          "shell.execute_reply.started": "2023-04-20T06:43:09.461246Z",
          "shell.execute_reply": "2023-04-20T06:43:09.505655Z"
        },
        "trusted": true
      },
      "execution_count": null,
      "outputs": [],
      "id": "28ed74e6"
    },
    {
      "cell_type": "code",
      "source": [
        "Y = df_fraudTrain.iloc[:,-1]"
      ],
      "metadata": {
        "id": "ad6209ce",
        "execution": {
          "iopub.status.busy": "2023-04-20T06:43:09.508692Z",
          "iopub.execute_input": "2023-04-20T06:43:09.509126Z",
          "iopub.status.idle": "2023-04-20T06:43:09.515645Z",
          "shell.execute_reply.started": "2023-04-20T06:43:09.509074Z",
          "shell.execute_reply": "2023-04-20T06:43:09.514496Z"
        },
        "trusted": true
      },
      "execution_count": null,
      "outputs": [],
      "id": "ad6209ce"
    },
    {
      "cell_type": "code",
      "source": [
        "X.head()"
      ],
      "metadata": {
        "id": "c1de63eb",
        "colab": {
          "base_uri": "https://localhost:8080/",
          "height": 206
        },
        "outputId": "3c5e755b-90d9-4c8a-fcd0-b8ce2c7803b1",
        "execution": {
          "iopub.status.busy": "2023-04-20T06:43:09.517224Z",
          "iopub.execute_input": "2023-04-20T06:43:09.517619Z",
          "iopub.status.idle": "2023-04-20T06:43:09.535503Z",
          "shell.execute_reply.started": "2023-04-20T06:43:09.517577Z",
          "shell.execute_reply": "2023-04-20T06:43:09.534215Z"
        },
        "trusted": true
      },
      "execution_count": null,
      "outputs": [
        {
          "execution_count": 53,
          "output_type": "execute_result",
          "data": {
            "text/plain": "        category        amt gender state   city_pop  merch_lat  merch_long\n0       misc_net   2.229350      F    NC  59.118525  36.011293  -82.048315\n1    grocery_pos  10.355192      F    WA  12.206556  49.159047 -118.186462\n2  entertainment  13.905934      M    ID  64.451532  43.150704 -112.154481\n3  gas_transport   6.708204      M    MT  44.034078  47.034331 -112.561071\n4       misc_pos   6.477654      M    VA   9.949874  38.674999  -78.632459",
            "text/html": "<div>\n<style scoped>\n    .dataframe tbody tr th:only-of-type {\n        vertical-align: middle;\n    }\n\n    .dataframe tbody tr th {\n        vertical-align: top;\n    }\n\n    .dataframe thead th {\n        text-align: right;\n    }\n</style>\n<table border=\"1\" class=\"dataframe\">\n  <thead>\n    <tr style=\"text-align: right;\">\n      <th></th>\n      <th>category</th>\n      <th>amt</th>\n      <th>gender</th>\n      <th>state</th>\n      <th>city_pop</th>\n      <th>merch_lat</th>\n      <th>merch_long</th>\n    </tr>\n  </thead>\n  <tbody>\n    <tr>\n      <th>0</th>\n      <td>misc_net</td>\n      <td>2.229350</td>\n      <td>F</td>\n      <td>NC</td>\n      <td>59.118525</td>\n      <td>36.011293</td>\n      <td>-82.048315</td>\n    </tr>\n    <tr>\n      <th>1</th>\n      <td>grocery_pos</td>\n      <td>10.355192</td>\n      <td>F</td>\n      <td>WA</td>\n      <td>12.206556</td>\n      <td>49.159047</td>\n      <td>-118.186462</td>\n    </tr>\n    <tr>\n      <th>2</th>\n      <td>entertainment</td>\n      <td>13.905934</td>\n      <td>M</td>\n      <td>ID</td>\n      <td>64.451532</td>\n      <td>43.150704</td>\n      <td>-112.154481</td>\n    </tr>\n    <tr>\n      <th>3</th>\n      <td>gas_transport</td>\n      <td>6.708204</td>\n      <td>M</td>\n      <td>MT</td>\n      <td>44.034078</td>\n      <td>47.034331</td>\n      <td>-112.561071</td>\n    </tr>\n    <tr>\n      <th>4</th>\n      <td>misc_pos</td>\n      <td>6.477654</td>\n      <td>M</td>\n      <td>VA</td>\n      <td>9.949874</td>\n      <td>38.674999</td>\n      <td>-78.632459</td>\n    </tr>\n  </tbody>\n</table>\n</div>"
          },
          "metadata": {}
        }
      ],
      "id": "c1de63eb"
    },
    {
      "cell_type": "code",
      "source": [
        "Y.head()"
      ],
      "metadata": {
        "id": "5ff4193f",
        "colab": {
          "base_uri": "https://localhost:8080/"
        },
        "outputId": "6c927f3a-3bd1-46e2-ab67-8708a31efcc4",
        "execution": {
          "iopub.status.busy": "2023-04-20T06:43:09.537054Z",
          "iopub.execute_input": "2023-04-20T06:43:09.538320Z",
          "iopub.status.idle": "2023-04-20T06:43:09.548886Z",
          "shell.execute_reply.started": "2023-04-20T06:43:09.538283Z",
          "shell.execute_reply": "2023-04-20T06:43:09.547494Z"
        },
        "trusted": true
      },
      "execution_count": null,
      "outputs": [
        {
          "execution_count": 54,
          "output_type": "execute_result",
          "data": {
            "text/plain": "0    0\n1    0\n2    0\n3    0\n4    0\nName: is_fraud, dtype: int64"
          },
          "metadata": {}
        }
      ],
      "id": "5ff4193f"
    },
    {
      "cell_type": "markdown",
      "source": [
        "#### 3.2 Encode categorical data"
      ],
      "metadata": {
        "id": "7053ac2c"
      },
      "id": "7053ac2c"
    },
    {
      "cell_type": "code",
      "source": [
        "categorical_features = [feature for feature in X.select_dtypes(np.object).columns]"
      ],
      "metadata": {
        "id": "58942e94",
        "execution": {
          "iopub.status.busy": "2023-04-20T06:43:09.550739Z",
          "iopub.execute_input": "2023-04-20T06:43:09.551303Z",
          "iopub.status.idle": "2023-04-20T06:43:09.640058Z",
          "shell.execute_reply.started": "2023-04-20T06:43:09.551262Z",
          "shell.execute_reply": "2023-04-20T06:43:09.638921Z"
        },
        "trusted": true
      },
      "execution_count": null,
      "outputs": [],
      "id": "58942e94"
    },
    {
      "cell_type": "code",
      "source": [
        "categorical_features"
      ],
      "metadata": {
        "id": "fb60b17f",
        "colab": {
          "base_uri": "https://localhost:8080/"
        },
        "outputId": "d8af695e-5ade-4fd3-c9b3-5b20cb174c4d",
        "execution": {
          "iopub.status.busy": "2023-04-20T06:43:09.641774Z",
          "iopub.execute_input": "2023-04-20T06:43:09.642171Z",
          "iopub.status.idle": "2023-04-20T06:43:09.650220Z",
          "shell.execute_reply.started": "2023-04-20T06:43:09.642126Z",
          "shell.execute_reply": "2023-04-20T06:43:09.649153Z"
        },
        "trusted": true
      },
      "execution_count": null,
      "outputs": [
        {
          "execution_count": 56,
          "output_type": "execute_result",
          "data": {
            "text/plain": "['category', 'gender', 'state']"
          },
          "metadata": {}
        }
      ],
      "id": "fb60b17f"
    },
    {
      "cell_type": "code",
      "source": [
        "for col in categorical_features:\n",
        "    print('Unique categories in the feature', col, ': ', X[col].nunique())"
      ],
      "metadata": {
        "id": "bbd5c096",
        "colab": {
          "base_uri": "https://localhost:8080/"
        },
        "outputId": "d444c073-3b01-45ae-f6bf-65901de1b40d",
        "execution": {
          "iopub.status.busy": "2023-04-20T06:43:09.651897Z",
          "iopub.execute_input": "2023-04-20T06:43:09.653014Z",
          "iopub.status.idle": "2023-04-20T06:43:09.896133Z",
          "shell.execute_reply.started": "2023-04-20T06:43:09.652972Z",
          "shell.execute_reply": "2023-04-20T06:43:09.894995Z"
        },
        "trusted": true
      },
      "execution_count": null,
      "outputs": [
        {
          "name": "stdout",
          "text": "Unique categories in the feature category :  14\nUnique categories in the feature gender :  2\nUnique categories in the feature state :  51\n",
          "output_type": "stream"
        }
      ],
      "id": "bbd5c096"
    },
    {
      "cell_type": "markdown",
      "source": [
        "It can be observed that the feature **state** has too many categories. So for this feature, we can consider the top 10 categories which are having higher counts than the remaining categories"
      ],
      "metadata": {
        "id": "7a567e4b"
      },
      "id": "7a567e4b"
    },
    {
      "cell_type": "code",
      "source": [
        "def one_hot_top_10(dataset, variable):\n",
        "    top_10 = [x for x in dataset[variable].value_counts().sort_values(ascending=False).head(10).index]\n",
        "    \n",
        "    for label in top_10:\n",
        "        dataset[variable+'_'+label] = np.where(dataset[variable]==label,1,0)"
      ],
      "metadata": {
        "id": "658068ef",
        "execution": {
          "iopub.status.busy": "2023-04-20T06:43:09.897548Z",
          "iopub.execute_input": "2023-04-20T06:43:09.898527Z",
          "iopub.status.idle": "2023-04-20T06:43:09.905951Z",
          "shell.execute_reply.started": "2023-04-20T06:43:09.898485Z",
          "shell.execute_reply": "2023-04-20T06:43:09.904660Z"
        },
        "trusted": true
      },
      "execution_count": null,
      "outputs": [],
      "id": "658068ef"
    },
    {
      "cell_type": "code",
      "source": [
        "one_hot_top_10(X, 'state')"
      ],
      "metadata": {
        "id": "c8722ac7",
        "execution": {
          "iopub.status.busy": "2023-04-20T06:43:09.907644Z",
          "iopub.execute_input": "2023-04-20T06:43:09.908135Z",
          "iopub.status.idle": "2023-04-20T06:43:10.772747Z",
          "shell.execute_reply.started": "2023-04-20T06:43:09.908094Z",
          "shell.execute_reply": "2023-04-20T06:43:10.771673Z"
        },
        "trusted": true
      },
      "execution_count": null,
      "outputs": [],
      "id": "c8722ac7"
    },
    {
      "cell_type": "code",
      "source": [
        "X = X.drop(columns=[\"state\"], axis=1)"
      ],
      "metadata": {
        "id": "edeb8229",
        "execution": {
          "iopub.status.busy": "2023-04-20T06:43:10.774028Z",
          "iopub.execute_input": "2023-04-20T06:43:10.774608Z",
          "iopub.status.idle": "2023-04-20T06:43:10.909075Z",
          "shell.execute_reply.started": "2023-04-20T06:43:10.774565Z",
          "shell.execute_reply": "2023-04-20T06:43:10.907889Z"
        },
        "trusted": true
      },
      "execution_count": null,
      "outputs": [],
      "id": "edeb8229"
    },
    {
      "cell_type": "code",
      "source": [
        "X = pd.get_dummies(X, drop_first=True)"
      ],
      "metadata": {
        "id": "507166e9",
        "execution": {
          "iopub.status.busy": "2023-04-20T06:43:10.910553Z",
          "iopub.execute_input": "2023-04-20T06:43:10.911618Z",
          "iopub.status.idle": "2023-04-20T06:43:11.297657Z",
          "shell.execute_reply.started": "2023-04-20T06:43:10.911579Z",
          "shell.execute_reply": "2023-04-20T06:43:11.296592Z"
        },
        "trusted": true
      },
      "execution_count": null,
      "outputs": [],
      "id": "507166e9"
    },
    {
      "cell_type": "code",
      "source": [
        "X.head(10)"
      ],
      "metadata": {
        "id": "04efa0c5",
        "colab": {
          "base_uri": "https://localhost:8080/",
          "height": 456
        },
        "outputId": "2ef734d8-932a-4c56-c9ab-370a817543fb",
        "execution": {
          "iopub.status.busy": "2023-04-20T06:43:11.299082Z",
          "iopub.execute_input": "2023-04-20T06:43:11.299677Z",
          "iopub.status.idle": "2023-04-20T06:43:11.325802Z",
          "shell.execute_reply.started": "2023-04-20T06:43:11.299636Z",
          "shell.execute_reply": "2023-04-20T06:43:11.324595Z"
        },
        "trusted": true
      },
      "execution_count": null,
      "outputs": [
        {
          "execution_count": 62,
          "output_type": "execute_result",
          "data": {
            "text/plain": "         amt    city_pop  merch_lat  merch_long  state_TX  state_NY  state_PA  \\\n0   2.229350   59.118525  36.011293  -82.048315         0         0         0   \n1  10.355192   12.206556  49.159047 -118.186462         0         0         0   \n2  13.905934   64.451532  43.150704 -112.154481         0         0         0   \n3   6.708204   44.034078  47.034331 -112.561071         0         0         0   \n4   6.477654    9.949874  38.674999  -78.632459         0         0         0   \n5   9.727795   46.454279  40.653382  -76.152667         0         0         1   \n6   6.673829   51.874849  37.162705 -100.153370         0         0         0   \n7   8.464632   77.575769  38.948089  -78.540296         0         0         0   \n8   2.066398   38.366652  40.351813  -79.958146         0         0         1   \n9  13.905934  222.947303  37.179198  -87.485381         0         0         0   \n\n   state_CA  state_OH  state_MI  ...  category_health_fitness  category_home  \\\n0         0         0         0  ...                        0              0   \n1         0         0         0  ...                        0              0   \n2         0         0         0  ...                        0              0   \n3         0         0         0  ...                        0              0   \n4         0         0         0  ...                        0              0   \n5         0         0         0  ...                        0              0   \n6         0         0         0  ...                        0              0   \n7         0         0         0  ...                        0              0   \n8         0         0         0  ...                        0              0   \n9         0         0         0  ...                        0              0   \n\n   category_kids_pets  category_misc_net  category_misc_pos  \\\n0                   0                  1                  0   \n1                   0                  0                  0   \n2                   0                  0                  0   \n3                   0                  0                  0   \n4                   0                  0                  1   \n5                   0                  0                  0   \n6                   0                  0                  0   \n7                   0                  0                  0   \n8                   0                  0                  1   \n9                   0                  0                  0   \n\n   category_personal_care  category_shopping_net  category_shopping_pos  \\\n0                       0                      0                      0   \n1                       0                      0                      0   \n2                       0                      0                      0   \n3                       0                      0                      0   \n4                       0                      0                      0   \n5                       0                      0                      0   \n6                       0                      0                      0   \n7                       0                      0                      0   \n8                       0                      0                      0   \n9                       0                      0                      0   \n\n   category_travel  gender_M  \n0                0         0  \n1                0         0  \n2                0         1  \n3                0         1  \n4                0         1  \n5                0         0  \n6                0         0  \n7                0         1  \n8                0         0  \n9                0         0  \n\n[10 rows x 28 columns]",
            "text/html": "<div>\n<style scoped>\n    .dataframe tbody tr th:only-of-type {\n        vertical-align: middle;\n    }\n\n    .dataframe tbody tr th {\n        vertical-align: top;\n    }\n\n    .dataframe thead th {\n        text-align: right;\n    }\n</style>\n<table border=\"1\" class=\"dataframe\">\n  <thead>\n    <tr style=\"text-align: right;\">\n      <th></th>\n      <th>amt</th>\n      <th>city_pop</th>\n      <th>merch_lat</th>\n      <th>merch_long</th>\n      <th>state_TX</th>\n      <th>state_NY</th>\n      <th>state_PA</th>\n      <th>state_CA</th>\n      <th>state_OH</th>\n      <th>state_MI</th>\n      <th>...</th>\n      <th>category_health_fitness</th>\n      <th>category_home</th>\n      <th>category_kids_pets</th>\n      <th>category_misc_net</th>\n      <th>category_misc_pos</th>\n      <th>category_personal_care</th>\n      <th>category_shopping_net</th>\n      <th>category_shopping_pos</th>\n      <th>category_travel</th>\n      <th>gender_M</th>\n    </tr>\n  </thead>\n  <tbody>\n    <tr>\n      <th>0</th>\n      <td>2.229350</td>\n      <td>59.118525</td>\n      <td>36.011293</td>\n      <td>-82.048315</td>\n      <td>0</td>\n      <td>0</td>\n      <td>0</td>\n      <td>0</td>\n      <td>0</td>\n      <td>0</td>\n      <td>...</td>\n      <td>0</td>\n      <td>0</td>\n      <td>0</td>\n      <td>1</td>\n      <td>0</td>\n      <td>0</td>\n      <td>0</td>\n      <td>0</td>\n      <td>0</td>\n      <td>0</td>\n    </tr>\n    <tr>\n      <th>1</th>\n      <td>10.355192</td>\n      <td>12.206556</td>\n      <td>49.159047</td>\n      <td>-118.186462</td>\n      <td>0</td>\n      <td>0</td>\n      <td>0</td>\n      <td>0</td>\n      <td>0</td>\n      <td>0</td>\n      <td>...</td>\n      <td>0</td>\n      <td>0</td>\n      <td>0</td>\n      <td>0</td>\n      <td>0</td>\n      <td>0</td>\n      <td>0</td>\n      <td>0</td>\n      <td>0</td>\n      <td>0</td>\n    </tr>\n    <tr>\n      <th>2</th>\n      <td>13.905934</td>\n      <td>64.451532</td>\n      <td>43.150704</td>\n      <td>-112.154481</td>\n      <td>0</td>\n      <td>0</td>\n      <td>0</td>\n      <td>0</td>\n      <td>0</td>\n      <td>0</td>\n      <td>...</td>\n      <td>0</td>\n      <td>0</td>\n      <td>0</td>\n      <td>0</td>\n      <td>0</td>\n      <td>0</td>\n      <td>0</td>\n      <td>0</td>\n      <td>0</td>\n      <td>1</td>\n    </tr>\n    <tr>\n      <th>3</th>\n      <td>6.708204</td>\n      <td>44.034078</td>\n      <td>47.034331</td>\n      <td>-112.561071</td>\n      <td>0</td>\n      <td>0</td>\n      <td>0</td>\n      <td>0</td>\n      <td>0</td>\n      <td>0</td>\n      <td>...</td>\n      <td>0</td>\n      <td>0</td>\n      <td>0</td>\n      <td>0</td>\n      <td>0</td>\n      <td>0</td>\n      <td>0</td>\n      <td>0</td>\n      <td>0</td>\n      <td>1</td>\n    </tr>\n    <tr>\n      <th>4</th>\n      <td>6.477654</td>\n      <td>9.949874</td>\n      <td>38.674999</td>\n      <td>-78.632459</td>\n      <td>0</td>\n      <td>0</td>\n      <td>0</td>\n      <td>0</td>\n      <td>0</td>\n      <td>0</td>\n      <td>...</td>\n      <td>0</td>\n      <td>0</td>\n      <td>0</td>\n      <td>0</td>\n      <td>1</td>\n      <td>0</td>\n      <td>0</td>\n      <td>0</td>\n      <td>0</td>\n      <td>1</td>\n    </tr>\n    <tr>\n      <th>5</th>\n      <td>9.727795</td>\n      <td>46.454279</td>\n      <td>40.653382</td>\n      <td>-76.152667</td>\n      <td>0</td>\n      <td>0</td>\n      <td>1</td>\n      <td>0</td>\n      <td>0</td>\n      <td>0</td>\n      <td>...</td>\n      <td>0</td>\n      <td>0</td>\n      <td>0</td>\n      <td>0</td>\n      <td>0</td>\n      <td>0</td>\n      <td>0</td>\n      <td>0</td>\n      <td>0</td>\n      <td>0</td>\n    </tr>\n    <tr>\n      <th>6</th>\n      <td>6.673829</td>\n      <td>51.874849</td>\n      <td>37.162705</td>\n      <td>-100.153370</td>\n      <td>0</td>\n      <td>0</td>\n      <td>0</td>\n      <td>0</td>\n      <td>0</td>\n      <td>0</td>\n      <td>...</td>\n      <td>0</td>\n      <td>0</td>\n      <td>0</td>\n      <td>0</td>\n      <td>0</td>\n      <td>0</td>\n      <td>0</td>\n      <td>0</td>\n      <td>0</td>\n      <td>0</td>\n    </tr>\n    <tr>\n      <th>7</th>\n      <td>8.464632</td>\n      <td>77.575769</td>\n      <td>38.948089</td>\n      <td>-78.540296</td>\n      <td>0</td>\n      <td>0</td>\n      <td>0</td>\n      <td>0</td>\n      <td>0</td>\n      <td>0</td>\n      <td>...</td>\n      <td>0</td>\n      <td>0</td>\n      <td>0</td>\n      <td>0</td>\n      <td>0</td>\n      <td>0</td>\n      <td>0</td>\n      <td>0</td>\n      <td>0</td>\n      <td>1</td>\n    </tr>\n    <tr>\n      <th>8</th>\n      <td>2.066398</td>\n      <td>38.366652</td>\n      <td>40.351813</td>\n      <td>-79.958146</td>\n      <td>0</td>\n      <td>0</td>\n      <td>1</td>\n      <td>0</td>\n      <td>0</td>\n      <td>0</td>\n      <td>...</td>\n      <td>0</td>\n      <td>0</td>\n      <td>0</td>\n      <td>0</td>\n      <td>1</td>\n      <td>0</td>\n      <td>0</td>\n      <td>0</td>\n      <td>0</td>\n      <td>0</td>\n    </tr>\n    <tr>\n      <th>9</th>\n      <td>13.905934</td>\n      <td>222.947303</td>\n      <td>37.179198</td>\n      <td>-87.485381</td>\n      <td>0</td>\n      <td>0</td>\n      <td>0</td>\n      <td>0</td>\n      <td>0</td>\n      <td>0</td>\n      <td>...</td>\n      <td>0</td>\n      <td>0</td>\n      <td>0</td>\n      <td>0</td>\n      <td>0</td>\n      <td>0</td>\n      <td>0</td>\n      <td>0</td>\n      <td>0</td>\n      <td>0</td>\n    </tr>\n  </tbody>\n</table>\n<p>10 rows × 28 columns</p>\n</div>"
          },
          "metadata": {}
        }
      ],
      "id": "04efa0c5"
    },
    {
      "cell_type": "markdown",
      "source": [
        "#### Handling imbalance in the data"
      ],
      "metadata": {
        "id": "a11ce8ab"
      },
      "id": "a11ce8ab"
    },
    {
      "cell_type": "code",
      "source": [
        "print(Y.value_counts())"
      ],
      "metadata": {
        "id": "6a32f02e",
        "colab": {
          "base_uri": "https://localhost:8080/"
        },
        "outputId": "9096f584-8af1-45a7-b2ad-f0417fe8b1e7",
        "execution": {
          "iopub.status.busy": "2023-04-20T06:43:11.327813Z",
          "iopub.execute_input": "2023-04-20T06:43:11.328241Z",
          "iopub.status.idle": "2023-04-20T06:43:11.345295Z",
          "shell.execute_reply.started": "2023-04-20T06:43:11.328197Z",
          "shell.execute_reply": "2023-04-20T06:43:11.344133Z"
        },
        "trusted": true
      },
      "execution_count": null,
      "outputs": [
        {
          "name": "stdout",
          "text": "0    1289169\n1       7506\nName: is_fraud, dtype: int64\n",
          "output_type": "stream"
        }
      ],
      "id": "6a32f02e"
    },
    {
      "cell_type": "markdown",
      "source": [
        "It can be observed that there is a huge imbalance in the target column **is_fraud** in the dataset"
      ],
      "metadata": {
        "id": "65783440"
      },
      "id": "65783440"
    },
    {
      "cell_type": "markdown",
      "source": [
        "We will perform **oversampling** using **SMOTEtomek** technique"
      ],
      "metadata": {
        "id": "1025b4c7"
      },
      "id": "1025b4c7"
    },
    {
      "cell_type": "code",
      "source": [
        "# Installing imblearn library\n",
        "!pip install imblearn"
      ],
      "metadata": {
        "id": "d54d61d1",
        "colab": {
          "base_uri": "https://localhost:8080/"
        },
        "outputId": "8a9e285b-36c1-4de6-ac63-a0d49c1c20f5",
        "execution": {
          "iopub.status.busy": "2023-04-20T06:43:11.347031Z",
          "iopub.execute_input": "2023-04-20T06:43:11.347856Z",
          "iopub.status.idle": "2023-04-20T06:43:22.002226Z",
          "shell.execute_reply.started": "2023-04-20T06:43:11.347807Z",
          "shell.execute_reply": "2023-04-20T06:43:22.000897Z"
        },
        "trusted": true
      },
      "execution_count": null,
      "outputs": [
        {
          "name": "stdout",
          "text": "Collecting imblearn\n  Downloading imblearn-0.0-py2.py3-none-any.whl (1.9 kB)\nRequirement already satisfied: imbalanced-learn in /opt/conda/lib/python3.7/site-packages (from imblearn) (0.10.1)\nRequirement already satisfied: numpy>=1.17.3 in /opt/conda/lib/python3.7/site-packages (from imbalanced-learn->imblearn) (1.21.6)\nRequirement already satisfied: scipy>=1.3.2 in /opt/conda/lib/python3.7/site-packages (from imbalanced-learn->imblearn) (1.7.3)\nRequirement already satisfied: joblib>=1.1.1 in /opt/conda/lib/python3.7/site-packages (from imbalanced-learn->imblearn) (1.2.0)\nRequirement already satisfied: scikit-learn>=1.0.2 in /opt/conda/lib/python3.7/site-packages (from imbalanced-learn->imblearn) (1.0.2)\nRequirement already satisfied: threadpoolctl>=2.0.0 in /opt/conda/lib/python3.7/site-packages (from imbalanced-learn->imblearn) (3.1.0)\nInstalling collected packages: imblearn\nSuccessfully installed imblearn-0.0\n\u001b[33mWARNING: Running pip as the 'root' user can result in broken permissions and conflicting behaviour with the system package manager. It is recommended to use a virtual environment instead: https://pip.pypa.io/warnings/venv\u001b[0m\u001b[33m\n\u001b[0m",
          "output_type": "stream"
        }
      ],
      "id": "d54d61d1"
    },
    {
      "cell_type": "code",
      "source": [
        "# Importing SMOTETomek\n",
        "from imblearn.over_sampling import SMOTE\n",
        "from imblearn.under_sampling import RandomUnderSampler\n",
        "from imblearn.pipeline import Pipeline"
      ],
      "metadata": {
        "id": "ccd55f24",
        "execution": {
          "iopub.status.busy": "2023-04-20T06:43:22.004989Z",
          "iopub.execute_input": "2023-04-20T06:43:22.005482Z",
          "iopub.status.idle": "2023-04-20T06:43:23.004785Z",
          "shell.execute_reply.started": "2023-04-20T06:43:22.005416Z",
          "shell.execute_reply": "2023-04-20T06:43:23.003512Z"
        },
        "trusted": true
      },
      "execution_count": null,
      "outputs": [],
      "id": "ccd55f24"
    },
    {
      "cell_type": "code",
      "source": [
        "# Initializing SMOTE\n",
        "over = SMOTE(sampling_strategy=0.8)\n",
        "under = RandomUnderSampler(sampling_strategy=1)"
      ],
      "metadata": {
        "id": "424c3dd4",
        "execution": {
          "iopub.status.busy": "2023-04-20T06:43:23.006354Z",
          "iopub.execute_input": "2023-04-20T06:43:23.006758Z",
          "iopub.status.idle": "2023-04-20T06:43:23.013568Z",
          "shell.execute_reply.started": "2023-04-20T06:43:23.006701Z",
          "shell.execute_reply": "2023-04-20T06:43:23.012436Z"
        },
        "trusted": true
      },
      "execution_count": null,
      "outputs": [],
      "id": "424c3dd4"
    },
    {
      "cell_type": "code",
      "source": [
        "steps = [('o', over), ('u', under)]\n",
        "pipeline = Pipeline(steps=steps)"
      ],
      "metadata": {
        "id": "yDm5LkR3E4uP",
        "execution": {
          "iopub.status.busy": "2023-04-20T06:43:23.015726Z",
          "iopub.execute_input": "2023-04-20T06:43:23.016607Z",
          "iopub.status.idle": "2023-04-20T06:43:23.026687Z",
          "shell.execute_reply.started": "2023-04-20T06:43:23.016527Z",
          "shell.execute_reply": "2023-04-20T06:43:23.025681Z"
        },
        "trusted": true
      },
      "execution_count": null,
      "outputs": [],
      "id": "yDm5LkR3E4uP"
    },
    {
      "cell_type": "code",
      "source": [
        "# Fitting the training data onto the pipeline\n",
        "X_train, Y_train = pipeline.fit_resample(X, Y)"
      ],
      "metadata": {
        "id": "fc8f834f",
        "execution": {
          "iopub.status.busy": "2023-04-20T06:43:23.027975Z",
          "iopub.execute_input": "2023-04-20T06:43:23.028270Z",
          "iopub.status.idle": "2023-04-20T06:43:28.536630Z",
          "shell.execute_reply.started": "2023-04-20T06:43:23.028242Z",
          "shell.execute_reply": "2023-04-20T06:43:28.535510Z"
        },
        "trusted": true
      },
      "execution_count": null,
      "outputs": [],
      "id": "fc8f834f"
    },
    {
      "cell_type": "code",
      "source": [
        "from collections import Counter"
      ],
      "metadata": {
        "id": "65c72249",
        "execution": {
          "iopub.status.busy": "2023-04-20T06:43:28.538043Z",
          "iopub.execute_input": "2023-04-20T06:43:28.538763Z",
          "iopub.status.idle": "2023-04-20T06:43:28.544384Z",
          "shell.execute_reply.started": "2023-04-20T06:43:28.538720Z",
          "shell.execute_reply": "2023-04-20T06:43:28.543119Z"
        },
        "trusted": true
      },
      "execution_count": null,
      "outputs": [],
      "id": "65c72249"
    },
    {
      "cell_type": "code",
      "source": [
        "print(\"Number of classes after fit {}\".format(Counter(Y_train)))"
      ],
      "metadata": {
        "id": "25604221",
        "colab": {
          "base_uri": "https://localhost:8080/"
        },
        "outputId": "ca3c1c00-46bc-4979-b23c-d2e2d65c433f",
        "execution": {
          "iopub.status.busy": "2023-04-20T06:43:28.547558Z",
          "iopub.execute_input": "2023-04-20T06:43:28.548338Z",
          "iopub.status.idle": "2023-04-20T06:43:28.801282Z",
          "shell.execute_reply.started": "2023-04-20T06:43:28.548298Z",
          "shell.execute_reply": "2023-04-20T06:43:28.799954Z"
        },
        "trusted": true
      },
      "execution_count": null,
      "outputs": [
        {
          "name": "stdout",
          "text": "Number of classes after fit Counter({0: 1031335, 1: 1031335})\n",
          "output_type": "stream"
        }
      ],
      "id": "25604221"
    },
    {
      "cell_type": "markdown",
      "source": [
        "Joining **X_train** and **Y_train** dataframes"
      ],
      "metadata": {
        "id": "962133d3"
      },
      "id": "962133d3"
    },
    {
      "cell_type": "code",
      "source": [
        "df_train = X_train.join(Y_train, how='inner')"
      ],
      "metadata": {
        "id": "fb918060",
        "execution": {
          "iopub.status.busy": "2023-04-20T06:43:28.803546Z",
          "iopub.execute_input": "2023-04-20T06:43:28.804406Z",
          "iopub.status.idle": "2023-04-20T06:43:28.946463Z",
          "shell.execute_reply.started": "2023-04-20T06:43:28.804355Z",
          "shell.execute_reply": "2023-04-20T06:43:28.945323Z"
        },
        "trusted": true
      },
      "execution_count": null,
      "outputs": [],
      "id": "fb918060"
    },
    {
      "cell_type": "code",
      "source": [
        "print(\"Value count for feature is_fraud\")\n",
        "print(df_train['is_fraud'].value_counts())"
      ],
      "metadata": {
        "id": "faa73cb9",
        "colab": {
          "base_uri": "https://localhost:8080/"
        },
        "outputId": "ffbb309e-600d-424e-9c6b-b8431e8003af",
        "execution": {
          "iopub.status.busy": "2023-04-20T06:43:28.948204Z",
          "iopub.execute_input": "2023-04-20T06:43:28.948607Z",
          "iopub.status.idle": "2023-04-20T06:43:28.974266Z",
          "shell.execute_reply.started": "2023-04-20T06:43:28.948567Z",
          "shell.execute_reply": "2023-04-20T06:43:28.973115Z"
        },
        "trusted": true
      },
      "execution_count": null,
      "outputs": [
        {
          "name": "stdout",
          "text": "Value count for feature is_fraud\n0    1031335\n1    1031335\nName: is_fraud, dtype: int64\n",
          "output_type": "stream"
        }
      ],
      "id": "faa73cb9"
    },
    {
      "cell_type": "code",
      "source": [
        "plt.figure(figsize=(4,4))\n",
        "plt.ticklabel_format(style='plain')\n",
        "sns.countplot(x='is_fraud', data=df_train)"
      ],
      "metadata": {
        "id": "SiiXxP6y7ELT",
        "colab": {
          "base_uri": "https://localhost:8080/",
          "height": 405
        },
        "outputId": "fddd462e-52ce-4abb-be12-a3821f50e6e1",
        "execution": {
          "iopub.status.busy": "2023-04-20T06:43:28.976183Z",
          "iopub.execute_input": "2023-04-20T06:43:28.976577Z",
          "iopub.status.idle": "2023-04-20T06:43:29.285595Z",
          "shell.execute_reply.started": "2023-04-20T06:43:28.976539Z",
          "shell.execute_reply": "2023-04-20T06:43:29.284444Z"
        },
        "trusted": true
      },
      "execution_count": null,
      "outputs": [
        {
          "execution_count": 73,
          "output_type": "execute_result",
          "data": {
            "text/plain": "<AxesSubplot:xlabel='is_fraud', ylabel='count'>"
          },
          "metadata": {}
        },
        {
          "output_type": "display_data",
          "data": {
            "text/plain": "<Figure size 400x400 with 1 Axes>",
            "image/png": "[encoded data removed]"
          },
          "metadata": {}
        }
      ],
      "id": "SiiXxP6y7ELT"
    },
    {
      "cell_type": "markdown",
      "source": [
        "It can be observed that the dataset is quite balanced now"
      ],
      "metadata": {
        "id": "38db36ff"
      },
      "id": "38db36ff"
    },
    {
      "cell_type": "markdown",
      "source": [
        "#### 3.3 Feature Engineering"
      ],
      "metadata": {
        "id": "0dc69f9e"
      },
      "id": "0dc69f9e"
    },
    {
      "cell_type": "markdown",
      "source": [
        "Feature Selection is performed to retain only the important features and discard the irrelevant features"
      ],
      "metadata": {
        "id": "772b3b2e"
      },
      "id": "772b3b2e"
    },
    {
      "cell_type": "code",
      "source": [
        "from sklearn.feature_selection import SelectKBest\n",
        "from sklearn.feature_selection import chi2"
      ],
      "metadata": {
        "id": "9979dcea",
        "execution": {
          "iopub.status.busy": "2023-04-20T06:43:29.287380Z",
          "iopub.execute_input": "2023-04-20T06:43:29.287779Z",
          "iopub.status.idle": "2023-04-20T06:43:29.318898Z",
          "shell.execute_reply.started": "2023-04-20T06:43:29.287741Z",
          "shell.execute_reply": "2023-04-20T06:43:29.317736Z"
        },
        "trusted": true
      },
      "execution_count": null,
      "outputs": [],
      "id": "9979dcea"
    },
    {
      "cell_type": "code",
      "source": [
        "X = df_train.iloc[:,:-1]"
      ],
      "metadata": {
        "id": "c8a656a1",
        "execution": {
          "iopub.status.busy": "2023-04-20T06:43:29.320670Z",
          "iopub.execute_input": "2023-04-20T06:43:29.321097Z",
          "iopub.status.idle": "2023-04-20T06:43:29.557037Z",
          "shell.execute_reply.started": "2023-04-20T06:43:29.321062Z",
          "shell.execute_reply": "2023-04-20T06:43:29.555722Z"
        },
        "trusted": true
      },
      "execution_count": null,
      "outputs": [],
      "id": "c8a656a1"
    },
    {
      "cell_type": "code",
      "source": [
        "Y = df_train.iloc[:,-1]"
      ],
      "metadata": {
        "id": "5276ac6e",
        "execution": {
          "iopub.status.busy": "2023-04-20T06:43:29.558930Z",
          "iopub.execute_input": "2023-04-20T06:43:29.559385Z",
          "iopub.status.idle": "2023-04-20T06:43:29.565157Z",
          "shell.execute_reply.started": "2023-04-20T06:43:29.559340Z",
          "shell.execute_reply": "2023-04-20T06:43:29.563839Z"
        },
        "trusted": true
      },
      "execution_count": null,
      "outputs": [],
      "id": "5276ac6e"
    },
    {
      "cell_type": "code",
      "source": [
        "bestfeatures = SelectKBest(score_func = chi2)"
      ],
      "metadata": {
        "id": "fe8d05ba",
        "execution": {
          "iopub.status.busy": "2023-04-20T06:43:29.567435Z",
          "iopub.execute_input": "2023-04-20T06:43:29.567904Z",
          "iopub.status.idle": "2023-04-20T06:43:29.575409Z",
          "shell.execute_reply.started": "2023-04-20T06:43:29.567861Z",
          "shell.execute_reply": "2023-04-20T06:43:29.574246Z"
        },
        "trusted": true
      },
      "execution_count": null,
      "outputs": [],
      "id": "fe8d05ba"
    },
    {
      "cell_type": "markdown",
      "source": [
        "For fitting the data on the feature selection algorithm, we need to consider non-negative values of the data. So we can use **abs(absolute)** function to obtain the absolute positive value"
      ],
      "metadata": {
        "id": "c27ad4f1"
      },
      "id": "c27ad4f1"
    },
    {
      "cell_type": "code",
      "source": [
        "X['merch_long'] = abs(X['merch_long'])"
      ],
      "metadata": {
        "id": "a565831b",
        "execution": {
          "iopub.status.busy": "2023-04-20T06:43:29.577391Z",
          "iopub.execute_input": "2023-04-20T06:43:29.577851Z",
          "iopub.status.idle": "2023-04-20T06:43:29.598795Z",
          "shell.execute_reply.started": "2023-04-20T06:43:29.577797Z",
          "shell.execute_reply": "2023-04-20T06:43:29.597926Z"
        },
        "trusted": true
      },
      "execution_count": null,
      "outputs": [],
      "id": "a565831b"
    },
    {
      "cell_type": "code",
      "source": [
        "X['merch_lat'] = abs(X['merch_lat'])"
      ],
      "metadata": {
        "id": "3861e1c6",
        "execution": {
          "iopub.status.busy": "2023-04-20T06:43:29.600609Z",
          "iopub.execute_input": "2023-04-20T06:43:29.601014Z",
          "iopub.status.idle": "2023-04-20T06:43:29.615661Z",
          "shell.execute_reply.started": "2023-04-20T06:43:29.600975Z",
          "shell.execute_reply": "2023-04-20T06:43:29.614698Z"
        },
        "trusted": true
      },
      "execution_count": null,
      "outputs": [],
      "id": "3861e1c6"
    },
    {
      "cell_type": "code",
      "source": [
        "fit = bestfeatures.fit(X, Y)"
      ],
      "metadata": {
        "id": "24a2d0f1",
        "execution": {
          "iopub.status.busy": "2023-04-20T06:43:29.617341Z",
          "iopub.execute_input": "2023-04-20T06:43:29.617731Z",
          "iopub.status.idle": "2023-04-20T06:43:30.537417Z",
          "shell.execute_reply.started": "2023-04-20T06:43:29.617693Z",
          "shell.execute_reply": "2023-04-20T06:43:30.536342Z"
        },
        "trusted": true
      },
      "execution_count": null,
      "outputs": [],
      "id": "24a2d0f1"
    },
    {
      "cell_type": "code",
      "source": [
        "dfscores = pd.DataFrame(fit.scores_)\n",
        "dfcolumns = pd.DataFrame(X.columns)"
      ],
      "metadata": {
        "id": "724fc58f",
        "execution": {
          "iopub.status.busy": "2023-04-20T06:43:30.539156Z",
          "iopub.execute_input": "2023-04-20T06:43:30.539536Z",
          "iopub.status.idle": "2023-04-20T06:43:30.545599Z",
          "shell.execute_reply.started": "2023-04-20T06:43:30.539491Z",
          "shell.execute_reply": "2023-04-20T06:43:30.544476Z"
        },
        "trusted": true
      },
      "execution_count": null,
      "outputs": [],
      "id": "724fc58f"
    },
    {
      "cell_type": "code",
      "source": [
        "featureScores = pd.concat([dfcolumns, dfscores], axis=1)"
      ],
      "metadata": {
        "id": "12dc70f0",
        "execution": {
          "iopub.status.busy": "2023-04-20T06:43:30.565182Z",
          "iopub.execute_input": "2023-04-20T06:43:30.565880Z",
          "iopub.status.idle": "2023-04-20T06:43:30.572305Z",
          "shell.execute_reply.started": "2023-04-20T06:43:30.565849Z",
          "shell.execute_reply": "2023-04-20T06:43:30.570879Z"
        },
        "trusted": true
      },
      "execution_count": null,
      "outputs": [],
      "id": "12dc70f0"
    },
    {
      "cell_type": "code",
      "source": [
        "featureScores.columns = ['Features', 'Score']"
      ],
      "metadata": {
        "id": "d00c8374",
        "execution": {
          "iopub.status.busy": "2023-04-20T06:43:30.573617Z",
          "iopub.execute_input": "2023-04-20T06:43:30.574129Z",
          "iopub.status.idle": "2023-04-20T06:43:30.584512Z",
          "shell.execute_reply.started": "2023-04-20T06:43:30.574084Z",
          "shell.execute_reply": "2023-04-20T06:43:30.583431Z"
        },
        "trusted": true
      },
      "execution_count": null,
      "outputs": [],
      "id": "d00c8374"
    },
    {
      "cell_type": "code",
      "source": [
        "featureScores.sort_values(by='Score', ascending=False)"
      ],
      "metadata": {
        "id": "98a52917",
        "colab": {
          "base_uri": "https://localhost:8080/",
          "height": 927
        },
        "outputId": "35ac0fa8-2d41-4acc-eb24-aec48622eb07",
        "execution": {
          "iopub.status.busy": "2023-04-20T06:43:30.586167Z",
          "iopub.execute_input": "2023-04-20T06:43:30.586578Z",
          "iopub.status.idle": "2023-04-20T06:43:30.605404Z",
          "shell.execute_reply.started": "2023-04-20T06:43:30.586540Z",
          "shell.execute_reply": "2023-04-20T06:43:30.604127Z"
        },
        "trusted": true
      },
      "execution_count": null,
      "outputs": [
        {
          "execution_count": 84,
          "output_type": "execute_result",
          "data": {
            "text/plain": "                   Features         Score\n0                       amt  1.408400e+06\n19            category_home  8.274972e+04\n20       category_kids_pets  6.860667e+04\n14     category_food_dining  5.920512e+04\n18  category_health_fitness  5.864665e+04\n23   category_personal_care  5.429594e+04\n22        category_misc_pos  4.321557e+04\n16     category_grocery_net  2.835945e+04\n26          category_travel  2.765929e+04\n15   category_gas_transport  2.539097e+04\n25    category_shopping_pos  2.259676e+04\n24    category_shopping_net  1.553052e+04\n1                  city_pop  9.457372e+03\n17     category_grocery_pos  6.993119e+03\n4                  state_TX  1.173963e+03\n13                 state_MO  1.066128e+03\n9                  state_MI  7.260612e+02\n3                merch_long  6.342595e+02\n6                  state_PA  4.720383e+02\n12                 state_AL  4.183893e+02\n21        category_misc_net  3.495622e+02\n2                 merch_lat  2.072733e+02\n11                 state_FL  1.931610e+02\n8                  state_OH  1.136154e+02\n10                 state_IL  9.971386e+01\n5                  state_NY  8.422676e+01\n7                  state_CA  3.197678e+01\n27                 gender_M  3.569507e+00",
            "text/html": "<div>\n<style scoped>\n    .dataframe tbody tr th:only-of-type {\n        vertical-align: middle;\n    }\n\n    .dataframe tbody tr th {\n        vertical-align: top;\n    }\n\n    .dataframe thead th {\n        text-align: right;\n    }\n</style>\n<table border=\"1\" class=\"dataframe\">\n  <thead>\n    <tr style=\"text-align: right;\">\n      <th></th>\n      <th>Features</th>\n      <th>Score</th>\n    </tr>\n  </thead>\n  <tbody>\n    <tr>\n      <th>0</th>\n      <td>amt</td>\n      <td>1.408400e+06</td>\n    </tr>\n    <tr>\n      <th>19</th>\n      <td>category_home</td>\n      <td>8.274972e+04</td>\n    </tr>\n    <tr>\n      <th>20</th>\n      <td>category_kids_pets</td>\n      <td>6.860667e+04</td>\n    </tr>\n    <tr>\n      <th>14</th>\n      <td>category_food_dining</td>\n      <td>5.920512e+04</td>\n    </tr>\n    <tr>\n      <th>18</th>\n      <td>category_health_fitness</td>\n      <td>5.864665e+04</td>\n    </tr>\n    <tr>\n      <th>23</th>\n      <td>category_personal_care</td>\n      <td>5.429594e+04</td>\n    </tr>\n    <tr>\n      <th>22</th>\n      <td>category_misc_pos</td>\n      <td>4.321557e+04</td>\n    </tr>\n    <tr>\n      <th>16</th>\n      <td>category_grocery_net</td>\n      <td>2.835945e+04</td>\n    </tr>\n    <tr>\n      <th>26</th>\n      <td>category_travel</td>\n      <td>2.765929e+04</td>\n    </tr>\n    <tr>\n      <th>15</th>\n      <td>category_gas_transport</td>\n      <td>2.539097e+04</td>\n    </tr>\n    <tr>\n      <th>25</th>\n      <td>category_shopping_pos</td>\n      <td>2.259676e+04</td>\n    </tr>\n    <tr>\n      <th>24</th>\n      <td>category_shopping_net</td>\n      <td>1.553052e+04</td>\n    </tr>\n    <tr>\n      <th>1</th>\n      <td>city_pop</td>\n      <td>9.457372e+03</td>\n    </tr>\n    <tr>\n      <th>17</th>\n      <td>category_grocery_pos</td>\n      <td>6.993119e+03</td>\n    </tr>\n    <tr>\n      <th>4</th>\n      <td>state_TX</td>\n      <td>1.173963e+03</td>\n    </tr>\n    <tr>\n      <th>13</th>\n      <td>state_MO</td>\n      <td>1.066128e+03</td>\n    </tr>\n    <tr>\n      <th>9</th>\n      <td>state_MI</td>\n      <td>7.260612e+02</td>\n    </tr>\n    <tr>\n      <th>3</th>\n      <td>merch_long</td>\n      <td>6.342595e+02</td>\n    </tr>\n    <tr>\n      <th>6</th>\n      <td>state_PA</td>\n      <td>4.720383e+02</td>\n    </tr>\n    <tr>\n      <th>12</th>\n      <td>state_AL</td>\n      <td>4.183893e+02</td>\n    </tr>\n    <tr>\n      <th>21</th>\n      <td>category_misc_net</td>\n      <td>3.495622e+02</td>\n    </tr>\n    <tr>\n      <th>2</th>\n      <td>merch_lat</td>\n      <td>2.072733e+02</td>\n    </tr>\n    <tr>\n      <th>11</th>\n      <td>state_FL</td>\n      <td>1.931610e+02</td>\n    </tr>\n    <tr>\n      <th>8</th>\n      <td>state_OH</td>\n      <td>1.136154e+02</td>\n    </tr>\n    <tr>\n      <th>10</th>\n      <td>state_IL</td>\n      <td>9.971386e+01</td>\n    </tr>\n    <tr>\n      <th>5</th>\n      <td>state_NY</td>\n      <td>8.422676e+01</td>\n    </tr>\n    <tr>\n      <th>7</th>\n      <td>state_CA</td>\n      <td>3.197678e+01</td>\n    </tr>\n    <tr>\n      <th>27</th>\n      <td>gender_M</td>\n      <td>3.569507e+00</td>\n    </tr>\n  </tbody>\n</table>\n</div>"
          },
          "metadata": {}
        }
      ],
      "id": "98a52917"
    },
    {
      "cell_type": "markdown",
      "source": [
        "The features that have high scores are more correlated with the target variable."
      ],
      "metadata": {
        "id": "1e917168"
      },
      "id": "1e917168"
    },
    {
      "cell_type": "markdown",
      "source": [
        "The features **state_MO**, **category_grocery_pos**, **state_NY** and **state_FL** do not contribute much to the prediction of the target variable"
      ],
      "metadata": {
        "id": "77b62a11"
      },
      "id": "77b62a11"
    },
    {
      "cell_type": "markdown",
      "source": [
        "#### Feature Importance"
      ],
      "metadata": {
        "id": "c863f3b0"
      },
      "id": "c863f3b0"
    },
    {
      "cell_type": "code",
      "source": [
        "from sklearn.ensemble import ExtraTreesClassifier"
      ],
      "metadata": {
        "id": "9e5fdc1d",
        "execution": {
          "iopub.status.busy": "2023-04-20T06:43:30.607486Z",
          "iopub.execute_input": "2023-04-20T06:43:30.608214Z",
          "iopub.status.idle": "2023-04-20T06:43:30.614421Z",
          "shell.execute_reply.started": "2023-04-20T06:43:30.608171Z",
          "shell.execute_reply": "2023-04-20T06:43:30.613152Z"
        },
        "trusted": true
      },
      "execution_count": null,
      "outputs": [],
      "id": "9e5fdc1d"
    },
    {
      "cell_type": "code",
      "source": [
        "model = ExtraTreesClassifier()"
      ],
      "metadata": {
        "id": "6c1a382e",
        "execution": {
          "iopub.status.busy": "2023-04-20T06:43:30.615995Z",
          "iopub.execute_input": "2023-04-20T06:43:30.617176Z",
          "iopub.status.idle": "2023-04-20T06:43:30.622994Z",
          "shell.execute_reply.started": "2023-04-20T06:43:30.617134Z",
          "shell.execute_reply": "2023-04-20T06:43:30.621749Z"
        },
        "trusted": true
      },
      "execution_count": null,
      "outputs": [],
      "id": "6c1a382e"
    },
    {
      "cell_type": "code",
      "source": [
        "model.fit(X,Y)"
      ],
      "metadata": {
        "id": "f90ea0d9",
        "colab": {
          "base_uri": "https://localhost:8080/",
          "height": 311
        },
        "outputId": "0a9fb37b-2f69-4712-f1e4-6eeec034d217",
        "execution": {
          "iopub.status.busy": "2023-04-20T06:43:30.624622Z",
          "iopub.execute_input": "2023-04-20T06:43:30.625574Z",
          "iopub.status.idle": "2023-04-20T06:52:07.484159Z",
          "shell.execute_reply.started": "2023-04-20T06:43:30.625521Z",
          "shell.execute_reply": "2023-04-20T06:52:07.482923Z"
        },
        "trusted": true
      },
      "execution_count": null,
      "outputs": [
        {
          "execution_count": 87,
          "output_type": "execute_result",
          "data": {
            "text/plain": "ExtraTreesClassifier()"
          },
          "metadata": {}
        }
      ],
      "id": "f90ea0d9"
    },
    {
      "cell_type": "code",
      "source": [
        "feat_importances = pd.Series(model.feature_importances_, index = X.columns)"
      ],
      "metadata": {
        "id": "52b1a268",
        "execution": {
          "iopub.status.busy": "2023-04-20T06:52:07.485570Z",
          "iopub.execute_input": "2023-04-20T06:52:07.490278Z",
          "iopub.status.idle": "2023-04-20T06:52:07.738458Z",
          "shell.execute_reply.started": "2023-04-20T06:52:07.490243Z",
          "shell.execute_reply": "2023-04-20T06:52:07.737320Z"
        },
        "trusted": true
      },
      "execution_count": null,
      "outputs": [],
      "id": "52b1a268"
    },
    {
      "cell_type": "code",
      "source": [
        "plt.figure(figsize=(6,6))\n",
        "feat_importances.plot(kind='barh')\n",
        "plt.show()"
      ],
      "metadata": {
        "id": "0e269408",
        "execution": {
          "iopub.status.busy": "2023-04-20T06:52:07.740612Z",
          "iopub.execute_input": "2023-04-20T06:52:07.741085Z",
          "iopub.status.idle": "2023-04-20T06:52:08.384395Z",
          "shell.execute_reply.started": "2023-04-20T06:52:07.741040Z",
          "shell.execute_reply": "2023-04-20T06:52:08.383296Z"
        },
        "trusted": true,
        "outputId": "5079bc79-47d3-45d5-e23f-666480590ef2"
      },
      "execution_count": null,
      "outputs": [
        {
          "output_type": "display_data",
          "data": {
            "text/plain": "<Figure size 600x600 with 1 Axes>",
            "image/png": "[encoded data removed]"
          },
          "metadata": {}
        }
      ],
      "id": "0e269408"
    },
    {
      "cell_type": "markdown",
      "source": [
        "The above barplot displays the feature importance scores. From the above barplot, it can be observed that none of the states are important and thus can be removed from the dataset"
      ],
      "metadata": {
        "id": "55a12293"
      },
      "id": "55a12293"
    },
    {
      "cell_type": "code",
      "source": [
        "df_train = df_train.drop(['state_FL', 'state_NY', 'state_MO'], axis = 1)"
      ],
      "metadata": {
        "id": "292ecea4",
        "execution": {
          "iopub.status.busy": "2023-04-20T06:52:08.385593Z",
          "iopub.execute_input": "2023-04-20T06:52:08.386894Z",
          "iopub.status.idle": "2023-04-20T06:52:08.618505Z",
          "shell.execute_reply.started": "2023-04-20T06:52:08.386851Z",
          "shell.execute_reply": "2023-04-20T06:52:08.617403Z"
        },
        "trusted": true
      },
      "execution_count": null,
      "outputs": [],
      "id": "292ecea4"
    },
    {
      "cell_type": "code",
      "source": [
        "df_train.head()"
      ],
      "metadata": {
        "id": "426848d6",
        "execution": {
          "iopub.status.busy": "2023-04-20T06:52:08.619975Z",
          "iopub.execute_input": "2023-04-20T06:52:08.621156Z",
          "iopub.status.idle": "2023-04-20T06:52:08.645093Z",
          "shell.execute_reply.started": "2023-04-20T06:52:08.621113Z",
          "shell.execute_reply": "2023-04-20T06:52:08.643758Z"
        },
        "trusted": true,
        "outputId": "1ad15ff2-f17b-484c-ed46-6f6c4306f16f"
      },
      "execution_count": null,
      "outputs": [
        {
          "execution_count": 91,
          "output_type": "execute_result",
          "data": {
            "text/plain": "         amt   city_pop  merch_lat  merch_long  state_TX  state_PA  state_CA  \\\n0   2.328089   7.745967  45.277595 -120.703440         0         0         0   \n1   2.722132  13.564660  39.754237  -80.553026         0         1         0   \n2  11.548593  41.821047  40.791883  -97.020548         0         0         0   \n3   8.388683  42.544095  39.657915  -88.963478         0         0         0   \n4   7.640681  16.401219  38.678384  -99.904978         0         0         0   \n\n   state_OH  state_MI  state_IL  ...  category_home  category_kids_pets  \\\n0         0         0         0  ...              0                   1   \n1         0         0         0  ...              0                   0   \n2         0         0         0  ...              0                   0   \n3         0         0         1  ...              0                   0   \n4         0         0         0  ...              0                   0   \n\n   category_misc_net  category_misc_pos  category_personal_care  \\\n0                  0                  0                       0   \n1                  0                  0                       0   \n2                  0                  1                       0   \n3                  0                  0                       0   \n4                  0                  0                       0   \n\n   category_shopping_net  category_shopping_pos  category_travel  gender_M  \\\n0                      0                      0                0         1   \n1                      0                      1                0         0   \n2                      0                      0                0         0   \n3                      0                      0                0         0   \n4                      0                      0                0         1   \n\n   is_fraud  \n0         0  \n1         0  \n2         0  \n3         0  \n4         0  \n\n[5 rows x 26 columns]",
            "text/html": "<div>\n<style scoped>\n    .dataframe tbody tr th:only-of-type {\n        vertical-align: middle;\n    }\n\n    .dataframe tbody tr th {\n        vertical-align: top;\n    }\n\n    .dataframe thead th {\n        text-align: right;\n    }\n</style>\n<table border=\"1\" class=\"dataframe\">\n  <thead>\n    <tr style=\"text-align: right;\">\n      <th></th>\n      <th>amt</th>\n      <th>city_pop</th>\n      <th>merch_lat</th>\n      <th>merch_long</th>\n      <th>state_TX</th>\n      <th>state_PA</th>\n      <th>state_CA</th>\n      <th>state_OH</th>\n      <th>state_MI</th>\n      <th>state_IL</th>\n      <th>...</th>\n      <th>category_home</th>\n      <th>category_kids_pets</th>\n      <th>category_misc_net</th>\n      <th>category_misc_pos</th>\n      <th>category_personal_care</th>\n      <th>category_shopping_net</th>\n      <th>category_shopping_pos</th>\n      <th>category_travel</th>\n      <th>gender_M</th>\n      <th>is_fraud</th>\n    </tr>\n  </thead>\n  <tbody>\n    <tr>\n      <th>0</th>\n      <td>2.328089</td>\n      <td>7.745967</td>\n      <td>45.277595</td>\n      <td>-120.703440</td>\n      <td>0</td>\n      <td>0</td>\n      <td>0</td>\n      <td>0</td>\n      <td>0</td>\n      <td>0</td>\n      <td>...</td>\n      <td>0</td>\n      <td>1</td>\n      <td>0</td>\n      <td>0</td>\n      <td>0</td>\n      <td>0</td>\n      <td>0</td>\n      <td>0</td>\n      <td>1</td>\n      <td>0</td>\n    </tr>\n    <tr>\n      <th>1</th>\n      <td>2.722132</td>\n      <td>13.564660</td>\n      <td>39.754237</td>\n      <td>-80.553026</td>\n      <td>0</td>\n      <td>1</td>\n      <td>0</td>\n      <td>0</td>\n      <td>0</td>\n      <td>0</td>\n      <td>...</td>\n      <td>0</td>\n      <td>0</td>\n      <td>0</td>\n      <td>0</td>\n      <td>0</td>\n      <td>0</td>\n      <td>1</td>\n      <td>0</td>\n      <td>0</td>\n      <td>0</td>\n    </tr>\n    <tr>\n      <th>2</th>\n      <td>11.548593</td>\n      <td>41.821047</td>\n      <td>40.791883</td>\n      <td>-97.020548</td>\n      <td>0</td>\n      <td>0</td>\n      <td>0</td>\n      <td>0</td>\n      <td>0</td>\n      <td>0</td>\n      <td>...</td>\n      <td>0</td>\n      <td>0</td>\n      <td>0</td>\n      <td>1</td>\n      <td>0</td>\n      <td>0</td>\n      <td>0</td>\n      <td>0</td>\n      <td>0</td>\n      <td>0</td>\n    </tr>\n    <tr>\n      <th>3</th>\n      <td>8.388683</td>\n      <td>42.544095</td>\n      <td>39.657915</td>\n      <td>-88.963478</td>\n      <td>0</td>\n      <td>0</td>\n      <td>0</td>\n      <td>0</td>\n      <td>0</td>\n      <td>1</td>\n      <td>...</td>\n      <td>0</td>\n      <td>0</td>\n      <td>0</td>\n      <td>0</td>\n      <td>0</td>\n      <td>0</td>\n      <td>0</td>\n      <td>0</td>\n      <td>0</td>\n      <td>0</td>\n    </tr>\n    <tr>\n      <th>4</th>\n      <td>7.640681</td>\n      <td>16.401219</td>\n      <td>38.678384</td>\n      <td>-99.904978</td>\n      <td>0</td>\n      <td>0</td>\n      <td>0</td>\n      <td>0</td>\n      <td>0</td>\n      <td>0</td>\n      <td>...</td>\n      <td>0</td>\n      <td>0</td>\n      <td>0</td>\n      <td>0</td>\n      <td>0</td>\n      <td>0</td>\n      <td>0</td>\n      <td>0</td>\n      <td>1</td>\n      <td>0</td>\n    </tr>\n  </tbody>\n</table>\n<p>5 rows × 26 columns</p>\n</div>"
          },
          "metadata": {}
        }
      ],
      "id": "426848d6"
    },
    {
      "cell_type": "markdown",
      "source": [
        "#### 3.4 Normalize the data"
      ],
      "metadata": {
        "id": "26126014"
      },
      "id": "26126014"
    },
    {
      "cell_type": "code",
      "source": [
        "df_train.head()"
      ],
      "metadata": {
        "id": "XNtckvrZrJfL",
        "execution": {
          "iopub.status.busy": "2023-04-20T06:52:08.646749Z",
          "iopub.execute_input": "2023-04-20T06:52:08.647524Z",
          "iopub.status.idle": "2023-04-20T06:52:08.671389Z",
          "shell.execute_reply.started": "2023-04-20T06:52:08.647473Z",
          "shell.execute_reply": "2023-04-20T06:52:08.670125Z"
        },
        "trusted": true,
        "outputId": "579fc89f-5673-44ba-dae2-7cb47fcb9853"
      },
      "execution_count": null,
      "outputs": [
        {
          "execution_count": 92,
          "output_type": "execute_result",
          "data": {
            "text/plain": "         amt   city_pop  merch_lat  merch_long  state_TX  state_PA  state_CA  \\\n0   2.328089   7.745967  45.277595 -120.703440         0         0         0   \n1   2.722132  13.564660  39.754237  -80.553026         0         1         0   \n2  11.548593  41.821047  40.791883  -97.020548         0         0         0   \n3   8.388683  42.544095  39.657915  -88.963478         0         0         0   \n4   7.640681  16.401219  38.678384  -99.904978         0         0         0   \n\n   state_OH  state_MI  state_IL  ...  category_home  category_kids_pets  \\\n0         0         0         0  ...              0                   1   \n1         0         0         0  ...              0                   0   \n2         0         0         0  ...              0                   0   \n3         0         0         1  ...              0                   0   \n4         0         0         0  ...              0                   0   \n\n   category_misc_net  category_misc_pos  category_personal_care  \\\n0                  0                  0                       0   \n1                  0                  0                       0   \n2                  0                  1                       0   \n3                  0                  0                       0   \n4                  0                  0                       0   \n\n   category_shopping_net  category_shopping_pos  category_travel  gender_M  \\\n0                      0                      0                0         1   \n1                      0                      1                0         0   \n2                      0                      0                0         0   \n3                      0                      0                0         0   \n4                      0                      0                0         1   \n\n   is_fraud  \n0         0  \n1         0  \n2         0  \n3         0  \n4         0  \n\n[5 rows x 26 columns]",
            "text/html": "<div>\n<style scoped>\n    .dataframe tbody tr th:only-of-type {\n        vertical-align: middle;\n    }\n\n    .dataframe tbody tr th {\n        vertical-align: top;\n    }\n\n    .dataframe thead th {\n        text-align: right;\n    }\n</style>\n<table border=\"1\" class=\"dataframe\">\n  <thead>\n    <tr style=\"text-align: right;\">\n      <th></th>\n      <th>amt</th>\n      <th>city_pop</th>\n      <th>merch_lat</th>\n      <th>merch_long</th>\n      <th>state_TX</th>\n      <th>state_PA</th>\n      <th>state_CA</th>\n      <th>state_OH</th>\n      <th>state_MI</th>\n      <th>state_IL</th>\n      <th>...</th>\n      <th>category_home</th>\n      <th>category_kids_pets</th>\n      <th>category_misc_net</th>\n      <th>category_misc_pos</th>\n      <th>category_personal_care</th>\n      <th>category_shopping_net</th>\n      <th>category_shopping_pos</th>\n      <th>category_travel</th>\n      <th>gender_M</th>\n      <th>is_fraud</th>\n    </tr>\n  </thead>\n  <tbody>\n    <tr>\n      <th>0</th>\n      <td>2.328089</td>\n      <td>7.745967</td>\n      <td>45.277595</td>\n      <td>-120.703440</td>\n      <td>0</td>\n      <td>0</td>\n      <td>0</td>\n      <td>0</td>\n      <td>0</td>\n      <td>0</td>\n      <td>...</td>\n      <td>0</td>\n      <td>1</td>\n      <td>0</td>\n      <td>0</td>\n      <td>0</td>\n      <td>0</td>\n      <td>0</td>\n      <td>0</td>\n      <td>1</td>\n      <td>0</td>\n    </tr>\n    <tr>\n      <th>1</th>\n      <td>2.722132</td>\n      <td>13.564660</td>\n      <td>39.754237</td>\n      <td>-80.553026</td>\n      <td>0</td>\n      <td>1</td>\n      <td>0</td>\n      <td>0</td>\n      <td>0</td>\n      <td>0</td>\n      <td>...</td>\n      <td>0</td>\n      <td>0</td>\n      <td>0</td>\n      <td>0</td>\n      <td>0</td>\n      <td>0</td>\n      <td>1</td>\n      <td>0</td>\n      <td>0</td>\n      <td>0</td>\n    </tr>\n    <tr>\n      <th>2</th>\n      <td>11.548593</td>\n      <td>41.821047</td>\n      <td>40.791883</td>\n      <td>-97.020548</td>\n      <td>0</td>\n      <td>0</td>\n      <td>0</td>\n      <td>0</td>\n      <td>0</td>\n      <td>0</td>\n      <td>...</td>\n      <td>0</td>\n      <td>0</td>\n      <td>0</td>\n      <td>1</td>\n      <td>0</td>\n      <td>0</td>\n      <td>0</td>\n      <td>0</td>\n      <td>0</td>\n      <td>0</td>\n    </tr>\n    <tr>\n      <th>3</th>\n      <td>8.388683</td>\n      <td>42.544095</td>\n      <td>39.657915</td>\n      <td>-88.963478</td>\n      <td>0</td>\n      <td>0</td>\n      <td>0</td>\n      <td>0</td>\n      <td>0</td>\n      <td>1</td>\n      <td>...</td>\n      <td>0</td>\n      <td>0</td>\n      <td>0</td>\n      <td>0</td>\n      <td>0</td>\n      <td>0</td>\n      <td>0</td>\n      <td>0</td>\n      <td>0</td>\n      <td>0</td>\n    </tr>\n    <tr>\n      <th>4</th>\n      <td>7.640681</td>\n      <td>16.401219</td>\n      <td>38.678384</td>\n      <td>-99.904978</td>\n      <td>0</td>\n      <td>0</td>\n      <td>0</td>\n      <td>0</td>\n      <td>0</td>\n      <td>0</td>\n      <td>...</td>\n      <td>0</td>\n      <td>0</td>\n      <td>0</td>\n      <td>0</td>\n      <td>0</td>\n      <td>0</td>\n      <td>0</td>\n      <td>0</td>\n      <td>1</td>\n      <td>0</td>\n    </tr>\n  </tbody>\n</table>\n<p>5 rows × 26 columns</p>\n</div>"
          },
          "metadata": {}
        }
      ],
      "id": "XNtckvrZrJfL"
    },
    {
      "cell_type": "code",
      "source": [
        "df_train.describe()"
      ],
      "metadata": {
        "id": "80507dd2",
        "execution": {
          "iopub.status.busy": "2023-04-20T06:52:08.673248Z",
          "iopub.execute_input": "2023-04-20T06:52:08.673805Z",
          "iopub.status.idle": "2023-04-20T06:52:09.704737Z",
          "shell.execute_reply.started": "2023-04-20T06:52:08.673761Z",
          "shell.execute_reply": "2023-04-20T06:52:09.703493Z"
        },
        "trusted": true,
        "outputId": "d62af3fb-9832-4ba7-d810-499bf6238f87"
      },
      "execution_count": null,
      "outputs": [
        {
          "execution_count": 93,
          "output_type": "execute_result",
          "data": {
            "text/plain": "                amt      city_pop     merch_lat    merch_long      state_TX  \\\ncount  2.062670e+06  2.062670e+06  2.062670e+06  2.062670e+06  2.062670e+06   \nmean   9.174574e+00  8.754691e+01  3.860261e+01 -9.006411e+01  6.696466e-02   \nstd    4.614447e+00  7.763144e+01  5.144660e+00  1.404278e+01  2.499609e-01   \nmin    1.000000e+00  4.795832e+00  1.902779e+01 -1.666712e+02  0.000000e+00   \n25%    4.470245e+00  2.725803e+01  3.493256e+01 -9.678547e+01  0.000000e+00   \n50%    9.455686e+00  5.025933e+01  3.941183e+01 -8.714255e+01  0.000000e+00   \n75%    1.390593e+01  1.431014e+02  4.196637e+01 -8.006708e+01  0.000000e+00   \nmax    1.390593e+01  2.229473e+02  6.751027e+01 -6.695654e+01  1.000000e+00   \n\n           state_PA      state_CA      state_OH      state_MI      state_IL  \\\ncount  2.062670e+06  2.062670e+06  2.062670e+06  2.062670e+06  2.062670e+06   \nmean   5.784881e-02  4.274023e-02  3.723523e-02  3.242933e-02  3.208802e-02   \nstd    2.334574e-01  2.022709e-01  1.893378e-01  1.771375e-01  1.762339e-01   \nmin    0.000000e+00  0.000000e+00  0.000000e+00  0.000000e+00  0.000000e+00   \n25%    0.000000e+00  0.000000e+00  0.000000e+00  0.000000e+00  0.000000e+00   \n50%    0.000000e+00  0.000000e+00  0.000000e+00  0.000000e+00  0.000000e+00   \n75%    0.000000e+00  0.000000e+00  0.000000e+00  0.000000e+00  0.000000e+00   \nmax    1.000000e+00  1.000000e+00  1.000000e+00  1.000000e+00  1.000000e+00   \n\n       ...  category_home  category_kids_pets  category_misc_net  \\\ncount  ...   2.062670e+06        2.062670e+06       2.062670e+06   \nmean   ...   5.029258e-02        4.762177e-02       4.552013e-02   \nstd    ...   2.185481e-01        2.129647e-01       2.084420e-01   \nmin    ...   0.000000e+00        0.000000e+00       0.000000e+00   \n25%    ...   0.000000e+00        0.000000e+00       0.000000e+00   \n50%    ...   0.000000e+00        0.000000e+00       0.000000e+00   \n75%    ...   0.000000e+00        0.000000e+00       0.000000e+00   \nmax    ...   1.000000e+00        1.000000e+00       1.000000e+00   \n\n       category_misc_pos  category_personal_care  category_shopping_net  \\\ncount       2.062670e+06            2.062670e+06           2.062670e+06   \nmean        3.453921e-02            3.840362e-02           1.020997e-01   \nstd         1.826096e-01            1.921687e-01           3.027795e-01   \nmin         0.000000e+00            0.000000e+00           0.000000e+00   \n25%         0.000000e+00            0.000000e+00           0.000000e+00   \n50%         0.000000e+00            0.000000e+00           0.000000e+00   \n75%         0.000000e+00            0.000000e+00           0.000000e+00   \nmax         1.000000e+00            1.000000e+00           1.000000e+00   \n\n       category_shopping_pos  category_travel      gender_M   is_fraud  \ncount           2.062670e+06     2.062670e+06  2.062670e+06  2062670.0  \nmean            6.359282e-02     1.646070e-02  4.513727e-01        0.5  \nstd             2.440262e-01     1.272390e-01  4.976299e-01        0.5  \nmin             0.000000e+00     0.000000e+00  0.000000e+00        0.0  \n25%             0.000000e+00     0.000000e+00  0.000000e+00        0.0  \n50%             0.000000e+00     0.000000e+00  0.000000e+00        0.5  \n75%             0.000000e+00     0.000000e+00  1.000000e+00        1.0  \nmax             1.000000e+00     1.000000e+00  1.000000e+00        1.0  \n\n[8 rows x 26 columns]",
            "text/html": "<div>\n<style scoped>\n    .dataframe tbody tr th:only-of-type {\n        vertical-align: middle;\n    }\n\n    .dataframe tbody tr th {\n        vertical-align: top;\n    }\n\n    .dataframe thead th {\n        text-align: right;\n    }\n</style>\n<table border=\"1\" class=\"dataframe\">\n  <thead>\n    <tr style=\"text-align: right;\">\n      <th></th>\n      <th>amt</th>\n      <th>city_pop</th>\n      <th>merch_lat</th>\n      <th>merch_long</th>\n      <th>state_TX</th>\n      <th>state_PA</th>\n      <th>state_CA</th>\n      <th>state_OH</th>\n      <th>state_MI</th>\n      <th>state_IL</th>\n      <th>...</th>\n      <th>category_home</th>\n      <th>category_kids_pets</th>\n      <th>category_misc_net</th>\n      <th>category_misc_pos</th>\n      <th>category_personal_care</th>\n      <th>category_shopping_net</th>\n      <th>category_shopping_pos</th>\n      <th>category_travel</th>\n      <th>gender_M</th>\n      <th>is_fraud</th>\n    </tr>\n  </thead>\n  <tbody>\n    <tr>\n      <th>count</th>\n      <td>2.062670e+06</td>\n      <td>2.062670e+06</td>\n      <td>2.062670e+06</td>\n      <td>2.062670e+06</td>\n      <td>2.062670e+06</td>\n      <td>2.062670e+06</td>\n      <td>2.062670e+06</td>\n      <td>2.062670e+06</td>\n      <td>2.062670e+06</td>\n      <td>2.062670e+06</td>\n      <td>...</td>\n      <td>2.062670e+06</td>\n      <td>2.062670e+06</td>\n      <td>2.062670e+06</td>\n      <td>2.062670e+06</td>\n      <td>2.062670e+06</td>\n      <td>2.062670e+06</td>\n      <td>2.062670e+06</td>\n      <td>2.062670e+06</td>\n      <td>2.062670e+06</td>\n      <td>2062670.0</td>\n    </tr>\n    <tr>\n      <th>mean</th>\n      <td>9.174574e+00</td>\n      <td>8.754691e+01</td>\n      <td>3.860261e+01</td>\n      <td>-9.006411e+01</td>\n      <td>6.696466e-02</td>\n      <td>5.784881e-02</td>\n      <td>4.274023e-02</td>\n      <td>3.723523e-02</td>\n      <td>3.242933e-02</td>\n      <td>3.208802e-02</td>\n      <td>...</td>\n      <td>5.029258e-02</td>\n      <td>4.762177e-02</td>\n      <td>4.552013e-02</td>\n      <td>3.453921e-02</td>\n      <td>3.840362e-02</td>\n      <td>1.020997e-01</td>\n      <td>6.359282e-02</td>\n      <td>1.646070e-02</td>\n      <td>4.513727e-01</td>\n      <td>0.5</td>\n    </tr>\n    <tr>\n      <th>std</th>\n      <td>4.614447e+00</td>\n      <td>7.763144e+01</td>\n      <td>5.144660e+00</td>\n      <td>1.404278e+01</td>\n      <td>2.499609e-01</td>\n      <td>2.334574e-01</td>\n      <td>2.022709e-01</td>\n      <td>1.893378e-01</td>\n      <td>1.771375e-01</td>\n      <td>1.762339e-01</td>\n      <td>...</td>\n      <td>2.185481e-01</td>\n      <td>2.129647e-01</td>\n      <td>2.084420e-01</td>\n      <td>1.826096e-01</td>\n      <td>1.921687e-01</td>\n      <td>3.027795e-01</td>\n      <td>2.440262e-01</td>\n      <td>1.272390e-01</td>\n      <td>4.976299e-01</td>\n      <td>0.5</td>\n    </tr>\n    <tr>\n      <th>min</th>\n      <td>1.000000e+00</td>\n      <td>4.795832e+00</td>\n      <td>1.902779e+01</td>\n      <td>-1.666712e+02</td>\n      <td>0.000000e+00</td>\n      <td>0.000000e+00</td>\n      <td>0.000000e+00</td>\n      <td>0.000000e+00</td>\n      <td>0.000000e+00</td>\n      <td>0.000000e+00</td>\n      <td>...</td>\n      <td>0.000000e+00</td>\n      <td>0.000000e+00</td>\n      <td>0.000000e+00</td>\n      <td>0.000000e+00</td>\n      <td>0.000000e+00</td>\n      <td>0.000000e+00</td>\n      <td>0.000000e+00</td>\n      <td>0.000000e+00</td>\n      <td>0.000000e+00</td>\n      <td>0.0</td>\n    </tr>\n    <tr>\n      <th>25%</th>\n      <td>4.470245e+00</td>\n      <td>2.725803e+01</td>\n      <td>3.493256e+01</td>\n      <td>-9.678547e+01</td>\n      <td>0.000000e+00</td>\n      <td>0.000000e+00</td>\n      <td>0.000000e+00</td>\n      <td>0.000000e+00</td>\n      <td>0.000000e+00</td>\n      <td>0.000000e+00</td>\n      <td>...</td>\n      <td>0.000000e+00</td>\n      <td>0.000000e+00</td>\n      <td>0.000000e+00</td>\n      <td>0.000000e+00</td>\n      <td>0.000000e+00</td>\n      <td>0.000000e+00</td>\n      <td>0.000000e+00</td>\n      <td>0.000000e+00</td>\n      <td>0.000000e+00</td>\n      <td>0.0</td>\n    </tr>\n    <tr>\n      <th>50%</th>\n      <td>9.455686e+00</td>\n      <td>5.025933e+01</td>\n      <td>3.941183e+01</td>\n      <td>-8.714255e+01</td>\n      <td>0.000000e+00</td>\n      <td>0.000000e+00</td>\n      <td>0.000000e+00</td>\n      <td>0.000000e+00</td>\n      <td>0.000000e+00</td>\n      <td>0.000000e+00</td>\n      <td>...</td>\n      <td>0.000000e+00</td>\n      <td>0.000000e+00</td>\n      <td>0.000000e+00</td>\n      <td>0.000000e+00</td>\n      <td>0.000000e+00</td>\n      <td>0.000000e+00</td>\n      <td>0.000000e+00</td>\n      <td>0.000000e+00</td>\n      <td>0.000000e+00</td>\n      <td>0.5</td>\n    </tr>\n    <tr>\n      <th>75%</th>\n      <td>1.390593e+01</td>\n      <td>1.431014e+02</td>\n      <td>4.196637e+01</td>\n      <td>-8.006708e+01</td>\n      <td>0.000000e+00</td>\n      <td>0.000000e+00</td>\n      <td>0.000000e+00</td>\n      <td>0.000000e+00</td>\n      <td>0.000000e+00</td>\n      <td>0.000000e+00</td>\n      <td>...</td>\n      <td>0.000000e+00</td>\n      <td>0.000000e+00</td>\n      <td>0.000000e+00</td>\n      <td>0.000000e+00</td>\n      <td>0.000000e+00</td>\n      <td>0.000000e+00</td>\n      <td>0.000000e+00</td>\n      <td>0.000000e+00</td>\n      <td>1.000000e+00</td>\n      <td>1.0</td>\n    </tr>\n    <tr>\n      <th>max</th>\n      <td>1.390593e+01</td>\n      <td>2.229473e+02</td>\n      <td>6.751027e+01</td>\n      <td>-6.695654e+01</td>\n      <td>1.000000e+00</td>\n      <td>1.000000e+00</td>\n      <td>1.000000e+00</td>\n      <td>1.000000e+00</td>\n      <td>1.000000e+00</td>\n      <td>1.000000e+00</td>\n      <td>...</td>\n      <td>1.000000e+00</td>\n      <td>1.000000e+00</td>\n      <td>1.000000e+00</td>\n      <td>1.000000e+00</td>\n      <td>1.000000e+00</td>\n      <td>1.000000e+00</td>\n      <td>1.000000e+00</td>\n      <td>1.000000e+00</td>\n      <td>1.000000e+00</td>\n      <td>1.0</td>\n    </tr>\n  </tbody>\n</table>\n<p>8 rows × 26 columns</p>\n</div>"
          },
          "metadata": {}
        }
      ],
      "id": "80507dd2"
    },
    {
      "cell_type": "markdown",
      "source": [
        "It can be observed that there is different in the scales of respective continuous features. So we need to perform feature scaling. We can use **MinMaxScaler** to perform Min max normalization"
      ],
      "metadata": {
        "id": "ddb8139b"
      },
      "id": "ddb8139b"
    },
    {
      "cell_type": "code",
      "source": [
        "from sklearn.preprocessing import MinMaxScaler"
      ],
      "metadata": {
        "id": "5f505f64",
        "execution": {
          "iopub.status.busy": "2023-04-20T06:52:09.706396Z",
          "iopub.execute_input": "2023-04-20T06:52:09.707129Z",
          "iopub.status.idle": "2023-04-20T06:52:09.712648Z",
          "shell.execute_reply.started": "2023-04-20T06:52:09.707085Z",
          "shell.execute_reply": "2023-04-20T06:52:09.711370Z"
        },
        "trusted": true
      },
      "execution_count": null,
      "outputs": [],
      "id": "5f505f64"
    },
    {
      "cell_type": "code",
      "source": [
        "std_scaler = MinMaxScaler()"
      ],
      "metadata": {
        "id": "b71f2d70",
        "execution": {
          "iopub.status.busy": "2023-04-20T06:52:09.714070Z",
          "iopub.execute_input": "2023-04-20T06:52:09.715089Z",
          "iopub.status.idle": "2023-04-20T06:52:09.723949Z",
          "shell.execute_reply.started": "2023-04-20T06:52:09.715047Z",
          "shell.execute_reply": "2023-04-20T06:52:09.722656Z"
        },
        "trusted": true
      },
      "execution_count": null,
      "outputs": [],
      "id": "b71f2d70"
    },
    {
      "cell_type": "code",
      "source": [
        "df_train_scaled = std_scaler.fit_transform(df_train)"
      ],
      "metadata": {
        "id": "778e5315",
        "execution": {
          "iopub.status.busy": "2023-04-20T06:52:09.725725Z",
          "iopub.execute_input": "2023-04-20T06:52:09.726374Z",
          "iopub.status.idle": "2023-04-20T06:52:10.379359Z",
          "shell.execute_reply.started": "2023-04-20T06:52:09.726327Z",
          "shell.execute_reply": "2023-04-20T06:52:10.378260Z"
        },
        "trusted": true
      },
      "execution_count": null,
      "outputs": [],
      "id": "778e5315"
    },
    {
      "cell_type": "code",
      "source": [
        "df_train = pd.DataFrame(df_train_scaled, columns=df_train.columns)"
      ],
      "metadata": {
        "id": "ed11fcf1",
        "execution": {
          "iopub.status.busy": "2023-04-20T06:52:10.380852Z",
          "iopub.execute_input": "2023-04-20T06:52:10.381852Z",
          "iopub.status.idle": "2023-04-20T06:52:10.388526Z",
          "shell.execute_reply.started": "2023-04-20T06:52:10.381812Z",
          "shell.execute_reply": "2023-04-20T06:52:10.386430Z"
        },
        "trusted": true
      },
      "execution_count": null,
      "outputs": [],
      "id": "ed11fcf1"
    },
    {
      "cell_type": "code",
      "source": [
        "df_train.head()"
      ],
      "metadata": {
        "id": "14ea98fb",
        "execution": {
          "iopub.status.busy": "2023-04-20T06:52:10.390058Z",
          "iopub.execute_input": "2023-04-20T06:52:10.391164Z",
          "iopub.status.idle": "2023-04-20T06:52:10.422542Z",
          "shell.execute_reply.started": "2023-04-20T06:52:10.391122Z",
          "shell.execute_reply": "2023-04-20T06:52:10.421377Z"
        },
        "trusted": true,
        "outputId": "d6bb4657-cea7-4d81-a77b-1a311e89b19f"
      },
      "execution_count": null,
      "outputs": [
        {
          "execution_count": 98,
          "output_type": "execute_result",
          "data": {
            "text/plain": "        amt  city_pop  merch_lat  merch_long  state_TX  state_PA  state_CA  \\\n0  0.102905  0.013523   0.541429    0.460993       0.0       0.0       0.0   \n1  0.133437  0.040196   0.427504    0.863646       0.0       1.0       0.0   \n2  0.817344  0.169723   0.448906    0.698500       0.0       0.0       0.0   \n3  0.572503  0.173037   0.425517    0.779301       0.0       0.0       0.0   \n4  0.514545  0.053199   0.405313    0.669573       0.0       0.0       0.0   \n\n   state_OH  state_MI  state_IL  ...  category_home  category_kids_pets  \\\n0       0.0       0.0       0.0  ...            0.0                 1.0   \n1       0.0       0.0       0.0  ...            0.0                 0.0   \n2       0.0       0.0       0.0  ...            0.0                 0.0   \n3       0.0       0.0       1.0  ...            0.0                 0.0   \n4       0.0       0.0       0.0  ...            0.0                 0.0   \n\n   category_misc_net  category_misc_pos  category_personal_care  \\\n0                0.0                0.0                     0.0   \n1                0.0                0.0                     0.0   \n2                0.0                1.0                     0.0   \n3                0.0                0.0                     0.0   \n4                0.0                0.0                     0.0   \n\n   category_shopping_net  category_shopping_pos  category_travel  gender_M  \\\n0                    0.0                    0.0              0.0       1.0   \n1                    0.0                    1.0              0.0       0.0   \n2                    0.0                    0.0              0.0       0.0   \n3                    0.0                    0.0              0.0       0.0   \n4                    0.0                    0.0              0.0       1.0   \n\n   is_fraud  \n0       0.0  \n1       0.0  \n2       0.0  \n3       0.0  \n4       0.0  \n\n[5 rows x 26 columns]",
            "text/html": "<div>\n<style scoped>\n    .dataframe tbody tr th:only-of-type {\n        vertical-align: middle;\n    }\n\n    .dataframe tbody tr th {\n        vertical-align: top;\n    }\n\n    .dataframe thead th {\n        text-align: right;\n    }\n</style>\n<table border=\"1\" class=\"dataframe\">\n  <thead>\n    <tr style=\"text-align: right;\">\n      <th></th>\n      <th>amt</th>\n      <th>city_pop</th>\n      <th>merch_lat</th>\n      <th>merch_long</th>\n      <th>state_TX</th>\n      <th>state_PA</th>\n      <th>state_CA</th>\n      <th>state_OH</th>\n      <th>state_MI</th>\n      <th>state_IL</th>\n      <th>...</th>\n      <th>category_home</th>\n      <th>category_kids_pets</th>\n      <th>category_misc_net</th>\n      <th>category_misc_pos</th>\n      <th>category_personal_care</th>\n      <th>category_shopping_net</th>\n      <th>category_shopping_pos</th>\n      <th>category_travel</th>\n      <th>gender_M</th>\n      <th>is_fraud</th>\n    </tr>\n  </thead>\n  <tbody>\n    <tr>\n      <th>0</th>\n      <td>0.102905</td>\n      <td>0.013523</td>\n      <td>0.541429</td>\n      <td>0.460993</td>\n      <td>0.0</td>\n      <td>0.0</td>\n      <td>0.0</td>\n      <td>0.0</td>\n      <td>0.0</td>\n      <td>0.0</td>\n      <td>...</td>\n      <td>0.0</td>\n      <td>1.0</td>\n      <td>0.0</td>\n      <td>0.0</td>\n      <td>0.0</td>\n      <td>0.0</td>\n      <td>0.0</td>\n      <td>0.0</td>\n      <td>1.0</td>\n      <td>0.0</td>\n    </tr>\n    <tr>\n      <th>1</th>\n      <td>0.133437</td>\n      <td>0.040196</td>\n      <td>0.427504</td>\n      <td>0.863646</td>\n      <td>0.0</td>\n      <td>1.0</td>\n      <td>0.0</td>\n      <td>0.0</td>\n      <td>0.0</td>\n      <td>0.0</td>\n      <td>...</td>\n      <td>0.0</td>\n      <td>0.0</td>\n      <td>0.0</td>\n      <td>0.0</td>\n      <td>0.0</td>\n      <td>0.0</td>\n      <td>1.0</td>\n      <td>0.0</td>\n      <td>0.0</td>\n      <td>0.0</td>\n    </tr>\n    <tr>\n      <th>2</th>\n      <td>0.817344</td>\n      <td>0.169723</td>\n      <td>0.448906</td>\n      <td>0.698500</td>\n      <td>0.0</td>\n      <td>0.0</td>\n      <td>0.0</td>\n      <td>0.0</td>\n      <td>0.0</td>\n      <td>0.0</td>\n      <td>...</td>\n      <td>0.0</td>\n      <td>0.0</td>\n      <td>0.0</td>\n      <td>1.0</td>\n      <td>0.0</td>\n      <td>0.0</td>\n      <td>0.0</td>\n      <td>0.0</td>\n      <td>0.0</td>\n      <td>0.0</td>\n    </tr>\n    <tr>\n      <th>3</th>\n      <td>0.572503</td>\n      <td>0.173037</td>\n      <td>0.425517</td>\n      <td>0.779301</td>\n      <td>0.0</td>\n      <td>0.0</td>\n      <td>0.0</td>\n      <td>0.0</td>\n      <td>0.0</td>\n      <td>1.0</td>\n      <td>...</td>\n      <td>0.0</td>\n      <td>0.0</td>\n      <td>0.0</td>\n      <td>0.0</td>\n      <td>0.0</td>\n      <td>0.0</td>\n      <td>0.0</td>\n      <td>0.0</td>\n      <td>0.0</td>\n      <td>0.0</td>\n    </tr>\n    <tr>\n      <th>4</th>\n      <td>0.514545</td>\n      <td>0.053199</td>\n      <td>0.405313</td>\n      <td>0.669573</td>\n      <td>0.0</td>\n      <td>0.0</td>\n      <td>0.0</td>\n      <td>0.0</td>\n      <td>0.0</td>\n      <td>0.0</td>\n      <td>...</td>\n      <td>0.0</td>\n      <td>0.0</td>\n      <td>0.0</td>\n      <td>0.0</td>\n      <td>0.0</td>\n      <td>0.0</td>\n      <td>0.0</td>\n      <td>0.0</td>\n      <td>1.0</td>\n      <td>0.0</td>\n    </tr>\n  </tbody>\n</table>\n<p>5 rows × 26 columns</p>\n</div>"
          },
          "metadata": {}
        }
      ],
      "id": "14ea98fb"
    },
    {
      "cell_type": "code",
      "source": [
        "df_train.describe()"
      ],
      "metadata": {
        "id": "1a8c5918",
        "execution": {
          "iopub.status.busy": "2023-04-20T06:52:10.423954Z",
          "iopub.execute_input": "2023-04-20T06:52:10.424590Z",
          "iopub.status.idle": "2023-04-20T06:52:12.115525Z",
          "shell.execute_reply.started": "2023-04-20T06:52:10.424552Z",
          "shell.execute_reply": "2023-04-20T06:52:12.114457Z"
        },
        "trusted": true,
        "outputId": "a3c1d5ad-b472-4bb5-c966-4b8333096796"
      },
      "execution_count": null,
      "outputs": [
        {
          "execution_count": 99,
          "output_type": "execute_result",
          "data": {
            "text/plain": "                amt      city_pop     merch_lat    merch_long      state_TX  \\\ncount  2.062670e+06  2.062670e+06  2.062670e+06  2.062670e+06  2.062670e+06   \nmean   6.333965e-01  3.793285e-01  4.037505e-01  7.682632e-01  6.696466e-02   \nstd    3.575446e-01  3.558603e-01  1.061138e-01  1.408296e-01  2.499609e-01   \nmin    0.000000e+00  0.000000e+00  0.000000e+00  0.000000e+00  0.000000e+00   \n25%    2.688876e-01  1.029660e-01  3.280519e-01  7.008572e-01  0.000000e+00   \n50%    6.551782e-01  2.084033e-01  4.204415e-01  7.975624e-01  0.000000e+00   \n75%    1.000000e+00  6.339885e-01  4.731314e-01  8.685195e-01  0.000000e+00   \nmax    1.000000e+00  1.000000e+00  1.000000e+00  1.000000e+00  1.000000e+00   \n\n           state_PA      state_CA      state_OH      state_MI      state_IL  \\\ncount  2.062670e+06  2.062670e+06  2.062670e+06  2.062670e+06  2.062670e+06   \nmean   5.784881e-02  4.274023e-02  3.723523e-02  3.242933e-02  3.208802e-02   \nstd    2.334574e-01  2.022709e-01  1.893378e-01  1.771375e-01  1.762339e-01   \nmin    0.000000e+00  0.000000e+00  0.000000e+00  0.000000e+00  0.000000e+00   \n25%    0.000000e+00  0.000000e+00  0.000000e+00  0.000000e+00  0.000000e+00   \n50%    0.000000e+00  0.000000e+00  0.000000e+00  0.000000e+00  0.000000e+00   \n75%    0.000000e+00  0.000000e+00  0.000000e+00  0.000000e+00  0.000000e+00   \nmax    1.000000e+00  1.000000e+00  1.000000e+00  1.000000e+00  1.000000e+00   \n\n       ...  category_home  category_kids_pets  category_misc_net  \\\ncount  ...   2.062670e+06        2.062670e+06       2.062670e+06   \nmean   ...   5.029258e-02        4.762177e-02       4.552013e-02   \nstd    ...   2.185481e-01        2.129647e-01       2.084420e-01   \nmin    ...   0.000000e+00        0.000000e+00       0.000000e+00   \n25%    ...   0.000000e+00        0.000000e+00       0.000000e+00   \n50%    ...   0.000000e+00        0.000000e+00       0.000000e+00   \n75%    ...   0.000000e+00        0.000000e+00       0.000000e+00   \nmax    ...   1.000000e+00        1.000000e+00       1.000000e+00   \n\n       category_misc_pos  category_personal_care  category_shopping_net  \\\ncount       2.062670e+06            2.062670e+06           2.062670e+06   \nmean        3.453921e-02            3.840362e-02           1.020997e-01   \nstd         1.826096e-01            1.921687e-01           3.027795e-01   \nmin         0.000000e+00            0.000000e+00           0.000000e+00   \n25%         0.000000e+00            0.000000e+00           0.000000e+00   \n50%         0.000000e+00            0.000000e+00           0.000000e+00   \n75%         0.000000e+00            0.000000e+00           0.000000e+00   \nmax         1.000000e+00            1.000000e+00           1.000000e+00   \n\n       category_shopping_pos  category_travel      gender_M   is_fraud  \ncount           2.062670e+06     2.062670e+06  2.062670e+06  2062670.0  \nmean            6.359282e-02     1.646070e-02  4.513727e-01        0.5  \nstd             2.440262e-01     1.272390e-01  4.976299e-01        0.5  \nmin             0.000000e+00     0.000000e+00  0.000000e+00        0.0  \n25%             0.000000e+00     0.000000e+00  0.000000e+00        0.0  \n50%             0.000000e+00     0.000000e+00  0.000000e+00        0.5  \n75%             0.000000e+00     0.000000e+00  1.000000e+00        1.0  \nmax             1.000000e+00     1.000000e+00  1.000000e+00        1.0  \n\n[8 rows x 26 columns]",
            "text/html": "<div>\n<style scoped>\n    .dataframe tbody tr th:only-of-type {\n        vertical-align: middle;\n    }\n\n    .dataframe tbody tr th {\n        vertical-align: top;\n    }\n\n    .dataframe thead th {\n        text-align: right;\n    }\n</style>\n<table border=\"1\" class=\"dataframe\">\n  <thead>\n    <tr style=\"text-align: right;\">\n      <th></th>\n      <th>amt</th>\n      <th>city_pop</th>\n      <th>merch_lat</th>\n      <th>merch_long</th>\n      <th>state_TX</th>\n      <th>state_PA</th>\n      <th>state_CA</th>\n      <th>state_OH</th>\n      <th>state_MI</th>\n      <th>state_IL</th>\n      <th>...</th>\n      <th>category_home</th>\n      <th>category_kids_pets</th>\n      <th>category_misc_net</th>\n      <th>category_misc_pos</th>\n      <th>category_personal_care</th>\n      <th>category_shopping_net</th>\n      <th>category_shopping_pos</th>\n      <th>category_travel</th>\n      <th>gender_M</th>\n      <th>is_fraud</th>\n    </tr>\n  </thead>\n  <tbody>\n    <tr>\n      <th>count</th>\n      <td>2.062670e+06</td>\n      <td>2.062670e+06</td>\n      <td>2.062670e+06</td>\n      <td>2.062670e+06</td>\n      <td>2.062670e+06</td>\n      <td>2.062670e+06</td>\n      <td>2.062670e+06</td>\n      <td>2.062670e+06</td>\n      <td>2.062670e+06</td>\n      <td>2.062670e+06</td>\n      <td>...</td>\n      <td>2.062670e+06</td>\n      <td>2.062670e+06</td>\n      <td>2.062670e+06</td>\n      <td>2.062670e+06</td>\n      <td>2.062670e+06</td>\n      <td>2.062670e+06</td>\n      <td>2.062670e+06</td>\n      <td>2.062670e+06</td>\n      <td>2.062670e+06</td>\n      <td>2062670.0</td>\n    </tr>\n    <tr>\n      <th>mean</th>\n      <td>6.333965e-01</td>\n      <td>3.793285e-01</td>\n      <td>4.037505e-01</td>\n      <td>7.682632e-01</td>\n      <td>6.696466e-02</td>\n      <td>5.784881e-02</td>\n      <td>4.274023e-02</td>\n      <td>3.723523e-02</td>\n      <td>3.242933e-02</td>\n      <td>3.208802e-02</td>\n      <td>...</td>\n      <td>5.029258e-02</td>\n      <td>4.762177e-02</td>\n      <td>4.552013e-02</td>\n      <td>3.453921e-02</td>\n      <td>3.840362e-02</td>\n      <td>1.020997e-01</td>\n      <td>6.359282e-02</td>\n      <td>1.646070e-02</td>\n      <td>4.513727e-01</td>\n      <td>0.5</td>\n    </tr>\n    <tr>\n      <th>std</th>\n      <td>3.575446e-01</td>\n      <td>3.558603e-01</td>\n      <td>1.061138e-01</td>\n      <td>1.408296e-01</td>\n      <td>2.499609e-01</td>\n      <td>2.334574e-01</td>\n      <td>2.022709e-01</td>\n      <td>1.893378e-01</td>\n      <td>1.771375e-01</td>\n      <td>1.762339e-01</td>\n      <td>...</td>\n      <td>2.185481e-01</td>\n      <td>2.129647e-01</td>\n      <td>2.084420e-01</td>\n      <td>1.826096e-01</td>\n      <td>1.921687e-01</td>\n      <td>3.027795e-01</td>\n      <td>2.440262e-01</td>\n      <td>1.272390e-01</td>\n      <td>4.976299e-01</td>\n      <td>0.5</td>\n    </tr>\n    <tr>\n      <th>min</th>\n      <td>0.000000e+00</td>\n      <td>0.000000e+00</td>\n      <td>0.000000e+00</td>\n      <td>0.000000e+00</td>\n      <td>0.000000e+00</td>\n      <td>0.000000e+00</td>\n      <td>0.000000e+00</td>\n      <td>0.000000e+00</td>\n      <td>0.000000e+00</td>\n      <td>0.000000e+00</td>\n      <td>...</td>\n      <td>0.000000e+00</td>\n      <td>0.000000e+00</td>\n      <td>0.000000e+00</td>\n      <td>0.000000e+00</td>\n      <td>0.000000e+00</td>\n      <td>0.000000e+00</td>\n      <td>0.000000e+00</td>\n      <td>0.000000e+00</td>\n      <td>0.000000e+00</td>\n      <td>0.0</td>\n    </tr>\n    <tr>\n      <th>25%</th>\n      <td>2.688876e-01</td>\n      <td>1.029660e-01</td>\n      <td>3.280519e-01</td>\n      <td>7.008572e-01</td>\n      <td>0.000000e+00</td>\n      <td>0.000000e+00</td>\n      <td>0.000000e+00</td>\n      <td>0.000000e+00</td>\n      <td>0.000000e+00</td>\n      <td>0.000000e+00</td>\n      <td>...</td>\n      <td>0.000000e+00</td>\n      <td>0.000000e+00</td>\n      <td>0.000000e+00</td>\n      <td>0.000000e+00</td>\n      <td>0.000000e+00</td>\n      <td>0.000000e+00</td>\n      <td>0.000000e+00</td>\n      <td>0.000000e+00</td>\n      <td>0.000000e+00</td>\n      <td>0.0</td>\n    </tr>\n    <tr>\n      <th>50%</th>\n      <td>6.551782e-01</td>\n      <td>2.084033e-01</td>\n      <td>4.204415e-01</td>\n      <td>7.975624e-01</td>\n      <td>0.000000e+00</td>\n      <td>0.000000e+00</td>\n      <td>0.000000e+00</td>\n      <td>0.000000e+00</td>\n      <td>0.000000e+00</td>\n      <td>0.000000e+00</td>\n      <td>...</td>\n      <td>0.000000e+00</td>\n      <td>0.000000e+00</td>\n      <td>0.000000e+00</td>\n      <td>0.000000e+00</td>\n      <td>0.000000e+00</td>\n      <td>0.000000e+00</td>\n      <td>0.000000e+00</td>\n      <td>0.000000e+00</td>\n      <td>0.000000e+00</td>\n      <td>0.5</td>\n    </tr>\n    <tr>\n      <th>75%</th>\n      <td>1.000000e+00</td>\n      <td>6.339885e-01</td>\n      <td>4.731314e-01</td>\n      <td>8.685195e-01</td>\n      <td>0.000000e+00</td>\n      <td>0.000000e+00</td>\n      <td>0.000000e+00</td>\n      <td>0.000000e+00</td>\n      <td>0.000000e+00</td>\n      <td>0.000000e+00</td>\n      <td>...</td>\n      <td>0.000000e+00</td>\n      <td>0.000000e+00</td>\n      <td>0.000000e+00</td>\n      <td>0.000000e+00</td>\n      <td>0.000000e+00</td>\n      <td>0.000000e+00</td>\n      <td>0.000000e+00</td>\n      <td>0.000000e+00</td>\n      <td>1.000000e+00</td>\n      <td>1.0</td>\n    </tr>\n    <tr>\n      <th>max</th>\n      <td>1.000000e+00</td>\n      <td>1.000000e+00</td>\n      <td>1.000000e+00</td>\n      <td>1.000000e+00</td>\n      <td>1.000000e+00</td>\n      <td>1.000000e+00</td>\n      <td>1.000000e+00</td>\n      <td>1.000000e+00</td>\n      <td>1.000000e+00</td>\n      <td>1.000000e+00</td>\n      <td>...</td>\n      <td>1.000000e+00</td>\n      <td>1.000000e+00</td>\n      <td>1.000000e+00</td>\n      <td>1.000000e+00</td>\n      <td>1.000000e+00</td>\n      <td>1.000000e+00</td>\n      <td>1.000000e+00</td>\n      <td>1.000000e+00</td>\n      <td>1.000000e+00</td>\n      <td>1.0</td>\n    </tr>\n  </tbody>\n</table>\n<p>8 rows × 26 columns</p>\n</div>"
          },
          "metadata": {}
        }
      ],
      "id": "1a8c5918"
    },
    {
      "cell_type": "markdown",
      "source": [
        "It can be observed that the features have been scaled in the training dataset"
      ],
      "metadata": {
        "id": "e4991619"
      },
      "id": "e4991619"
    },
    {
      "cell_type": "markdown",
      "source": [
        "Performing feature engineering on the test dataset"
      ],
      "metadata": {
        "id": "c26d9b51"
      },
      "id": "c26d9b51"
    },
    {
      "cell_type": "code",
      "source": [
        "df_fraudTest.head()"
      ],
      "metadata": {
        "id": "f77b8590",
        "execution": {
          "iopub.status.busy": "2023-04-20T06:52:12.117323Z",
          "iopub.execute_input": "2023-04-20T06:52:12.118085Z",
          "iopub.status.idle": "2023-04-20T06:52:12.145568Z",
          "shell.execute_reply.started": "2023-04-20T06:52:12.118044Z",
          "shell.execute_reply": "2023-04-20T06:52:12.144268Z"
        },
        "trusted": true,
        "outputId": "258eec65-4bf2-407c-d4b8-638735d198f1"
      },
      "execution_count": null,
      "outputs": [
        {
          "execution_count": 100,
          "output_type": "execute_result",
          "data": {
            "text/plain": "  trans_date_trans_time            cc_num  \\\n0   2020-06-21 12:14:25  2291163933867244   \n1   2020-06-21 12:14:33  3573030041201292   \n2   2020-06-21 12:14:53  3598215285024754   \n3   2020-06-21 12:15:15  3591919803438423   \n4   2020-06-21 12:15:17  3526826139003047   \n\n                               merchant        category    amt   first  \\\n0                 fraud_Kirlin and Sons   personal_care   2.86    Jeff   \n1                  fraud_Sporer-Keebler   personal_care  29.84  Joanne   \n2  fraud_Swaniawski, Nitzsche and Welch  health_fitness  41.28  Ashley   \n3                     fraud_Haley Group        misc_pos  60.05   Brian   \n4                 fraud_Johnston-Casper          travel   3.19  Nathan   \n\n       last gender                       street        city  ...      lat  \\\n0   Elliott      M            351 Darlene Green    Columbia  ...  33.9659   \n1  Williams      F             3638 Marsh Union     Altonah  ...  40.3207   \n2     Lopez      F         9333 Valentine Point    Bellmore  ...  40.6729   \n3  Williams      M  32941 Krystal Mill Apt. 552  Titusville  ...  28.5697   \n4    Massey      M     5783 Evan Roads Apt. 465    Falmouth  ...  44.2529   \n\n       long  city_pop                     job         dob  \\\n0  -80.9355    333497     Mechanical engineer  1968-03-19   \n1 -110.4360       302  Sales professional, IT  1990-01-17   \n2  -73.5365     34496       Librarian, public  1970-10-21   \n3  -80.8191     54767            Set designer  1987-07-25   \n4  -85.0170      1126      Furniture designer  1955-07-06   \n\n                          trans_num   unix_time  merch_lat  merch_long  \\\n0  2da90c7d74bd46a0caf3777415b3ebd3  1371816865  33.986391  -81.200714   \n1  324cc204407e99f51b0d6ca0055005e7  1371816873  39.450498 -109.960431   \n2  c81755dbbbea9d5c77f094348a7579be  1371816893  40.495810  -74.196111   \n3  2159175b9efe66dc301f149d3d5abf8c  1371816915  28.812398  -80.883061   \n4  57ff021bd3f328f8738bb535c302a31b  1371816917  44.959148  -85.884734   \n\n   is_fraud  \n0         0  \n1         0  \n2         0  \n3         0  \n4         0  \n\n[5 rows x 22 columns]",
            "text/html": "<div>\n<style scoped>\n    .dataframe tbody tr th:only-of-type {\n        vertical-align: middle;\n    }\n\n    .dataframe tbody tr th {\n        vertical-align: top;\n    }\n\n    .dataframe thead th {\n        text-align: right;\n    }\n</style>\n<table border=\"1\" class=\"dataframe\">\n  <thead>\n    <tr style=\"text-align: right;\">\n      <th></th>\n      <th>trans_date_trans_time</th>\n      <th>cc_num</th>\n      <th>merchant</th>\n      <th>category</th>\n      <th>amt</th>\n      <th>first</th>\n      <th>last</th>\n      <th>gender</th>\n      <th>street</th>\n      <th>city</th>\n      <th>...</th>\n      <th>lat</th>\n      <th>long</th>\n      <th>city_pop</th>\n      <th>job</th>\n      <th>dob</th>\n      <th>trans_num</th>\n      <th>unix_time</th>\n      <th>merch_lat</th>\n      <th>merch_long</th>\n      <th>is_fraud</th>\n    </tr>\n  </thead>\n  <tbody>\n    <tr>\n      <th>0</th>\n      <td>2020-06-21 12:14:25</td>\n      <td>2291163933867244</td>\n      <td>fraud_Kirlin and Sons</td>\n      <td>personal_care</td>\n      <td>2.86</td>\n      <td>Jeff</td>\n      <td>Elliott</td>\n      <td>M</td>\n      <td>351 Darlene Green</td>\n      <td>Columbia</td>\n      <td>...</td>\n      <td>33.9659</td>\n      <td>-80.9355</td>\n      <td>333497</td>\n      <td>Mechanical engineer</td>\n      <td>1968-03-19</td>\n      <td>2da90c7d74bd46a0caf3777415b3ebd3</td>\n      <td>1371816865</td>\n      <td>33.986391</td>\n      <td>-81.200714</td>\n      <td>0</td>\n    </tr>\n    <tr>\n      <th>1</th>\n      <td>2020-06-21 12:14:33</td>\n      <td>3573030041201292</td>\n      <td>fraud_Sporer-Keebler</td>\n      <td>personal_care</td>\n      <td>29.84</td>\n      <td>Joanne</td>\n      <td>Williams</td>\n      <td>F</td>\n      <td>3638 Marsh Union</td>\n      <td>Altonah</td>\n      <td>...</td>\n      <td>40.3207</td>\n      <td>-110.4360</td>\n      <td>302</td>\n      <td>Sales professional, IT</td>\n      <td>1990-01-17</td>\n      <td>324cc204407e99f51b0d6ca0055005e7</td>\n      <td>1371816873</td>\n      <td>39.450498</td>\n      <td>-109.960431</td>\n      <td>0</td>\n    </tr>\n    <tr>\n      <th>2</th>\n      <td>2020-06-21 12:14:53</td>\n      <td>3598215285024754</td>\n      <td>fraud_Swaniawski, Nitzsche and Welch</td>\n      <td>health_fitness</td>\n      <td>41.28</td>\n      <td>Ashley</td>\n      <td>Lopez</td>\n      <td>F</td>\n      <td>9333 Valentine Point</td>\n      <td>Bellmore</td>\n      <td>...</td>\n      <td>40.6729</td>\n      <td>-73.5365</td>\n      <td>34496</td>\n      <td>Librarian, public</td>\n      <td>1970-10-21</td>\n      <td>c81755dbbbea9d5c77f094348a7579be</td>\n      <td>1371816893</td>\n      <td>40.495810</td>\n      <td>-74.196111</td>\n      <td>0</td>\n    </tr>\n    <tr>\n      <th>3</th>\n      <td>2020-06-21 12:15:15</td>\n      <td>3591919803438423</td>\n      <td>fraud_Haley Group</td>\n      <td>misc_pos</td>\n      <td>60.05</td>\n      <td>Brian</td>\n      <td>Williams</td>\n      <td>M</td>\n      <td>32941 Krystal Mill Apt. 552</td>\n      <td>Titusville</td>\n      <td>...</td>\n      <td>28.5697</td>\n      <td>-80.8191</td>\n      <td>54767</td>\n      <td>Set designer</td>\n      <td>1987-07-25</td>\n      <td>2159175b9efe66dc301f149d3d5abf8c</td>\n      <td>1371816915</td>\n      <td>28.812398</td>\n      <td>-80.883061</td>\n      <td>0</td>\n    </tr>\n    <tr>\n      <th>4</th>\n      <td>2020-06-21 12:15:17</td>\n      <td>3526826139003047</td>\n      <td>fraud_Johnston-Casper</td>\n      <td>travel</td>\n      <td>3.19</td>\n      <td>Nathan</td>\n      <td>Massey</td>\n      <td>M</td>\n      <td>5783 Evan Roads Apt. 465</td>\n      <td>Falmouth</td>\n      <td>...</td>\n      <td>44.2529</td>\n      <td>-85.0170</td>\n      <td>1126</td>\n      <td>Furniture designer</td>\n      <td>1955-07-06</td>\n      <td>57ff021bd3f328f8738bb535c302a31b</td>\n      <td>1371816917</td>\n      <td>44.959148</td>\n      <td>-85.884734</td>\n      <td>0</td>\n    </tr>\n  </tbody>\n</table>\n<p>5 rows × 22 columns</p>\n</div>"
          },
          "metadata": {}
        }
      ],
      "id": "f77b8590"
    },
    {
      "cell_type": "code",
      "source": [
        "df_fraudTest = df_fraudTest.drop(columns=[\"trans_date_trans_time\", \"cc_num\", \"first\", \"last\", \"street\", \"dob\", \"zip\", \"lat\", \"long\", \"trans_num\", \"unix_time\", \"merchant\", \"city\", \"job\"], axis=1)"
      ],
      "metadata": {
        "id": "Uv5EVuyGXNjA",
        "execution": {
          "iopub.status.busy": "2023-04-20T06:52:12.147399Z",
          "iopub.execute_input": "2023-04-20T06:52:12.147933Z",
          "iopub.status.idle": "2023-04-20T06:52:12.172497Z",
          "shell.execute_reply.started": "2023-04-20T06:52:12.147888Z",
          "shell.execute_reply": "2023-04-20T06:52:12.171590Z"
        },
        "trusted": true
      },
      "execution_count": null,
      "outputs": [],
      "id": "Uv5EVuyGXNjA"
    },
    {
      "cell_type": "code",
      "source": [
        "df_fraudTest.info()"
      ],
      "metadata": {
        "id": "90ugVErNXNld",
        "execution": {
          "iopub.status.busy": "2023-04-20T06:52:12.173932Z",
          "iopub.execute_input": "2023-04-20T06:52:12.174379Z",
          "iopub.status.idle": "2023-04-20T06:52:12.252213Z",
          "shell.execute_reply.started": "2023-04-20T06:52:12.174342Z",
          "shell.execute_reply": "2023-04-20T06:52:12.251039Z"
        },
        "trusted": true,
        "outputId": "9cc53d90-f45d-428b-fdb7-7180dd17e033"
      },
      "execution_count": null,
      "outputs": [
        {
          "name": "stdout",
          "text": "<class 'pandas.core.frame.DataFrame'>\nInt64Index: 555719 entries, 0 to 555718\nData columns (total 8 columns):\n #   Column      Non-Null Count   Dtype  \n---  ------      --------------   -----  \n 0   category    555719 non-null  object \n 1   amt         555719 non-null  float64\n 2   gender      555719 non-null  object \n 3   state       555719 non-null  object \n 4   city_pop    555719 non-null  int64  \n 5   merch_lat   555719 non-null  float64\n 6   merch_long  555719 non-null  float64\n 7   is_fraud    555719 non-null  int64  \ndtypes: float64(3), int64(2), object(3)\nmemory usage: 38.2+ MB\n",
          "output_type": "stream"
        }
      ],
      "id": "90ugVErNXNld"
    },
    {
      "cell_type": "markdown",
      "source": [
        "Checking if there are any missing values in the test dataset"
      ],
      "metadata": {
        "id": "c1025023"
      },
      "id": "c1025023"
    },
    {
      "cell_type": "code",
      "source": [
        "df_fraudTest.isnull().sum()"
      ],
      "metadata": {
        "id": "41ff531a",
        "execution": {
          "iopub.status.busy": "2023-04-20T06:52:12.253928Z",
          "iopub.execute_input": "2023-04-20T06:52:12.254672Z",
          "iopub.status.idle": "2023-04-20T06:52:12.328433Z",
          "shell.execute_reply.started": "2023-04-20T06:52:12.254627Z",
          "shell.execute_reply": "2023-04-20T06:52:12.327212Z"
        },
        "trusted": true,
        "outputId": "76d2ebf7-af53-42db-d40c-3b3e91eb2ae2"
      },
      "execution_count": null,
      "outputs": [
        {
          "execution_count": 103,
          "output_type": "execute_result",
          "data": {
            "text/plain": "category      0\namt           0\ngender        0\nstate         0\ncity_pop      0\nmerch_lat     0\nmerch_long    0\nis_fraud      0\ndtype: int64"
          },
          "metadata": {}
        }
      ],
      "id": "41ff531a"
    },
    {
      "cell_type": "code",
      "source": [
        "df_fraudTest.info()"
      ],
      "metadata": {
        "id": "ZZLzSCvCAlEL",
        "execution": {
          "iopub.status.busy": "2023-04-20T06:52:12.329883Z",
          "iopub.execute_input": "2023-04-20T06:52:12.330586Z",
          "iopub.status.idle": "2023-04-20T06:52:12.406099Z",
          "shell.execute_reply.started": "2023-04-20T06:52:12.330543Z",
          "shell.execute_reply": "2023-04-20T06:52:12.404709Z"
        },
        "trusted": true,
        "outputId": "7ef9c476-5b20-488d-a15b-c86736285f95"
      },
      "execution_count": null,
      "outputs": [
        {
          "name": "stdout",
          "text": "<class 'pandas.core.frame.DataFrame'>\nInt64Index: 555719 entries, 0 to 555718\nData columns (total 8 columns):\n #   Column      Non-Null Count   Dtype  \n---  ------      --------------   -----  \n 0   category    555719 non-null  object \n 1   amt         555719 non-null  float64\n 2   gender      555719 non-null  object \n 3   state       555719 non-null  object \n 4   city_pop    555719 non-null  int64  \n 5   merch_lat   555719 non-null  float64\n 6   merch_long  555719 non-null  float64\n 7   is_fraud    555719 non-null  int64  \ndtypes: float64(3), int64(2), object(3)\nmemory usage: 38.2+ MB\n",
          "output_type": "stream"
        }
      ],
      "id": "ZZLzSCvCAlEL"
    },
    {
      "cell_type": "markdown",
      "source": [
        "#### Encoding of categorical variables in the training dataset"
      ],
      "metadata": {
        "id": "693dd436"
      },
      "id": "693dd436"
    },
    {
      "cell_type": "code",
      "source": [
        "categorical_features = [feature for feature in df_fraudTest.select_dtypes(np.object).columns]"
      ],
      "metadata": {
        "id": "d4696278",
        "execution": {
          "iopub.status.busy": "2023-04-20T06:52:12.408375Z",
          "iopub.execute_input": "2023-04-20T06:52:12.408871Z",
          "iopub.status.idle": "2023-04-20T06:52:12.434142Z",
          "shell.execute_reply.started": "2023-04-20T06:52:12.408821Z",
          "shell.execute_reply": "2023-04-20T06:52:12.433086Z"
        },
        "trusted": true
      },
      "execution_count": null,
      "outputs": [],
      "id": "d4696278"
    },
    {
      "cell_type": "code",
      "source": [
        "categorical_features"
      ],
      "metadata": {
        "id": "1c3074e6",
        "execution": {
          "iopub.status.busy": "2023-04-20T06:52:12.435931Z",
          "iopub.execute_input": "2023-04-20T06:52:12.436310Z",
          "iopub.status.idle": "2023-04-20T06:52:12.443947Z",
          "shell.execute_reply.started": "2023-04-20T06:52:12.436274Z",
          "shell.execute_reply": "2023-04-20T06:52:12.442744Z"
        },
        "trusted": true,
        "outputId": "5c1211bd-5a60-425b-80af-99067022c53f"
      },
      "execution_count": null,
      "outputs": [
        {
          "execution_count": 106,
          "output_type": "execute_result",
          "data": {
            "text/plain": "['category', 'gender', 'state']"
          },
          "metadata": {}
        }
      ],
      "id": "1c3074e6"
    },
    {
      "cell_type": "code",
      "source": [
        "for col in categorical_features:\n",
        "    print('Unique categories in the feature', col, ': ', df_fraudTest[col].nunique())"
      ],
      "metadata": {
        "id": "225127c0",
        "execution": {
          "iopub.status.busy": "2023-04-20T06:52:12.445365Z",
          "iopub.execute_input": "2023-04-20T06:52:12.446525Z",
          "iopub.status.idle": "2023-04-20T06:52:12.558802Z",
          "shell.execute_reply.started": "2023-04-20T06:52:12.446485Z",
          "shell.execute_reply": "2023-04-20T06:52:12.557767Z"
        },
        "trusted": true,
        "outputId": "95a418dc-f158-46a9-926d-1a11d68f28af"
      },
      "execution_count": null,
      "outputs": [
        {
          "name": "stdout",
          "text": "Unique categories in the feature category :  14\nUnique categories in the feature gender :  2\nUnique categories in the feature state :  50\n",
          "output_type": "stream"
        }
      ],
      "id": "225127c0"
    },
    {
      "cell_type": "code",
      "source": [
        "def one_hot_top_10(dataset, variable):\n",
        "    top_10 = [x for x in dataset[variable].value_counts().sort_values(ascending=False).head(10).index]\n",
        "    \n",
        "    for label in top_10:\n",
        "        dataset[variable+'_'+label] = np.where(dataset[variable]==label,1,0)"
      ],
      "metadata": {
        "id": "42a5ccaf",
        "execution": {
          "iopub.status.busy": "2023-04-20T06:52:12.560547Z",
          "iopub.execute_input": "2023-04-20T06:52:12.560973Z",
          "iopub.status.idle": "2023-04-20T06:52:12.567894Z",
          "shell.execute_reply.started": "2023-04-20T06:52:12.560931Z",
          "shell.execute_reply": "2023-04-20T06:52:12.566665Z"
        },
        "trusted": true
      },
      "execution_count": null,
      "outputs": [],
      "id": "42a5ccaf"
    },
    {
      "cell_type": "code",
      "source": [
        "one_hot_top_10(df_fraudTest, 'state')"
      ],
      "metadata": {
        "id": "d730e530",
        "execution": {
          "iopub.status.busy": "2023-04-20T06:52:12.570148Z",
          "iopub.execute_input": "2023-04-20T06:52:12.571143Z",
          "iopub.status.idle": "2023-04-20T06:52:12.955588Z",
          "shell.execute_reply.started": "2023-04-20T06:52:12.571104Z",
          "shell.execute_reply": "2023-04-20T06:52:12.954487Z"
        },
        "trusted": true
      },
      "execution_count": null,
      "outputs": [],
      "id": "d730e530"
    },
    {
      "cell_type": "code",
      "source": [
        "df_test = df_fraudTest.drop(columns=[\"state\"], axis=1)"
      ],
      "metadata": {
        "id": "20e4d3d5",
        "execution": {
          "iopub.status.busy": "2023-04-20T06:52:12.957237Z",
          "iopub.execute_input": "2023-04-20T06:52:12.957647Z",
          "iopub.status.idle": "2023-04-20T06:52:13.005823Z",
          "shell.execute_reply.started": "2023-04-20T06:52:12.957607Z",
          "shell.execute_reply": "2023-04-20T06:52:13.004730Z"
        },
        "trusted": true
      },
      "execution_count": null,
      "outputs": [],
      "id": "20e4d3d5"
    },
    {
      "cell_type": "code",
      "source": [
        "df_test = pd.get_dummies(df_test, drop_first=True)"
      ],
      "metadata": {
        "id": "73c18068",
        "execution": {
          "iopub.status.busy": "2023-04-20T06:52:13.007191Z",
          "iopub.execute_input": "2023-04-20T06:52:13.007601Z",
          "iopub.status.idle": "2023-04-20T06:52:13.145322Z",
          "shell.execute_reply.started": "2023-04-20T06:52:13.007545Z",
          "shell.execute_reply": "2023-04-20T06:52:13.144258Z"
        },
        "trusted": true
      },
      "execution_count": null,
      "outputs": [],
      "id": "73c18068"
    },
    {
      "cell_type": "code",
      "source": [
        "df_test.head()"
      ],
      "metadata": {
        "id": "27e86e43",
        "execution": {
          "iopub.status.busy": "2023-04-20T06:52:13.146737Z",
          "iopub.execute_input": "2023-04-20T06:52:13.148753Z",
          "iopub.status.idle": "2023-04-20T06:52:13.171037Z",
          "shell.execute_reply.started": "2023-04-20T06:52:13.148709Z",
          "shell.execute_reply": "2023-04-20T06:52:13.169746Z"
        },
        "trusted": true,
        "outputId": "06e3fd6c-7ade-45b6-f07d-e37e2d6cb761"
      },
      "execution_count": null,
      "outputs": [
        {
          "execution_count": 112,
          "output_type": "execute_result",
          "data": {
            "text/plain": "     amt  city_pop  merch_lat  merch_long  is_fraud  state_TX  state_NY  \\\n0   2.86    333497  33.986391  -81.200714         0         0         0   \n1  29.84       302  39.450498 -109.960431         0         0         0   \n2  41.28     34496  40.495810  -74.196111         0         0         1   \n3  60.05     54767  28.812398  -80.883061         0         0         0   \n4   3.19      1126  44.959148  -85.884734         0         0         0   \n\n   state_PA  state_CA  state_OH  ...  category_health_fitness  category_home  \\\n0         0         0         0  ...                        0              0   \n1         0         0         0  ...                        0              0   \n2         0         0         0  ...                        1              0   \n3         0         0         0  ...                        0              0   \n4         0         0         0  ...                        0              0   \n\n   category_kids_pets  category_misc_net  category_misc_pos  \\\n0                   0                  0                  0   \n1                   0                  0                  0   \n2                   0                  0                  0   \n3                   0                  0                  1   \n4                   0                  0                  0   \n\n   category_personal_care  category_shopping_net  category_shopping_pos  \\\n0                       1                      0                      0   \n1                       1                      0                      0   \n2                       0                      0                      0   \n3                       0                      0                      0   \n4                       0                      0                      0   \n\n   category_travel  gender_M  \n0                0         1  \n1                0         0  \n2                0         0  \n3                0         1  \n4                1         1  \n\n[5 rows x 29 columns]",
            "text/html": "<div>\n<style scoped>\n    .dataframe tbody tr th:only-of-type {\n        vertical-align: middle;\n    }\n\n    .dataframe tbody tr th {\n        vertical-align: top;\n    }\n\n    .dataframe thead th {\n        text-align: right;\n    }\n</style>\n<table border=\"1\" class=\"dataframe\">\n  <thead>\n    <tr style=\"text-align: right;\">\n      <th></th>\n      <th>amt</th>\n      <th>city_pop</th>\n      <th>merch_lat</th>\n      <th>merch_long</th>\n      <th>is_fraud</th>\n      <th>state_TX</th>\n      <th>state_NY</th>\n      <th>state_PA</th>\n      <th>state_CA</th>\n      <th>state_OH</th>\n      <th>...</th>\n      <th>category_health_fitness</th>\n      <th>category_home</th>\n      <th>category_kids_pets</th>\n      <th>category_misc_net</th>\n      <th>category_misc_pos</th>\n      <th>category_personal_care</th>\n      <th>category_shopping_net</th>\n      <th>category_shopping_pos</th>\n      <th>category_travel</th>\n      <th>gender_M</th>\n    </tr>\n  </thead>\n  <tbody>\n    <tr>\n      <th>0</th>\n      <td>2.86</td>\n      <td>333497</td>\n      <td>33.986391</td>\n      <td>-81.200714</td>\n      <td>0</td>\n      <td>0</td>\n      <td>0</td>\n      <td>0</td>\n      <td>0</td>\n      <td>0</td>\n      <td>...</td>\n      <td>0</td>\n      <td>0</td>\n      <td>0</td>\n      <td>0</td>\n      <td>0</td>\n      <td>1</td>\n      <td>0</td>\n      <td>0</td>\n      <td>0</td>\n      <td>1</td>\n    </tr>\n    <tr>\n      <th>1</th>\n      <td>29.84</td>\n      <td>302</td>\n      <td>39.450498</td>\n      <td>-109.960431</td>\n      <td>0</td>\n      <td>0</td>\n      <td>0</td>\n      <td>0</td>\n      <td>0</td>\n      <td>0</td>\n      <td>...</td>\n      <td>0</td>\n      <td>0</td>\n      <td>0</td>\n      <td>0</td>\n      <td>0</td>\n      <td>1</td>\n      <td>0</td>\n      <td>0</td>\n      <td>0</td>\n      <td>0</td>\n    </tr>\n    <tr>\n      <th>2</th>\n      <td>41.28</td>\n      <td>34496</td>\n      <td>40.495810</td>\n      <td>-74.196111</td>\n      <td>0</td>\n      <td>0</td>\n      <td>1</td>\n      <td>0</td>\n      <td>0</td>\n      <td>0</td>\n      <td>...</td>\n      <td>1</td>\n      <td>0</td>\n      <td>0</td>\n      <td>0</td>\n      <td>0</td>\n      <td>0</td>\n      <td>0</td>\n      <td>0</td>\n      <td>0</td>\n      <td>0</td>\n    </tr>\n    <tr>\n      <th>3</th>\n      <td>60.05</td>\n      <td>54767</td>\n      <td>28.812398</td>\n      <td>-80.883061</td>\n      <td>0</td>\n      <td>0</td>\n      <td>0</td>\n      <td>0</td>\n      <td>0</td>\n      <td>0</td>\n      <td>...</td>\n      <td>0</td>\n      <td>0</td>\n      <td>0</td>\n      <td>0</td>\n      <td>1</td>\n      <td>0</td>\n      <td>0</td>\n      <td>0</td>\n      <td>0</td>\n      <td>1</td>\n    </tr>\n    <tr>\n      <th>4</th>\n      <td>3.19</td>\n      <td>1126</td>\n      <td>44.959148</td>\n      <td>-85.884734</td>\n      <td>0</td>\n      <td>0</td>\n      <td>0</td>\n      <td>0</td>\n      <td>0</td>\n      <td>0</td>\n      <td>...</td>\n      <td>0</td>\n      <td>0</td>\n      <td>0</td>\n      <td>0</td>\n      <td>0</td>\n      <td>0</td>\n      <td>0</td>\n      <td>0</td>\n      <td>1</td>\n      <td>1</td>\n    </tr>\n  </tbody>\n</table>\n<p>5 rows × 29 columns</p>\n</div>"
          },
          "metadata": {}
        }
      ],
      "id": "27e86e43"
    },
    {
      "cell_type": "markdown",
      "source": [
        "#### Feature Selection and Feature scaling in the testing dataset"
      ],
      "metadata": {
        "id": "25715315"
      },
      "id": "25715315"
    },
    {
      "cell_type": "code",
      "source": [
        "df_test = df_test.drop(['state_FL', 'state_NY', 'state_MO'], axis = 1)"
      ],
      "metadata": {
        "id": "9abe9c86",
        "execution": {
          "iopub.status.busy": "2023-04-20T06:52:13.172561Z",
          "iopub.execute_input": "2023-04-20T06:52:13.173083Z",
          "iopub.status.idle": "2023-04-20T06:52:13.223171Z",
          "shell.execute_reply.started": "2023-04-20T06:52:13.173037Z",
          "shell.execute_reply": "2023-04-20T06:52:13.222071Z"
        },
        "trusted": true
      },
      "execution_count": null,
      "outputs": [],
      "id": "9abe9c86"
    },
    {
      "cell_type": "code",
      "source": [
        "df_test.head()"
      ],
      "metadata": {
        "id": "2d214da7",
        "execution": {
          "iopub.status.busy": "2023-04-20T06:52:13.225149Z",
          "iopub.execute_input": "2023-04-20T06:52:13.225580Z",
          "iopub.status.idle": "2023-04-20T06:52:13.246784Z",
          "shell.execute_reply.started": "2023-04-20T06:52:13.225540Z",
          "shell.execute_reply": "2023-04-20T06:52:13.245434Z"
        },
        "trusted": true,
        "outputId": "54931326-da92-4877-d045-4cae809dafa6"
      },
      "execution_count": null,
      "outputs": [
        {
          "execution_count": 114,
          "output_type": "execute_result",
          "data": {
            "text/plain": "     amt  city_pop  merch_lat  merch_long  is_fraud  state_TX  state_PA  \\\n0   2.86    333497  33.986391  -81.200714         0         0         0   \n1  29.84       302  39.450498 -109.960431         0         0         0   \n2  41.28     34496  40.495810  -74.196111         0         0         0   \n3  60.05     54767  28.812398  -80.883061         0         0         0   \n4   3.19      1126  44.959148  -85.884734         0         0         0   \n\n   state_CA  state_OH  state_MI  ...  category_health_fitness  category_home  \\\n0         0         0         0  ...                        0              0   \n1         0         0         0  ...                        0              0   \n2         0         0         0  ...                        1              0   \n3         0         0         0  ...                        0              0   \n4         0         0         1  ...                        0              0   \n\n   category_kids_pets  category_misc_net  category_misc_pos  \\\n0                   0                  0                  0   \n1                   0                  0                  0   \n2                   0                  0                  0   \n3                   0                  0                  1   \n4                   0                  0                  0   \n\n   category_personal_care  category_shopping_net  category_shopping_pos  \\\n0                       1                      0                      0   \n1                       1                      0                      0   \n2                       0                      0                      0   \n3                       0                      0                      0   \n4                       0                      0                      0   \n\n   category_travel  gender_M  \n0                0         1  \n1                0         0  \n2                0         0  \n3                0         1  \n4                1         1  \n\n[5 rows x 26 columns]",
            "text/html": "<div>\n<style scoped>\n    .dataframe tbody tr th:only-of-type {\n        vertical-align: middle;\n    }\n\n    .dataframe tbody tr th {\n        vertical-align: top;\n    }\n\n    .dataframe thead th {\n        text-align: right;\n    }\n</style>\n<table border=\"1\" class=\"dataframe\">\n  <thead>\n    <tr style=\"text-align: right;\">\n      <th></th>\n      <th>amt</th>\n      <th>city_pop</th>\n      <th>merch_lat</th>\n      <th>merch_long</th>\n      <th>is_fraud</th>\n      <th>state_TX</th>\n      <th>state_PA</th>\n      <th>state_CA</th>\n      <th>state_OH</th>\n      <th>state_MI</th>\n      <th>...</th>\n      <th>category_health_fitness</th>\n      <th>category_home</th>\n      <th>category_kids_pets</th>\n      <th>category_misc_net</th>\n      <th>category_misc_pos</th>\n      <th>category_personal_care</th>\n      <th>category_shopping_net</th>\n      <th>category_shopping_pos</th>\n      <th>category_travel</th>\n      <th>gender_M</th>\n    </tr>\n  </thead>\n  <tbody>\n    <tr>\n      <th>0</th>\n      <td>2.86</td>\n      <td>333497</td>\n      <td>33.986391</td>\n      <td>-81.200714</td>\n      <td>0</td>\n      <td>0</td>\n      <td>0</td>\n      <td>0</td>\n      <td>0</td>\n      <td>0</td>\n      <td>...</td>\n      <td>0</td>\n      <td>0</td>\n      <td>0</td>\n      <td>0</td>\n      <td>0</td>\n      <td>1</td>\n      <td>0</td>\n      <td>0</td>\n      <td>0</td>\n      <td>1</td>\n    </tr>\n    <tr>\n      <th>1</th>\n      <td>29.84</td>\n      <td>302</td>\n      <td>39.450498</td>\n      <td>-109.960431</td>\n      <td>0</td>\n      <td>0</td>\n      <td>0</td>\n      <td>0</td>\n      <td>0</td>\n      <td>0</td>\n      <td>...</td>\n      <td>0</td>\n      <td>0</td>\n      <td>0</td>\n      <td>0</td>\n      <td>0</td>\n      <td>1</td>\n      <td>0</td>\n      <td>0</td>\n      <td>0</td>\n      <td>0</td>\n    </tr>\n    <tr>\n      <th>2</th>\n      <td>41.28</td>\n      <td>34496</td>\n      <td>40.495810</td>\n      <td>-74.196111</td>\n      <td>0</td>\n      <td>0</td>\n      <td>0</td>\n      <td>0</td>\n      <td>0</td>\n      <td>0</td>\n      <td>...</td>\n      <td>1</td>\n      <td>0</td>\n      <td>0</td>\n      <td>0</td>\n      <td>0</td>\n      <td>0</td>\n      <td>0</td>\n      <td>0</td>\n      <td>0</td>\n      <td>0</td>\n    </tr>\n    <tr>\n      <th>3</th>\n      <td>60.05</td>\n      <td>54767</td>\n      <td>28.812398</td>\n      <td>-80.883061</td>\n      <td>0</td>\n      <td>0</td>\n      <td>0</td>\n      <td>0</td>\n      <td>0</td>\n      <td>0</td>\n      <td>...</td>\n      <td>0</td>\n      <td>0</td>\n      <td>0</td>\n      <td>0</td>\n      <td>1</td>\n      <td>0</td>\n      <td>0</td>\n      <td>0</td>\n      <td>0</td>\n      <td>1</td>\n    </tr>\n    <tr>\n      <th>4</th>\n      <td>3.19</td>\n      <td>1126</td>\n      <td>44.959148</td>\n      <td>-85.884734</td>\n      <td>0</td>\n      <td>0</td>\n      <td>0</td>\n      <td>0</td>\n      <td>0</td>\n      <td>1</td>\n      <td>...</td>\n      <td>0</td>\n      <td>0</td>\n      <td>0</td>\n      <td>0</td>\n      <td>0</td>\n      <td>0</td>\n      <td>0</td>\n      <td>0</td>\n      <td>1</td>\n      <td>1</td>\n    </tr>\n  </tbody>\n</table>\n<p>5 rows × 26 columns</p>\n</div>"
          },
          "metadata": {}
        }
      ],
      "id": "2d214da7"
    },
    {
      "cell_type": "code",
      "source": [
        "df_test.describe()"
      ],
      "metadata": {
        "id": "48b0d82e",
        "execution": {
          "iopub.status.busy": "2023-04-20T06:52:13.249420Z",
          "iopub.execute_input": "2023-04-20T06:52:13.249899Z",
          "iopub.status.idle": "2023-04-20T06:52:13.557476Z",
          "shell.execute_reply.started": "2023-04-20T06:52:13.249860Z",
          "shell.execute_reply": "2023-04-20T06:52:13.556398Z"
        },
        "trusted": true,
        "outputId": "13a455c9-8738-4ba6-b64d-3174385faf4e"
      },
      "execution_count": null,
      "outputs": [
        {
          "execution_count": 115,
          "output_type": "execute_result",
          "data": {
            "text/plain": "                 amt      city_pop      merch_lat     merch_long  \\\ncount  555719.000000  5.557190e+05  555719.000000  555719.000000   \nmean       69.392810  8.822189e+04      38.542798     -90.231380   \nstd       156.745941  3.003909e+05       5.095829      13.733071   \nmin         1.000000  2.300000e+01      19.027422    -166.671575   \n25%         9.630000  7.410000e+02      34.755302     -96.905129   \n50%        47.290000  2.408000e+03      39.376593     -87.445204   \n75%        83.010000  1.968500e+04      41.954163     -80.264637   \nmax     22768.110000  2.906700e+06      66.679297     -66.952026   \n\n            is_fraud       state_TX       state_PA       state_CA  \\\ncount  555719.000000  555719.000000  555719.000000  555719.000000   \nmean        0.003860       0.072686       0.061769       0.043430   \nstd         0.062008       0.259621       0.240735       0.203824   \nmin         0.000000       0.000000       0.000000       0.000000   \n25%         0.000000       0.000000       0.000000       0.000000   \n50%         0.000000       0.000000       0.000000       0.000000   \n75%         0.000000       0.000000       0.000000       0.000000   \nmax         1.000000       1.000000       1.000000       1.000000   \n\n            state_OH       state_MI  ...  category_health_fitness  \\\ncount  555719.000000  555719.000000  ...            555719.000000   \nmean        0.036254       0.035397  ...                 0.065994   \nstd         0.186922       0.184782  ...                 0.248271   \nmin         0.000000       0.000000  ...                 0.000000   \n25%         0.000000       0.000000  ...                 0.000000   \n50%         0.000000       0.000000  ...                 0.000000   \n75%         0.000000       0.000000  ...                 0.000000   \nmax         1.000000       1.000000  ...                 1.000000   \n\n       category_home  category_kids_pets  category_misc_net  \\\ncount  555719.000000       555719.000000      555719.000000   \nmean        0.094193            0.087620           0.049246   \nstd         0.292098            0.282741           0.216382   \nmin         0.000000            0.000000           0.000000   \n25%         0.000000            0.000000           0.000000   \n50%         0.000000            0.000000           0.000000   \n75%         0.000000            0.000000           0.000000   \nmax         1.000000            1.000000           1.000000   \n\n       category_misc_pos  category_personal_care  category_shopping_net  \\\ncount      555719.000000           555719.000000          555719.000000   \nmean            0.062215                0.070768               0.075180   \nstd             0.241546                0.256437               0.263682   \nmin             0.000000                0.000000               0.000000   \n25%             0.000000                0.000000               0.000000   \n50%             0.000000                0.000000               0.000000   \n75%             0.000000                0.000000               0.000000   \nmax             1.000000                1.000000               1.000000   \n\n       category_shopping_pos  category_travel       gender_M  \ncount          555719.000000    555719.000000  555719.000000  \nmean                0.089597         0.031399       0.451367  \nstd                 0.285604         0.174394       0.497630  \nmin                 0.000000         0.000000       0.000000  \n25%                 0.000000         0.000000       0.000000  \n50%                 0.000000         0.000000       0.000000  \n75%                 0.000000         0.000000       1.000000  \nmax                 1.000000         1.000000       1.000000  \n\n[8 rows x 26 columns]",
            "text/html": "<div>\n<style scoped>\n    .dataframe tbody tr th:only-of-type {\n        vertical-align: middle;\n    }\n\n    .dataframe tbody tr th {\n        vertical-align: top;\n    }\n\n    .dataframe thead th {\n        text-align: right;\n    }\n</style>\n<table border=\"1\" class=\"dataframe\">\n  <thead>\n    <tr style=\"text-align: right;\">\n      <th></th>\n      <th>amt</th>\n      <th>city_pop</th>\n      <th>merch_lat</th>\n      <th>merch_long</th>\n      <th>is_fraud</th>\n      <th>state_TX</th>\n      <th>state_PA</th>\n      <th>state_CA</th>\n      <th>state_OH</th>\n      <th>state_MI</th>\n      <th>...</th>\n      <th>category_health_fitness</th>\n      <th>category_home</th>\n      <th>category_kids_pets</th>\n      <th>category_misc_net</th>\n      <th>category_misc_pos</th>\n      <th>category_personal_care</th>\n      <th>category_shopping_net</th>\n      <th>category_shopping_pos</th>\n      <th>category_travel</th>\n      <th>gender_M</th>\n    </tr>\n  </thead>\n  <tbody>\n    <tr>\n      <th>count</th>\n      <td>555719.000000</td>\n      <td>5.557190e+05</td>\n      <td>555719.000000</td>\n      <td>555719.000000</td>\n      <td>555719.000000</td>\n      <td>555719.000000</td>\n      <td>555719.000000</td>\n      <td>555719.000000</td>\n      <td>555719.000000</td>\n      <td>555719.000000</td>\n      <td>...</td>\n      <td>555719.000000</td>\n      <td>555719.000000</td>\n      <td>555719.000000</td>\n      <td>555719.000000</td>\n      <td>555719.000000</td>\n      <td>555719.000000</td>\n      <td>555719.000000</td>\n      <td>555719.000000</td>\n      <td>555719.000000</td>\n      <td>555719.000000</td>\n    </tr>\n    <tr>\n      <th>mean</th>\n      <td>69.392810</td>\n      <td>8.822189e+04</td>\n      <td>38.542798</td>\n      <td>-90.231380</td>\n      <td>0.003860</td>\n      <td>0.072686</td>\n      <td>0.061769</td>\n      <td>0.043430</td>\n      <td>0.036254</td>\n      <td>0.035397</td>\n      <td>...</td>\n      <td>0.065994</td>\n      <td>0.094193</td>\n      <td>0.087620</td>\n      <td>0.049246</td>\n      <td>0.062215</td>\n      <td>0.070768</td>\n      <td>0.075180</td>\n      <td>0.089597</td>\n      <td>0.031399</td>\n      <td>0.451367</td>\n    </tr>\n    <tr>\n      <th>std</th>\n      <td>156.745941</td>\n      <td>3.003909e+05</td>\n      <td>5.095829</td>\n      <td>13.733071</td>\n      <td>0.062008</td>\n      <td>0.259621</td>\n      <td>0.240735</td>\n      <td>0.203824</td>\n      <td>0.186922</td>\n      <td>0.184782</td>\n      <td>...</td>\n      <td>0.248271</td>\n      <td>0.292098</td>\n      <td>0.282741</td>\n      <td>0.216382</td>\n      <td>0.241546</td>\n      <td>0.256437</td>\n      <td>0.263682</td>\n      <td>0.285604</td>\n      <td>0.174394</td>\n      <td>0.497630</td>\n    </tr>\n    <tr>\n      <th>min</th>\n      <td>1.000000</td>\n      <td>2.300000e+01</td>\n      <td>19.027422</td>\n      <td>-166.671575</td>\n      <td>0.000000</td>\n      <td>0.000000</td>\n      <td>0.000000</td>\n      <td>0.000000</td>\n      <td>0.000000</td>\n      <td>0.000000</td>\n      <td>...</td>\n      <td>0.000000</td>\n      <td>0.000000</td>\n      <td>0.000000</td>\n      <td>0.000000</td>\n      <td>0.000000</td>\n      <td>0.000000</td>\n      <td>0.000000</td>\n      <td>0.000000</td>\n      <td>0.000000</td>\n      <td>0.000000</td>\n    </tr>\n    <tr>\n      <th>25%</th>\n      <td>9.630000</td>\n      <td>7.410000e+02</td>\n      <td>34.755302</td>\n      <td>-96.905129</td>\n      <td>0.000000</td>\n      <td>0.000000</td>\n      <td>0.000000</td>\n      <td>0.000000</td>\n      <td>0.000000</td>\n      <td>0.000000</td>\n      <td>...</td>\n      <td>0.000000</td>\n      <td>0.000000</td>\n      <td>0.000000</td>\n      <td>0.000000</td>\n      <td>0.000000</td>\n      <td>0.000000</td>\n      <td>0.000000</td>\n      <td>0.000000</td>\n      <td>0.000000</td>\n      <td>0.000000</td>\n    </tr>\n    <tr>\n      <th>50%</th>\n      <td>47.290000</td>\n      <td>2.408000e+03</td>\n      <td>39.376593</td>\n      <td>-87.445204</td>\n      <td>0.000000</td>\n      <td>0.000000</td>\n      <td>0.000000</td>\n      <td>0.000000</td>\n      <td>0.000000</td>\n      <td>0.000000</td>\n      <td>...</td>\n      <td>0.000000</td>\n      <td>0.000000</td>\n      <td>0.000000</td>\n      <td>0.000000</td>\n      <td>0.000000</td>\n      <td>0.000000</td>\n      <td>0.000000</td>\n      <td>0.000000</td>\n      <td>0.000000</td>\n      <td>0.000000</td>\n    </tr>\n    <tr>\n      <th>75%</th>\n      <td>83.010000</td>\n      <td>1.968500e+04</td>\n      <td>41.954163</td>\n      <td>-80.264637</td>\n      <td>0.000000</td>\n      <td>0.000000</td>\n      <td>0.000000</td>\n      <td>0.000000</td>\n      <td>0.000000</td>\n      <td>0.000000</td>\n      <td>...</td>\n      <td>0.000000</td>\n      <td>0.000000</td>\n      <td>0.000000</td>\n      <td>0.000000</td>\n      <td>0.000000</td>\n      <td>0.000000</td>\n      <td>0.000000</td>\n      <td>0.000000</td>\n      <td>0.000000</td>\n      <td>1.000000</td>\n    </tr>\n    <tr>\n      <th>max</th>\n      <td>22768.110000</td>\n      <td>2.906700e+06</td>\n      <td>66.679297</td>\n      <td>-66.952026</td>\n      <td>1.000000</td>\n      <td>1.000000</td>\n      <td>1.000000</td>\n      <td>1.000000</td>\n      <td>1.000000</td>\n      <td>1.000000</td>\n      <td>...</td>\n      <td>1.000000</td>\n      <td>1.000000</td>\n      <td>1.000000</td>\n      <td>1.000000</td>\n      <td>1.000000</td>\n      <td>1.000000</td>\n      <td>1.000000</td>\n      <td>1.000000</td>\n      <td>1.000000</td>\n      <td>1.000000</td>\n    </tr>\n  </tbody>\n</table>\n<p>8 rows × 26 columns</p>\n</div>"
          },
          "metadata": {}
        }
      ],
      "id": "48b0d82e"
    },
    {
      "cell_type": "code",
      "source": [
        "df_train.columns"
      ],
      "metadata": {
        "id": "__1gsrZ0NomR",
        "execution": {
          "iopub.status.busy": "2023-04-20T06:52:13.559338Z",
          "iopub.execute_input": "2023-04-20T06:52:13.559767Z",
          "iopub.status.idle": "2023-04-20T06:52:13.567254Z",
          "shell.execute_reply.started": "2023-04-20T06:52:13.559729Z",
          "shell.execute_reply": "2023-04-20T06:52:13.565786Z"
        },
        "trusted": true,
        "outputId": "33dab358-5362-4110-e728-6bcd97e32e45"
      },
      "execution_count": null,
      "outputs": [
        {
          "execution_count": 116,
          "output_type": "execute_result",
          "data": {
            "text/plain": "Index(['amt', 'city_pop', 'merch_lat', 'merch_long', 'state_TX', 'state_PA',\n       'state_CA', 'state_OH', 'state_MI', 'state_IL', 'state_AL',\n       'category_food_dining', 'category_gas_transport',\n       'category_grocery_net', 'category_grocery_pos',\n       'category_health_fitness', 'category_home', 'category_kids_pets',\n       'category_misc_net', 'category_misc_pos', 'category_personal_care',\n       'category_shopping_net', 'category_shopping_pos', 'category_travel',\n       'gender_M', 'is_fraud'],\n      dtype='object')"
          },
          "metadata": {}
        }
      ],
      "id": "__1gsrZ0NomR"
    },
    {
      "cell_type": "code",
      "source": [
        "df_test.columns"
      ],
      "metadata": {
        "id": "QA-tf7YlNTZe",
        "execution": {
          "iopub.status.busy": "2023-04-20T06:52:13.569331Z",
          "iopub.execute_input": "2023-04-20T06:52:13.569733Z",
          "iopub.status.idle": "2023-04-20T06:52:13.578926Z",
          "shell.execute_reply.started": "2023-04-20T06:52:13.569697Z",
          "shell.execute_reply": "2023-04-20T06:52:13.577662Z"
        },
        "trusted": true,
        "outputId": "67cdd449-205d-40d5-9cef-b7d02b73f63c"
      },
      "execution_count": null,
      "outputs": [
        {
          "execution_count": 117,
          "output_type": "execute_result",
          "data": {
            "text/plain": "Index(['amt', 'city_pop', 'merch_lat', 'merch_long', 'is_fraud', 'state_TX',\n       'state_PA', 'state_CA', 'state_OH', 'state_MI', 'state_IL', 'state_AL',\n       'category_food_dining', 'category_gas_transport',\n       'category_grocery_net', 'category_grocery_pos',\n       'category_health_fitness', 'category_home', 'category_kids_pets',\n       'category_misc_net', 'category_misc_pos', 'category_personal_care',\n       'category_shopping_net', 'category_shopping_pos', 'category_travel',\n       'gender_M'],\n      dtype='object')"
          },
          "metadata": {}
        }
      ],
      "id": "QA-tf7YlNTZe"
    },
    {
      "cell_type": "code",
      "source": [
        "X = df_test.drop(columns=[\"is_fraud\"], axis=1)\n",
        "Y = df_test.is_fraud"
      ],
      "metadata": {
        "id": "mOSwpJM8BGUo",
        "execution": {
          "iopub.status.busy": "2023-04-20T06:52:13.580782Z",
          "iopub.execute_input": "2023-04-20T06:52:13.581195Z",
          "iopub.status.idle": "2023-04-20T06:52:13.602149Z",
          "shell.execute_reply.started": "2023-04-20T06:52:13.581156Z",
          "shell.execute_reply": "2023-04-20T06:52:13.601200Z"
        },
        "trusted": true
      },
      "execution_count": null,
      "outputs": [],
      "id": "mOSwpJM8BGUo"
    },
    {
      "cell_type": "code",
      "source": [
        "df_test = X.join(Y, how='inner')"
      ],
      "metadata": {
        "id": "8bhb75X5BKGg",
        "execution": {
          "iopub.status.busy": "2023-04-20T06:52:13.603776Z",
          "iopub.execute_input": "2023-04-20T06:52:13.604127Z",
          "iopub.status.idle": "2023-04-20T06:52:13.645213Z",
          "shell.execute_reply.started": "2023-04-20T06:52:13.604092Z",
          "shell.execute_reply": "2023-04-20T06:52:13.644114Z"
        },
        "trusted": true
      },
      "execution_count": null,
      "outputs": [],
      "id": "8bhb75X5BKGg"
    },
    {
      "cell_type": "code",
      "source": [
        "df_test_scaled = std_scaler.transform(df_test)"
      ],
      "metadata": {
        "id": "57ca49ea",
        "execution": {
          "iopub.status.busy": "2023-04-20T06:52:13.646965Z",
          "iopub.execute_input": "2023-04-20T06:52:13.647365Z",
          "iopub.status.idle": "2023-04-20T06:52:13.778543Z",
          "shell.execute_reply.started": "2023-04-20T06:52:13.647321Z",
          "shell.execute_reply": "2023-04-20T06:52:13.777332Z"
        },
        "trusted": true
      },
      "execution_count": null,
      "outputs": [],
      "id": "57ca49ea"
    },
    {
      "cell_type": "code",
      "source": [
        "df_test = pd.DataFrame(df_test_scaled, columns=df_test.columns)"
      ],
      "metadata": {
        "id": "2aac711f",
        "execution": {
          "iopub.status.busy": "2023-04-20T06:52:13.780054Z",
          "iopub.execute_input": "2023-04-20T06:52:13.781140Z",
          "iopub.status.idle": "2023-04-20T06:52:13.787252Z",
          "shell.execute_reply.started": "2023-04-20T06:52:13.781095Z",
          "shell.execute_reply": "2023-04-20T06:52:13.786122Z"
        },
        "trusted": true
      },
      "execution_count": null,
      "outputs": [],
      "id": "2aac711f"
    },
    {
      "cell_type": "code",
      "source": [
        "df_test.head()"
      ],
      "metadata": {
        "id": "b44586dd",
        "execution": {
          "iopub.status.busy": "2023-04-20T06:52:13.788654Z",
          "iopub.execute_input": "2023-04-20T06:52:13.789762Z",
          "iopub.status.idle": "2023-04-20T06:52:13.820750Z",
          "shell.execute_reply.started": "2023-04-20T06:52:13.789724Z",
          "shell.execute_reply": "2023-04-20T06:52:13.819423Z"
        },
        "trusted": true,
        "outputId": "8cb0a334-41f5-448a-a66a-13e192f42457"
      },
      "execution_count": null,
      "outputs": [
        {
          "execution_count": 122,
          "output_type": "execute_result",
          "data": {
            "text/plain": "        amt     city_pop  merch_lat  merch_long  state_TX  state_PA  state_CA  \\\n0  0.144120  1528.718562   0.308536    0.857151       0.0       0.0       0.0   \n1  2.234631     1.362375   0.421239    0.568731       0.0       0.0       0.0   \n2  3.121045   158.106677   0.442800    0.927397       0.0       0.0       0.0   \n3  4.575415   251.028351   0.201817    0.860336       0.0       0.0       0.0   \n4  0.169689     5.139567   0.534860    0.810176       0.0       0.0       0.0   \n\n   state_OH  state_MI  state_IL  ...  category_home  category_kids_pets  \\\n0       0.0       0.0       0.0  ...            0.0                 0.0   \n1       0.0       0.0       0.0  ...            0.0                 0.0   \n2       0.0       0.0       0.0  ...            0.0                 0.0   \n3       0.0       0.0       0.0  ...            0.0                 0.0   \n4       0.0       1.0       0.0  ...            0.0                 0.0   \n\n   category_misc_net  category_misc_pos  category_personal_care  \\\n0                0.0                0.0                     1.0   \n1                0.0                0.0                     1.0   \n2                0.0                0.0                     0.0   \n3                0.0                1.0                     0.0   \n4                0.0                0.0                     0.0   \n\n   category_shopping_net  category_shopping_pos  category_travel  gender_M  \\\n0                    0.0                    0.0              0.0       1.0   \n1                    0.0                    0.0              0.0       0.0   \n2                    0.0                    0.0              0.0       0.0   \n3                    0.0                    0.0              0.0       1.0   \n4                    0.0                    0.0              1.0       1.0   \n\n   is_fraud  \n0       0.0  \n1       0.0  \n2       0.0  \n3       0.0  \n4       0.0  \n\n[5 rows x 26 columns]",
            "text/html": "<div>\n<style scoped>\n    .dataframe tbody tr th:only-of-type {\n        vertical-align: middle;\n    }\n\n    .dataframe tbody tr th {\n        vertical-align: top;\n    }\n\n    .dataframe thead th {\n        text-align: right;\n    }\n</style>\n<table border=\"1\" class=\"dataframe\">\n  <thead>\n    <tr style=\"text-align: right;\">\n      <th></th>\n      <th>amt</th>\n      <th>city_pop</th>\n      <th>merch_lat</th>\n      <th>merch_long</th>\n      <th>state_TX</th>\n      <th>state_PA</th>\n      <th>state_CA</th>\n      <th>state_OH</th>\n      <th>state_MI</th>\n      <th>state_IL</th>\n      <th>...</th>\n      <th>category_home</th>\n      <th>category_kids_pets</th>\n      <th>category_misc_net</th>\n      <th>category_misc_pos</th>\n      <th>category_personal_care</th>\n      <th>category_shopping_net</th>\n      <th>category_shopping_pos</th>\n      <th>category_travel</th>\n      <th>gender_M</th>\n      <th>is_fraud</th>\n    </tr>\n  </thead>\n  <tbody>\n    <tr>\n      <th>0</th>\n      <td>0.144120</td>\n      <td>1528.718562</td>\n      <td>0.308536</td>\n      <td>0.857151</td>\n      <td>0.0</td>\n      <td>0.0</td>\n      <td>0.0</td>\n      <td>0.0</td>\n      <td>0.0</td>\n      <td>0.0</td>\n      <td>...</td>\n      <td>0.0</td>\n      <td>0.0</td>\n      <td>0.0</td>\n      <td>0.0</td>\n      <td>1.0</td>\n      <td>0.0</td>\n      <td>0.0</td>\n      <td>0.0</td>\n      <td>1.0</td>\n      <td>0.0</td>\n    </tr>\n    <tr>\n      <th>1</th>\n      <td>2.234631</td>\n      <td>1.362375</td>\n      <td>0.421239</td>\n      <td>0.568731</td>\n      <td>0.0</td>\n      <td>0.0</td>\n      <td>0.0</td>\n      <td>0.0</td>\n      <td>0.0</td>\n      <td>0.0</td>\n      <td>...</td>\n      <td>0.0</td>\n      <td>0.0</td>\n      <td>0.0</td>\n      <td>0.0</td>\n      <td>1.0</td>\n      <td>0.0</td>\n      <td>0.0</td>\n      <td>0.0</td>\n      <td>0.0</td>\n      <td>0.0</td>\n    </tr>\n    <tr>\n      <th>2</th>\n      <td>3.121045</td>\n      <td>158.106677</td>\n      <td>0.442800</td>\n      <td>0.927397</td>\n      <td>0.0</td>\n      <td>0.0</td>\n      <td>0.0</td>\n      <td>0.0</td>\n      <td>0.0</td>\n      <td>0.0</td>\n      <td>...</td>\n      <td>0.0</td>\n      <td>0.0</td>\n      <td>0.0</td>\n      <td>0.0</td>\n      <td>0.0</td>\n      <td>0.0</td>\n      <td>0.0</td>\n      <td>0.0</td>\n      <td>0.0</td>\n      <td>0.0</td>\n    </tr>\n    <tr>\n      <th>3</th>\n      <td>4.575415</td>\n      <td>251.028351</td>\n      <td>0.201817</td>\n      <td>0.860336</td>\n      <td>0.0</td>\n      <td>0.0</td>\n      <td>0.0</td>\n      <td>0.0</td>\n      <td>0.0</td>\n      <td>0.0</td>\n      <td>...</td>\n      <td>0.0</td>\n      <td>0.0</td>\n      <td>0.0</td>\n      <td>1.0</td>\n      <td>0.0</td>\n      <td>0.0</td>\n      <td>0.0</td>\n      <td>0.0</td>\n      <td>1.0</td>\n      <td>0.0</td>\n    </tr>\n    <tr>\n      <th>4</th>\n      <td>0.169689</td>\n      <td>5.139567</td>\n      <td>0.534860</td>\n      <td>0.810176</td>\n      <td>0.0</td>\n      <td>0.0</td>\n      <td>0.0</td>\n      <td>0.0</td>\n      <td>1.0</td>\n      <td>0.0</td>\n      <td>...</td>\n      <td>0.0</td>\n      <td>0.0</td>\n      <td>0.0</td>\n      <td>0.0</td>\n      <td>0.0</td>\n      <td>0.0</td>\n      <td>0.0</td>\n      <td>1.0</td>\n      <td>1.0</td>\n      <td>0.0</td>\n    </tr>\n  </tbody>\n</table>\n<p>5 rows × 26 columns</p>\n</div>"
          },
          "metadata": {}
        }
      ],
      "id": "b44586dd"
    },
    {
      "cell_type": "code",
      "source": [
        "df_test.describe()"
      ],
      "metadata": {
        "id": "9386df71",
        "execution": {
          "iopub.status.busy": "2023-04-20T06:52:13.822858Z",
          "iopub.execute_input": "2023-04-20T06:52:13.823518Z",
          "iopub.status.idle": "2023-04-20T06:52:14.286680Z",
          "shell.execute_reply.started": "2023-04-20T06:52:13.823473Z",
          "shell.execute_reply": "2023-04-20T06:52:14.285525Z"
        },
        "trusted": true,
        "outputId": "110dc6b7-0f18-46d6-8565-73042b6b7ce7"
      },
      "execution_count": null,
      "outputs": [
        {
          "execution_count": 123,
          "output_type": "execute_result",
          "data": {
            "text/plain": "                 amt       city_pop      merch_lat     merch_long  \\\ncount  555719.000000  555719.000000  555719.000000  555719.000000   \nmean        5.299331     404.384584       0.402517       0.766586   \nstd        12.145261    1376.983111       0.105107       0.137724   \nmin         0.000000       0.083447      -0.000007      -0.000003   \n25%         0.668685       3.374738       0.324396       0.699657   \n50%         3.586722      11.016218       0.419715       0.794527   \n75%         6.354441      90.213483       0.472880       0.866538   \nmax      1764.080773   13324.206259       0.982860       1.000045   \n\n            state_TX       state_PA       state_CA       state_OH  \\\ncount  555719.000000  555719.000000  555719.000000  555719.000000   \nmean        0.072686       0.061769       0.043430       0.036254   \nstd         0.259621       0.240735       0.203824       0.186922   \nmin         0.000000       0.000000       0.000000       0.000000   \n25%         0.000000       0.000000       0.000000       0.000000   \n50%         0.000000       0.000000       0.000000       0.000000   \n75%         0.000000       0.000000       0.000000       0.000000   \nmax         1.000000       1.000000       1.000000       1.000000   \n\n            state_MI       state_IL  ...  category_home  category_kids_pets  \\\ncount  555719.000000  555719.000000  ...  555719.000000       555719.000000   \nmean        0.035397       0.034118  ...       0.094193            0.087620   \nstd         0.184782       0.181532  ...       0.292098            0.282741   \nmin         0.000000       0.000000  ...       0.000000            0.000000   \n25%         0.000000       0.000000  ...       0.000000            0.000000   \n50%         0.000000       0.000000  ...       0.000000            0.000000   \n75%         0.000000       0.000000  ...       0.000000            0.000000   \nmax         1.000000       1.000000  ...       1.000000            1.000000   \n\n       category_misc_net  category_misc_pos  category_personal_care  \\\ncount      555719.000000      555719.000000           555719.000000   \nmean            0.049246           0.062215                0.070768   \nstd             0.216382           0.241546                0.256437   \nmin             0.000000           0.000000                0.000000   \n25%             0.000000           0.000000                0.000000   \n50%             0.000000           0.000000                0.000000   \n75%             0.000000           0.000000                0.000000   \nmax             1.000000           1.000000                1.000000   \n\n       category_shopping_net  category_shopping_pos  category_travel  \\\ncount          555719.000000          555719.000000    555719.000000   \nmean                0.075180               0.089597         0.031399   \nstd                 0.263682               0.285604         0.174394   \nmin                 0.000000               0.000000         0.000000   \n25%                 0.000000               0.000000         0.000000   \n50%                 0.000000               0.000000         0.000000   \n75%                 0.000000               0.000000         0.000000   \nmax                 1.000000               1.000000         1.000000   \n\n            gender_M       is_fraud  \ncount  555719.000000  555719.000000  \nmean        0.451367       0.003860  \nstd         0.497630       0.062008  \nmin         0.000000       0.000000  \n25%         0.000000       0.000000  \n50%         0.000000       0.000000  \n75%         1.000000       0.000000  \nmax         1.000000       1.000000  \n\n[8 rows x 26 columns]",
            "text/html": "<div>\n<style scoped>\n    .dataframe tbody tr th:only-of-type {\n        vertical-align: middle;\n    }\n\n    .dataframe tbody tr th {\n        vertical-align: top;\n    }\n\n    .dataframe thead th {\n        text-align: right;\n    }\n</style>\n<table border=\"1\" class=\"dataframe\">\n  <thead>\n    <tr style=\"text-align: right;\">\n      <th></th>\n      <th>amt</th>\n      <th>city_pop</th>\n      <th>merch_lat</th>\n      <th>merch_long</th>\n      <th>state_TX</th>\n      <th>state_PA</th>\n      <th>state_CA</th>\n      <th>state_OH</th>\n      <th>state_MI</th>\n      <th>state_IL</th>\n      <th>...</th>\n      <th>category_home</th>\n      <th>category_kids_pets</th>\n      <th>category_misc_net</th>\n      <th>category_misc_pos</th>\n      <th>category_personal_care</th>\n      <th>category_shopping_net</th>\n      <th>category_shopping_pos</th>\n      <th>category_travel</th>\n      <th>gender_M</th>\n      <th>is_fraud</th>\n    </tr>\n  </thead>\n  <tbody>\n    <tr>\n      <th>count</th>\n      <td>555719.000000</td>\n      <td>555719.000000</td>\n      <td>555719.000000</td>\n      <td>555719.000000</td>\n      <td>555719.000000</td>\n      <td>555719.000000</td>\n      <td>555719.000000</td>\n      <td>555719.000000</td>\n      <td>555719.000000</td>\n      <td>555719.000000</td>\n      <td>...</td>\n      <td>555719.000000</td>\n      <td>555719.000000</td>\n      <td>555719.000000</td>\n      <td>555719.000000</td>\n      <td>555719.000000</td>\n      <td>555719.000000</td>\n      <td>555719.000000</td>\n      <td>555719.000000</td>\n      <td>555719.000000</td>\n      <td>555719.000000</td>\n    </tr>\n    <tr>\n      <th>mean</th>\n      <td>5.299331</td>\n      <td>404.384584</td>\n      <td>0.402517</td>\n      <td>0.766586</td>\n      <td>0.072686</td>\n      <td>0.061769</td>\n      <td>0.043430</td>\n      <td>0.036254</td>\n      <td>0.035397</td>\n      <td>0.034118</td>\n      <td>...</td>\n      <td>0.094193</td>\n      <td>0.087620</td>\n      <td>0.049246</td>\n      <td>0.062215</td>\n      <td>0.070768</td>\n      <td>0.075180</td>\n      <td>0.089597</td>\n      <td>0.031399</td>\n      <td>0.451367</td>\n      <td>0.003860</td>\n    </tr>\n    <tr>\n      <th>std</th>\n      <td>12.145261</td>\n      <td>1376.983111</td>\n      <td>0.105107</td>\n      <td>0.137724</td>\n      <td>0.259621</td>\n      <td>0.240735</td>\n      <td>0.203824</td>\n      <td>0.186922</td>\n      <td>0.184782</td>\n      <td>0.181532</td>\n      <td>...</td>\n      <td>0.292098</td>\n      <td>0.282741</td>\n      <td>0.216382</td>\n      <td>0.241546</td>\n      <td>0.256437</td>\n      <td>0.263682</td>\n      <td>0.285604</td>\n      <td>0.174394</td>\n      <td>0.497630</td>\n      <td>0.062008</td>\n    </tr>\n    <tr>\n      <th>min</th>\n      <td>0.000000</td>\n      <td>0.083447</td>\n      <td>-0.000007</td>\n      <td>-0.000003</td>\n      <td>0.000000</td>\n      <td>0.000000</td>\n      <td>0.000000</td>\n      <td>0.000000</td>\n      <td>0.000000</td>\n      <td>0.000000</td>\n      <td>...</td>\n      <td>0.000000</td>\n      <td>0.000000</td>\n      <td>0.000000</td>\n      <td>0.000000</td>\n      <td>0.000000</td>\n      <td>0.000000</td>\n      <td>0.000000</td>\n      <td>0.000000</td>\n      <td>0.000000</td>\n      <td>0.000000</td>\n    </tr>\n    <tr>\n      <th>25%</th>\n      <td>0.668685</td>\n      <td>3.374738</td>\n      <td>0.324396</td>\n      <td>0.699657</td>\n      <td>0.000000</td>\n      <td>0.000000</td>\n      <td>0.000000</td>\n      <td>0.000000</td>\n      <td>0.000000</td>\n      <td>0.000000</td>\n      <td>...</td>\n      <td>0.000000</td>\n      <td>0.000000</td>\n      <td>0.000000</td>\n      <td>0.000000</td>\n      <td>0.000000</td>\n      <td>0.000000</td>\n      <td>0.000000</td>\n      <td>0.000000</td>\n      <td>0.000000</td>\n      <td>0.000000</td>\n    </tr>\n    <tr>\n      <th>50%</th>\n      <td>3.586722</td>\n      <td>11.016218</td>\n      <td>0.419715</td>\n      <td>0.794527</td>\n      <td>0.000000</td>\n      <td>0.000000</td>\n      <td>0.000000</td>\n      <td>0.000000</td>\n      <td>0.000000</td>\n      <td>0.000000</td>\n      <td>...</td>\n      <td>0.000000</td>\n      <td>0.000000</td>\n      <td>0.000000</td>\n      <td>0.000000</td>\n      <td>0.000000</td>\n      <td>0.000000</td>\n      <td>0.000000</td>\n      <td>0.000000</td>\n      <td>0.000000</td>\n      <td>0.000000</td>\n    </tr>\n    <tr>\n      <th>75%</th>\n      <td>6.354441</td>\n      <td>90.213483</td>\n      <td>0.472880</td>\n      <td>0.866538</td>\n      <td>0.000000</td>\n      <td>0.000000</td>\n      <td>0.000000</td>\n      <td>0.000000</td>\n      <td>0.000000</td>\n      <td>0.000000</td>\n      <td>...</td>\n      <td>0.000000</td>\n      <td>0.000000</td>\n      <td>0.000000</td>\n      <td>0.000000</td>\n      <td>0.000000</td>\n      <td>0.000000</td>\n      <td>0.000000</td>\n      <td>0.000000</td>\n      <td>1.000000</td>\n      <td>0.000000</td>\n    </tr>\n    <tr>\n      <th>max</th>\n      <td>1764.080773</td>\n      <td>13324.206259</td>\n      <td>0.982860</td>\n      <td>1.000045</td>\n      <td>1.000000</td>\n      <td>1.000000</td>\n      <td>1.000000</td>\n      <td>1.000000</td>\n      <td>1.000000</td>\n      <td>1.000000</td>\n      <td>...</td>\n      <td>1.000000</td>\n      <td>1.000000</td>\n      <td>1.000000</td>\n      <td>1.000000</td>\n      <td>1.000000</td>\n      <td>1.000000</td>\n      <td>1.000000</td>\n      <td>1.000000</td>\n      <td>1.000000</td>\n      <td>1.000000</td>\n    </tr>\n  </tbody>\n</table>\n<p>8 rows × 26 columns</p>\n</div>"
          },
          "metadata": {}
        }
      ],
      "id": "9386df71"
    },
    {
      "cell_type": "markdown",
      "source": [
        "The training and the test dataframes are ready for model training and testing purpose"
      ],
      "metadata": {
        "id": "8c36f0ad"
      },
      "id": "8c36f0ad"
    },
    {
      "cell_type": "markdown",
      "source": [
        "### 3.5 Identify the target variables.\n",
        "\n",
        "* Separating the data from the target such that the dataset is in the form of (X,y) or (Features, Label)"
      ],
      "metadata": {
        "id": "6d8462fe"
      },
      "id": "6d8462fe"
    },
    {
      "cell_type": "code",
      "source": [
        "X_train = df_train.drop(columns=[\"is_fraud\"], axis=1)\n",
        "Y_train = df_train.is_fraud"
      ],
      "metadata": {
        "id": "d9420f60",
        "execution": {
          "iopub.status.busy": "2023-04-20T06:52:14.288398Z",
          "iopub.execute_input": "2023-04-20T06:52:14.289120Z",
          "iopub.status.idle": "2023-04-20T06:52:14.427163Z",
          "shell.execute_reply.started": "2023-04-20T06:52:14.289077Z",
          "shell.execute_reply": "2023-04-20T06:52:14.425910Z"
        },
        "trusted": true
      },
      "execution_count": null,
      "outputs": [],
      "id": "d9420f60"
    },
    {
      "cell_type": "code",
      "source": [
        "X_test = df_test.drop(columns=[\"is_fraud\"], axis=1)\n",
        "Y_test = df_test.is_fraud"
      ],
      "metadata": {
        "id": "d3c44e40",
        "execution": {
          "iopub.status.busy": "2023-04-20T06:52:14.431858Z",
          "iopub.execute_input": "2023-04-20T06:52:14.432241Z",
          "iopub.status.idle": "2023-04-20T06:52:14.460362Z",
          "shell.execute_reply.started": "2023-04-20T06:52:14.432193Z",
          "shell.execute_reply": "2023-04-20T06:52:14.459322Z"
        },
        "trusted": true
      },
      "execution_count": null,
      "outputs": [],
      "id": "d3c44e40"
    },
    {
      "cell_type": "markdown",
      "source": [
        "## 3.6 Report\n",
        "\n",
        "* Duplicate data was not present  in the dataset\n",
        "\n",
        "* There was no missing data in the dataset\n",
        "\n",
        "* Skewness and outliers were handled. For skewness, we used **square root transformation**. The data was moderately skewed due to which this technique was used.\n",
        "\n",
        "* The categorical columns were encoded because the Machine Learning/Deep Learning algorithms work better with numbers than with object types. We implemented one hot encoding to encode the categorical features because the categorical columns were nominal and not ordinal\n",
        "\n",
        "* the normalization technique used was MinMaxNormalization as it scales down the continuous features between 0 and 1"
      ],
      "metadata": {
        "id": "6a68a71b"
      },
      "id": "6a68a71b"
    },
    {
      "cell_type": "markdown",
      "source": [
        "# 4. Deep Neural Network Architecture"
      ],
      "metadata": {
        "id": "b89aeb89"
      },
      "id": "b89aeb89"
    },
    {
      "cell_type": "markdown",
      "source": [
        "#### Importing the keras libraries and packages"
      ],
      "metadata": {
        "id": "fd9b76bc"
      },
      "id": "fd9b76bc"
    },
    {
      "cell_type": "code",
      "source": [
        "from keras.models import Sequential\n",
        "from keras import layers\n",
        "from keras.layers import Dense, LeakyReLU, PReLU, ELU, Dropout"
      ],
      "metadata": {
        "id": "bdfa7fd4",
        "execution": {
          "iopub.status.busy": "2023-04-20T06:52:14.462299Z",
          "iopub.execute_input": "2023-04-20T06:52:14.462747Z",
          "iopub.status.idle": "2023-04-20T06:52:14.470555Z",
          "shell.execute_reply.started": "2023-04-20T06:52:14.462709Z",
          "shell.execute_reply": "2023-04-20T06:52:14.469513Z"
        },
        "trusted": true
      },
      "execution_count": null,
      "outputs": [],
      "id": "bdfa7fd4"
    },
    {
      "cell_type": "markdown",
      "source": [
        "* Initiating the ANN. This will be an empty neural network when instantiated"
      ],
      "metadata": {
        "id": "9ef6f467"
      },
      "id": "9ef6f467"
    },
    {
      "cell_type": "code",
      "source": [
        "model = Sequential()"
      ],
      "metadata": {
        "id": "15914070",
        "execution": {
          "iopub.status.busy": "2023-04-20T06:52:14.472429Z",
          "iopub.execute_input": "2023-04-20T06:52:14.472825Z",
          "iopub.status.idle": "2023-04-20T06:52:15.001764Z",
          "shell.execute_reply.started": "2023-04-20T06:52:14.472789Z",
          "shell.execute_reply": "2023-04-20T06:52:15.000571Z"
        },
        "trusted": true
      },
      "execution_count": null,
      "outputs": [],
      "id": "15914070"
    },
    {
      "cell_type": "markdown",
      "source": [
        "## 4.1 Design the architecture that you will be using to solve the prediction problem identified.\n",
        "\n",
        "* Add dense layers, specifying the number of units in each layer and the activation function used in the layer."
      ],
      "metadata": {
        "id": "1de5251b"
      },
      "id": "1de5251b"
    },
    {
      "cell_type": "code",
      "source": [
        "# Number of features\n",
        "input_dim = X_train.shape[1]\n",
        "input_dim"
      ],
      "metadata": {
        "id": "XLoIZKypj5na",
        "execution": {
          "iopub.status.busy": "2023-04-20T06:52:15.003545Z",
          "iopub.execute_input": "2023-04-20T06:52:15.003922Z",
          "iopub.status.idle": "2023-04-20T06:52:15.013510Z",
          "shell.execute_reply.started": "2023-04-20T06:52:15.003886Z",
          "shell.execute_reply": "2023-04-20T06:52:15.012123Z"
        },
        "trusted": true,
        "outputId": "673223a7-71ff-495b-b3f3-52caa57df3e5"
      },
      "execution_count": null,
      "outputs": [
        {
          "execution_count": 128,
          "output_type": "execute_result",
          "data": {
            "text/plain": "25"
          },
          "metadata": {}
        }
      ],
      "id": "XLoIZKypj5na"
    },
    {
      "cell_type": "code",
      "source": [
        "# Adding the input layer\n",
        "model.add(layers.Dense(units=64, kernel_initializer = 'he_uniform', input_dim=input_dim, activation='relu'))\n",
        "model.add(Dropout(0.2))\n",
        "\n",
        "# Adding the first hidden layer\n",
        "model.add(layers.Dense(units=32, kernel_initializer = 'he_uniform', activation='relu'))\n",
        "model.add(Dropout(0.4))\n",
        "\n",
        "# Adding the second hidden layer\n",
        "model.add(layers.Dense(units=16, kernel_initializer = 'he_uniform', activation='relu'))\n",
        "model.add(Dropout(0.4))\n",
        "\n",
        "# Adding the third hidden layer\n",
        "model.add(layers.Dense(units=8, kernel_initializer = 'he_uniform', activation='relu'))\n",
        "model.add(Dropout(0.4))\n",
        "\n",
        "# Adding the output layer\n",
        "model.add(layers.Dense(units=1, kernel_initializer = 'glorot_uniform', activation='sigmoid'))"
      ],
      "metadata": {
        "id": "766319dc",
        "execution": {
          "iopub.status.busy": "2023-04-20T06:52:15.015021Z",
          "iopub.execute_input": "2023-04-20T06:52:15.015815Z",
          "iopub.status.idle": "2023-04-20T06:52:15.199256Z",
          "shell.execute_reply.started": "2023-04-20T06:52:15.015778Z",
          "shell.execute_reply": "2023-04-20T06:52:15.198280Z"
        },
        "trusted": true
      },
      "execution_count": null,
      "outputs": [],
      "id": "766319dc"
    },
    {
      "cell_type": "markdown",
      "source": [
        "### Reason/Justification for choosing the number of layers, nodes, activation function\n",
        "\n",
        "In the above code, **he_uniform** is a technique to intialize the weights of the ANN. This technique works well with **relu** activation function. The **relu** activation function prevents vanishing gradient problem. **sigmoid** activation function is helpful in binary classification\n",
        "\n",
        "We have passed the **input dimensions** in the input layer\n",
        "\n",
        "We are considering 64 neurons in the input layer, 32 neurons in the first hidden layer, 16 neurons in the second hidden layer and and 8 neurons in the third hidden layer.\n",
        "\n",
        "The output layer will have 1 neuron because this is a binary classification problem\n",
        "\n",
        "The number of hidden neurons should be between the size of the input layer and the size of the output layer. The number of hidden neurons should be 2/3 the size of the input layer, plus the size of the output layer.\n",
        "\n",
        "Here are some guidelines to know the number of hidden layers and neurons per each hidden layer in a classification problem:\n",
        "\n",
        "Based on the data, draw an expected decision boundary to separate the classes.\n",
        "Express the decision boundary as a set of lines. Note that the combination of such lines must yield to the decision boundary. The number of selected lines represents the number of hidden neurons in the first hidden layer. To connect the lines created by the previous layer, a new hidden layer is added each time you need to create connections among the lines in the previous hidden layer. The number of hidden neurons in each new hidden layer equals the number of connections to be made."
      ],
      "metadata": {
        "id": "2342d676"
      },
      "id": "2342d676"
    },
    {
      "cell_type": "code",
      "source": [
        "#Displaying the model summary\n",
        "model.summary()"
      ],
      "metadata": {
        "id": "b265f4f4",
        "execution": {
          "iopub.status.busy": "2023-04-20T06:52:15.200568Z",
          "iopub.execute_input": "2023-04-20T06:52:15.200977Z",
          "iopub.status.idle": "2023-04-20T06:52:15.229360Z",
          "shell.execute_reply.started": "2023-04-20T06:52:15.200939Z",
          "shell.execute_reply": "2023-04-20T06:52:15.228519Z"
        },
        "trusted": true,
        "outputId": "692f0b22-5b2a-4687-c590-d3f214ee0df1"
      },
      "execution_count": null,
      "outputs": [
        {
          "name": "stdout",
          "text": "Model: \"sequential\"\n_________________________________________________________________\n Layer (type)                Output Shape              Param #   \n=================================================================\n dense (Dense)               (None, 64)                1664      \n                                                                 \n dropout (Dropout)           (None, 64)                0         \n                                                                 \n dense_1 (Dense)             (None, 32)                2080      \n                                                                 \n dropout_1 (Dropout)         (None, 32)                0         \n                                                                 \n dense_2 (Dense)             (None, 16)                528       \n                                                                 \n dropout_2 (Dropout)         (None, 16)                0         \n                                                                 \n dense_3 (Dense)             (None, 8)                 136       \n                                                                 \n dropout_3 (Dropout)         (None, 8)                 0         \n                                                                 \n dense_4 (Dense)             (None, 1)                 9         \n                                                                 \n=================================================================\nTotal params: 4,417\nTrainable params: 4,417\nNon-trainable params: 0\n_________________________________________________________________\n",
          "output_type": "stream"
        }
      ],
      "id": "b265f4f4"
    },
    {
      "cell_type": "markdown",
      "source": [
        "## 4.2 Report\n",
        "\n",
        "* Number of layers: 5 layers\n",
        "\n",
        "* Number of units in each layer: \n",
        "\n",
        " - Input layer: 64 units\n",
        " - First layer: 16 units\n",
        " - Second layer: 8 units\n",
        " - Third layer: 4 units\n",
        " - Output layer: 1 unit\n",
        "\n",
        "* Activation function used in each hidden layer: relu activation function\n",
        "\n",
        "* Activation function used in the output layer: sigmoid activation\n",
        "\n",
        "* Total number of trainable parameters: 4417"
      ],
      "metadata": {
        "id": "4203db56"
      },
      "id": "4203db56"
    },
    {
      "cell_type": "markdown",
      "source": [
        "# 5. Training the model\n",
        "\n",
        "## 5.1 Configure the training\n",
        "\n",
        "Configure the model for training, by using appropriate optimizers and regularizations"
      ],
      "metadata": {
        "id": "6f4cfa65"
      },
      "id": "6f4cfa65"
    },
    {
      "cell_type": "code",
      "source": [
        "# Compiling the ANN\n",
        "model.compile(loss='binary_crossentropy', \n",
        "              optimizer='adam', \n",
        "              metrics=['accuracy'])"
      ],
      "metadata": {
        "id": "9a1b0e98",
        "execution": {
          "iopub.status.busy": "2023-04-20T06:52:15.230491Z",
          "iopub.execute_input": "2023-04-20T06:52:15.231084Z",
          "iopub.status.idle": "2023-04-20T06:52:15.259017Z",
          "shell.execute_reply.started": "2023-04-20T06:52:15.231044Z",
          "shell.execute_reply": "2023-04-20T06:52:15.257943Z"
        },
        "trusted": true
      },
      "execution_count": null,
      "outputs": [],
      "id": "9a1b0e98"
    },
    {
      "cell_type": "markdown",
      "source": [
        "We have selected the **adam** optimizer for backpropagation\n",
        "\n",
        "Whenever the output is binary, then we can select **binary_crossentropy** for the loss\n",
        "\n",
        "We have selected **accuracy** as the metrics"
      ],
      "metadata": {
        "id": "4ca158e7"
      },
      "id": "4ca158e7"
    },
    {
      "cell_type": "markdown",
      "source": [
        "## 5.2 Train the model"
      ],
      "metadata": {
        "id": "e77da30e"
      },
      "id": "e77da30e"
    },
    {
      "cell_type": "code",
      "source": [
        "# Fitting the ANN to the training set\n",
        "classifier_nn = model.fit(X_train,Y_train,\n",
        "                          validation_split = 0.20,\n",
        "                          epochs=15,\n",
        "                          verbose=True,\n",
        "                          batch_size=256,\n",
        "                          shuffle=True,\n",
        "                          )"
      ],
      "metadata": {
        "id": "4405fbbe",
        "execution": {
          "iopub.status.busy": "2023-04-20T06:52:15.260304Z",
          "iopub.execute_input": "2023-04-20T06:52:15.261367Z",
          "iopub.status.idle": "2023-04-20T06:59:54.324655Z",
          "shell.execute_reply.started": "2023-04-20T06:52:15.261326Z",
          "shell.execute_reply": "2023-04-20T06:59:54.323322Z"
        },
        "trusted": true,
        "outputId": "54954649-8fa8-4bdb-bf32-7fd27bd134f0"
      },
      "execution_count": null,
      "outputs": [
        {
          "name": "stdout",
          "text": "Epoch 1/15\n6446/6446 [==============================] - 40s 5ms/step - loss: 0.2400 - accuracy: 0.9060 - val_loss: 0.1531 - val_accuracy: 0.9599\nEpoch 2/15\n6446/6446 [==============================] - 29s 4ms/step - loss: 0.1700 - accuracy: 0.9350 - val_loss: 0.1478 - val_accuracy: 0.9660\nEpoch 3/15\n6446/6446 [==============================] - 30s 5ms/step - loss: 0.1631 - accuracy: 0.9367 - val_loss: 0.1388 - val_accuracy: 0.9688\nEpoch 4/15\n6446/6446 [==============================] - 29s 4ms/step - loss: 0.1594 - accuracy: 0.9378 - val_loss: 0.1271 - val_accuracy: 0.9691\nEpoch 5/15\n6446/6446 [==============================] - 29s 4ms/step - loss: 0.1584 - accuracy: 0.9382 - val_loss: 0.1351 - val_accuracy: 0.9662\nEpoch 6/15\n6446/6446 [==============================] - 29s 4ms/step - loss: 0.1571 - accuracy: 0.9383 - val_loss: 0.1273 - val_accuracy: 0.9741\nEpoch 7/15\n6446/6446 [==============================] - 31s 5ms/step - loss: 0.1555 - accuracy: 0.9389 - val_loss: 0.1386 - val_accuracy: 0.9682\nEpoch 8/15\n6446/6446 [==============================] - 31s 5ms/step - loss: 0.1549 - accuracy: 0.9389 - val_loss: 0.1308 - val_accuracy: 0.9700\nEpoch 9/15\n6446/6446 [==============================] - 31s 5ms/step - loss: 0.1547 - accuracy: 0.9392 - val_loss: 0.1417 - val_accuracy: 0.9685\nEpoch 10/15\n6446/6446 [==============================] - 29s 4ms/step - loss: 0.1538 - accuracy: 0.9392 - val_loss: 0.1365 - val_accuracy: 0.9688\nEpoch 11/15\n6446/6446 [==============================] - 31s 5ms/step - loss: 0.1539 - accuracy: 0.9394 - val_loss: 0.1295 - val_accuracy: 0.9723\nEpoch 12/15\n6446/6446 [==============================] - 29s 5ms/step - loss: 0.1533 - accuracy: 0.9398 - val_loss: 0.1340 - val_accuracy: 0.9659\nEpoch 13/15\n6446/6446 [==============================] - 29s 4ms/step - loss: 0.1533 - accuracy: 0.9394 - val_loss: 0.1186 - val_accuracy: 0.9772\nEpoch 14/15\n6446/6446 [==============================] - 31s 5ms/step - loss: 0.1522 - accuracy: 0.9397 - val_loss: 0.1254 - val_accuracy: 0.9775\nEpoch 15/15\n6446/6446 [==============================] - 31s 5ms/step - loss: 0.1521 - accuracy: 0.9399 - val_loss: 0.1344 - val_accuracy: 0.9688\n",
          "output_type": "stream"
        }
      ],
      "id": "4405fbbe"
    },
    {
      "cell_type": "markdown",
      "source": [
        "**batch_size** is used to specify the number of data points for computations in respective iterations so that less computation power is required"
      ],
      "metadata": {
        "id": "320a6ccc"
      },
      "id": "320a6ccc"
    },
    {
      "cell_type": "markdown",
      "source": [
        "# 6. Test the model"
      ],
      "metadata": {
        "id": "1e41ff2b"
      },
      "id": "1e41ff2b"
    },
    {
      "cell_type": "code",
      "source": [
        "# Predict Labels\n",
        "Y_pred = model.predict(X_test)\n",
        "\n",
        "for i in range(len(Y_pred)):\n",
        "    if Y_pred[i]>0.5:\n",
        "        Y_pred[i]=1\n",
        "    elif Y_pred[i]<=0.5:\n",
        "        Y_pred[i]=0"
      ],
      "metadata": {
        "id": "ea2b54b6",
        "execution": {
          "iopub.status.busy": "2023-04-20T06:59:54.327797Z",
          "iopub.execute_input": "2023-04-20T06:59:54.328777Z",
          "iopub.status.idle": "2023-04-20T07:00:36.446603Z",
          "shell.execute_reply.started": "2023-04-20T06:59:54.328743Z",
          "shell.execute_reply": "2023-04-20T07:00:36.445512Z"
        },
        "trusted": true,
        "outputId": "c7fdae58-b4e6-47e9-d7aa-54422866bba9"
      },
      "execution_count": null,
      "outputs": [
        {
          "name": "stdout",
          "text": "17367/17367 [==============================] - 28s 2ms/step\n",
          "output_type": "stream"
        }
      ],
      "id": "ea2b54b6"
    },
    {
      "cell_type": "markdown",
      "source": [
        "## 7.  Conclusion \n",
        "\n",
        "Plot the training and validation accuracy and loss report the testing accuracy and loss.\n",
        "\n",
        "Report values for preformance study metrics like accuracy, precision, recall, F1 Score.\n",
        "\n",
        "A proper comparision based on different metrics should be done and not just accuracy alone, only then the comparision becomes authentic. You may use Confusion matrix, classification report, MAE etc per the requirement of your application/problem."
      ],
      "metadata": {
        "id": "d59447da"
      },
      "id": "d59447da"
    },
    {
      "cell_type": "code",
      "source": [
        "# summarize history for accuracy between training and validation\n",
        "\n",
        "plt.plot(classifier_nn.history['accuracy'])\n",
        "plt.plot(classifier_nn.history['val_accuracy'])\n",
        "plt.title('model accuracy')\n",
        "plt.ylabel('accuracy')\n",
        "plt.xlabel('epoch')\n",
        "plt.legend(['train', 'validation'], loc='upper left')\n",
        "plt.show()"
      ],
      "metadata": {
        "id": "39966304",
        "execution": {
          "iopub.status.busy": "2023-04-20T07:00:36.450276Z",
          "iopub.execute_input": "2023-04-20T07:00:36.450624Z",
          "iopub.status.idle": "2023-04-20T07:00:36.690499Z",
          "shell.execute_reply.started": "2023-04-20T07:00:36.450595Z",
          "shell.execute_reply": "2023-04-20T07:00:36.689419Z"
        },
        "trusted": true,
        "outputId": "81210d14-b392-45b9-9705-dcb9c9467624"
      },
      "execution_count": null,
      "outputs": [
        {
          "output_type": "display_data",
          "data": {
            "text/plain": "<Figure size 640x480 with 1 Axes>",
            "image/png": "[encoded data removed]"
          },
          "metadata": {}
        }
      ],
      "id": "39966304"
    },
    {
      "cell_type": "code",
      "source": [
        "# summarize history for loss between training and validation\n",
        "\n",
        "plt.plot(classifier_nn.history['loss'])\n",
        "plt.plot(classifier_nn.history['val_loss'])\n",
        "plt.title('model loss')\n",
        "plt.ylabel('loss')\n",
        "plt.xlabel('epoch')\n",
        "plt.legend(['train', 'validation'], loc='upper left')\n",
        "plt.show()"
      ],
      "metadata": {
        "id": "e8ddc8a3",
        "execution": {
          "iopub.status.busy": "2023-04-20T07:00:36.692266Z",
          "iopub.execute_input": "2023-04-20T07:00:36.692663Z",
          "iopub.status.idle": "2023-04-20T07:00:36.927514Z",
          "shell.execute_reply.started": "2023-04-20T07:00:36.692625Z",
          "shell.execute_reply": "2023-04-20T07:00:36.926460Z"
        },
        "trusted": true,
        "outputId": "4b14d2ed-cc1a-4b5f-b5f2-ee048d6cc444"
      },
      "execution_count": null,
      "outputs": [
        {
          "output_type": "display_data",
          "data": {
            "text/plain": "<Figure size 640x480 with 1 Axes>",
            "image/png": "[encoded data removed]"
          },
          "metadata": {}
        }
      ],
      "id": "e8ddc8a3"
    },
    {
      "cell_type": "markdown",
      "source": [
        "It can be observed that the training and the validation loss have reduced with increase in the epochs"
      ],
      "metadata": {
        "id": "3ba803eb"
      },
      "id": "3ba803eb"
    },
    {
      "cell_type": "markdown",
      "source": [
        "#### Determining model accuracy"
      ],
      "metadata": {
        "id": "ff631e2d"
      },
      "id": "ff631e2d"
    },
    {
      "cell_type": "code",
      "source": [
        "from sklearn.metrics import accuracy_score"
      ],
      "metadata": {
        "id": "7f07418a",
        "execution": {
          "iopub.status.busy": "2023-04-20T07:00:36.929170Z",
          "iopub.execute_input": "2023-04-20T07:00:36.929589Z",
          "iopub.status.idle": "2023-04-20T07:00:36.936785Z",
          "shell.execute_reply.started": "2023-04-20T07:00:36.929549Z",
          "shell.execute_reply": "2023-04-20T07:00:36.935523Z"
        },
        "trusted": true
      },
      "execution_count": null,
      "outputs": [],
      "id": "7f07418a"
    },
    {
      "cell_type": "code",
      "source": [
        "print(\"accuracy score : \", str(accuracy_score(Y_test, Y_pred)*100))"
      ],
      "metadata": {
        "id": "34d80b82",
        "execution": {
          "iopub.status.busy": "2023-04-20T07:00:36.938579Z",
          "iopub.execute_input": "2023-04-20T07:00:36.938947Z",
          "iopub.status.idle": "2023-04-20T07:00:37.008635Z",
          "shell.execute_reply.started": "2023-04-20T07:00:36.938911Z",
          "shell.execute_reply": "2023-04-20T07:00:37.007524Z"
        },
        "trusted": true,
        "outputId": "27670526-9f99-43de-cdd8-38496ab53058"
      },
      "execution_count": null,
      "outputs": [
        {
          "name": "stdout",
          "text": "accuracy score :  89.63037074492685\n",
          "output_type": "stream"
        }
      ],
      "id": "34d80b82"
    },
    {
      "cell_type": "markdown",
      "source": [
        "The accuracy of the ANN model is good"
      ],
      "metadata": {
        "id": "25897da2"
      },
      "id": "25897da2"
    },
    {
      "cell_type": "code",
      "source": [
        "from sklearn.metrics import classification_report\n",
        "from sklearn.metrics import confusion_matrix\n",
        "\n",
        "sns.heatmap(confusion_matrix(Y_test, Y_pred), annot = True, cmap = 'Blues', fmt='g')"
      ],
      "metadata": {
        "id": "c062279e",
        "execution": {
          "iopub.status.busy": "2023-04-20T07:00:37.011087Z",
          "iopub.execute_input": "2023-04-20T07:00:37.011486Z",
          "iopub.status.idle": "2023-04-20T07:00:37.698635Z",
          "shell.execute_reply.started": "2023-04-20T07:00:37.011434Z",
          "shell.execute_reply": "2023-04-20T07:00:37.697650Z"
        },
        "trusted": true,
        "outputId": "a76bf532-cb72-4fb0-a111-8de7c6d7314c"
      },
      "execution_count": null,
      "outputs": [
        {
          "execution_count": 138,
          "output_type": "execute_result",
          "data": {
            "text/plain": "<AxesSubplot:>"
          },
          "metadata": {}
        },
        {
          "output_type": "display_data",
          "data": {
            "text/plain": "<Figure size 640x480 with 2 Axes>",
            "image/png": "[encoded data removed]"
          },
          "metadata": {}
        }
      ],
      "id": "c062279e"
    },
    {
      "cell_type": "markdown",
      "source": [
        "As per the confusion matrix, the false positives and false negatives are high"
      ],
      "metadata": {
        "id": "8d69588f"
      },
      "id": "8d69588f"
    },
    {
      "cell_type": "code",
      "source": [
        "# Classification Report    \n",
        "print('Classfication report = \\n', classification_report(Y_test, Y_pred))"
      ],
      "metadata": {
        "id": "d9c2dc22",
        "execution": {
          "iopub.status.busy": "2023-04-20T07:00:37.700035Z",
          "iopub.execute_input": "2023-04-20T07:00:37.700499Z",
          "iopub.status.idle": "2023-04-20T07:00:38.858127Z",
          "shell.execute_reply.started": "2023-04-20T07:00:37.700438Z",
          "shell.execute_reply": "2023-04-20T07:00:38.855870Z"
        },
        "trusted": true,
        "outputId": "6b0c8392-f494-46d6-d8a2-ccd44a4540df"
      },
      "execution_count": null,
      "outputs": [
        {
          "name": "stdout",
          "text": "Classfication report = \n               precision    recall  f1-score   support\n\n         0.0       1.00      0.90      0.95    553574\n         1.0       0.02      0.45      0.03      2145\n\n    accuracy                           0.90    555719\n   macro avg       0.51      0.67      0.49    555719\nweighted avg       0.99      0.90      0.94    555719\n\n",
          "output_type": "stream"
        }
      ],
      "id": "d9c2dc22"
    },
    {
      "cell_type": "markdown",
      "source": [
        "The model performance metrics are poor and can be improved by Hyperparameter tuning"
      ],
      "metadata": {
        "id": "d1d83a57"
      },
      "id": "d1d83a57"
    },
    {
      "cell_type": "markdown",
      "source": [
        "### Hyperparameter tuning"
      ],
      "metadata": {
        "id": "9d2a2ebd"
      },
      "id": "9d2a2ebd"
    },
    {
      "cell_type": "code",
      "source": [
        "from keras.wrappers.scikit_learn import KerasClassifier\n",
        "from sklearn.model_selection import GridSearchCV\n",
        "\n",
        "from keras.models import Sequential\n",
        "from keras.layers import Dense, Activation, Embedding, Flatten, LeakyReLU, BatchNormalization\n",
        "from keras.activations import relu, sigmoid"
      ],
      "metadata": {
        "id": "7e34414e",
        "execution": {
          "iopub.status.busy": "2023-04-20T07:00:38.859705Z",
          "iopub.execute_input": "2023-04-20T07:00:38.860493Z",
          "iopub.status.idle": "2023-04-20T07:00:38.867665Z",
          "shell.execute_reply.started": "2023-04-20T07:00:38.860417Z",
          "shell.execute_reply": "2023-04-20T07:00:38.866515Z"
        },
        "trusted": true
      },
      "execution_count": null,
      "outputs": [],
      "id": "7e34414e"
    },
    {
      "cell_type": "markdown",
      "source": [
        "We will perform **GridSearchCV** to select the suitable hyperaprameters."
      ],
      "metadata": {
        "id": "583a4c51"
      },
      "id": "583a4c51"
    },
    {
      "cell_type": "markdown",
      "source": [
        "We will create a function where we will initialize the Sequential model. We will provide the layers and the type of activations required as arguments to this function"
      ],
      "metadata": {
        "id": "1311d410"
      },
      "id": "1311d410"
    },
    {
      "cell_type": "code",
      "source": [
        "def create_model(layers, activation):\n",
        "    model_new = Sequential()\n",
        "    # We will iterate through the layers and create the dense neurons\n",
        "    for i, nodes in enumerate(layers):\n",
        "        # For the input layer, we will provide the input dimension \n",
        "        if i==0:\n",
        "            model_new.add(Dense(nodes, input_dim=X_train.shape[1]))\n",
        "            model_new.add(Activation(activation))\n",
        "            model_new.add(Dropout(0.5))\n",
        "        else:\n",
        "        # For the successive layers, we do not need to provide the input dimension\n",
        "            model_new.add(Dense(nodes))\n",
        "            model_new.add(Activation(activation))\n",
        "            model_new.add(Dropout(0.5))\n",
        "            \n",
        "    # The output layer will have only 1 neuron\n",
        "    model_new.add(Dense(units=1, kernel_initializer='glorot_uniform', activation='sigmoid'))\n",
        "    \n",
        "    # Compiling the model\n",
        "    model_new.compile(optimizer='adam', loss='binary_crossentropy', metrics=['accuracy'])\n",
        "    return model_new"
      ],
      "metadata": {
        "id": "35899250",
        "execution": {
          "iopub.status.busy": "2023-04-20T07:00:38.870575Z",
          "iopub.execute_input": "2023-04-20T07:00:38.872066Z",
          "iopub.status.idle": "2023-04-20T07:00:38.881695Z",
          "shell.execute_reply.started": "2023-04-20T07:00:38.872022Z",
          "shell.execute_reply": "2023-04-20T07:00:38.880420Z"
        },
        "trusted": true
      },
      "execution_count": null,
      "outputs": [],
      "id": "35899250"
    },
    {
      "cell_type": "markdown",
      "source": [
        "**KerasClassifier** is the classifier that we will build. We will pass the **create_model** function to it as an argument"
      ],
      "metadata": {
        "id": "835245e8"
      },
      "id": "835245e8"
    },
    {
      "cell_type": "code",
      "source": [
        "model_new_2 = KerasClassifier(build_fn=create_model, verbose=0)"
      ],
      "metadata": {
        "id": "d691a40d",
        "execution": {
          "iopub.status.busy": "2023-04-20T07:00:38.883201Z",
          "iopub.execute_input": "2023-04-20T07:00:38.884760Z",
          "iopub.status.idle": "2023-04-20T07:00:38.892754Z",
          "shell.execute_reply.started": "2023-04-20T07:00:38.884718Z",
          "shell.execute_reply": "2023-04-20T07:00:38.891485Z"
        },
        "trusted": true
      },
      "execution_count": null,
      "outputs": [],
      "id": "d691a40d"
    },
    {
      "cell_type": "code",
      "source": [
        "# In the first iteration, there will be 1 hidden layer with 20 neurons\n",
        "\n",
        "# In the second iteration, there will be 2 hidden layers with 40 and 20 neurons respectively\n",
        "\n",
        "layers = [[20], [40, 20], [45, 30, 15]]"
      ],
      "metadata": {
        "id": "ab375c23",
        "execution": {
          "iopub.status.busy": "2023-04-20T07:00:38.894287Z",
          "iopub.execute_input": "2023-04-20T07:00:38.894744Z",
          "iopub.status.idle": "2023-04-20T07:00:38.902842Z",
          "shell.execute_reply.started": "2023-04-20T07:00:38.894693Z",
          "shell.execute_reply": "2023-04-20T07:00:38.901659Z"
        },
        "trusted": true
      },
      "execution_count": null,
      "outputs": [],
      "id": "ab375c23"
    },
    {
      "cell_type": "code",
      "source": [
        "# The activation functions used for hyperparameter tuning are sigmoid and relu. For the first iteration, sigmoid will be used for the hidden layers\n",
        "# for the second iteration, sigmoid will be used for the hidden layers\n",
        "activations = ['sigmoid', 'relu']"
      ],
      "metadata": {
        "id": "d4829a23",
        "execution": {
          "iopub.status.busy": "2023-04-20T07:00:38.904583Z",
          "iopub.execute_input": "2023-04-20T07:00:38.904982Z",
          "iopub.status.idle": "2023-04-20T07:00:38.916875Z",
          "shell.execute_reply.started": "2023-04-20T07:00:38.904940Z",
          "shell.execute_reply": "2023-04-20T07:00:38.915699Z"
        },
        "trusted": true
      },
      "execution_count": null,
      "outputs": [],
      "id": "d4829a23"
    },
    {
      "cell_type": "code",
      "source": [
        "# Preparing a dictionary of the hyperparameters\n",
        "param_grid = dict(layers=layers, activation=activations, batch_size = [128, 256], epochs = [3])"
      ],
      "metadata": {
        "id": "ea531437",
        "execution": {
          "iopub.status.busy": "2023-04-20T07:00:38.918754Z",
          "iopub.execute_input": "2023-04-20T07:00:38.919295Z",
          "iopub.status.idle": "2023-04-20T07:00:38.928006Z",
          "shell.execute_reply.started": "2023-04-20T07:00:38.919184Z",
          "shell.execute_reply": "2023-04-20T07:00:38.926796Z"
        },
        "trusted": true
      },
      "execution_count": null,
      "outputs": [],
      "id": "ea531437"
    },
    {
      "cell_type": "code",
      "source": [
        "# Building the GridSearchCV model\n",
        "grid = GridSearchCV(estimator=model_new_2, param_grid=param_grid, cv=4, n_jobs=-1)"
      ],
      "metadata": {
        "id": "149867b1",
        "execution": {
          "iopub.status.busy": "2023-04-20T07:00:38.929885Z",
          "iopub.execute_input": "2023-04-20T07:00:38.930515Z",
          "iopub.status.idle": "2023-04-20T07:00:38.938202Z",
          "shell.execute_reply.started": "2023-04-20T07:00:38.930474Z",
          "shell.execute_reply": "2023-04-20T07:00:38.936817Z"
        },
        "trusted": true
      },
      "execution_count": null,
      "outputs": [],
      "id": "149867b1"
    },
    {
      "cell_type": "code",
      "source": [
        "# Training the GridSearchCV\n",
        "grid_result = grid.fit(X_train, Y_train)"
      ],
      "metadata": {
        "id": "ecded2f4",
        "execution": {
          "iopub.status.busy": "2023-04-20T07:00:38.939850Z",
          "iopub.execute_input": "2023-04-20T07:00:38.940351Z",
          "iopub.status.idle": "2023-04-20T07:07:36.804794Z",
          "shell.execute_reply.started": "2023-04-20T07:00:38.940312Z",
          "shell.execute_reply": "2023-04-20T07:07:36.803548Z"
        },
        "trusted": true
      },
      "execution_count": null,
      "outputs": [],
      "id": "ecded2f4"
    },
    {
      "cell_type": "markdown",
      "source": [
        "### Model best results"
      ],
      "metadata": {
        "id": "9f358587"
      },
      "id": "9f358587"
    },
    {
      "cell_type": "code",
      "source": [
        "print(grid_result.best_score_, grid_result.best_params_)"
      ],
      "metadata": {
        "id": "5b316431",
        "execution": {
          "iopub.status.busy": "2023-04-20T07:07:36.807100Z",
          "iopub.execute_input": "2023-04-20T07:07:36.808367Z",
          "iopub.status.idle": "2023-04-20T07:07:36.816822Z",
          "shell.execute_reply.started": "2023-04-20T07:07:36.808319Z",
          "shell.execute_reply": "2023-04-20T07:07:36.815403Z"
        },
        "trusted": true,
        "outputId": "d0ea4db2-c7ee-408c-d304-88820e3a4a11"
      },
      "execution_count": null,
      "outputs": [
        {
          "name": "stdout",
          "text": "nan {'activation': 'sigmoid', 'batch_size': 128, 'epochs': 3, 'layers': [20]}\n",
          "output_type": "stream"
        }
      ],
      "id": "5b316431"
    },
    {
      "cell_type": "code",
      "source": [
        "pred_y = grid.predict(X_test)"
      ],
      "metadata": {
        "id": "3f58713a",
        "execution": {
          "iopub.status.busy": "2023-04-20T07:07:36.818313Z",
          "iopub.execute_input": "2023-04-20T07:07:36.819496Z",
          "iopub.status.idle": "2023-04-20T07:08:18.198085Z",
          "shell.execute_reply.started": "2023-04-20T07:07:36.819441Z",
          "shell.execute_reply": "2023-04-20T07:08:18.196995Z"
        },
        "trusted": true,
        "outputId": "dedbdab8-0690-4b2c-ec88-be3307d4074d"
      },
      "execution_count": null,
      "outputs": [
        {
          "name": "stdout",
          "text": "17367/17367 [==============================] - 27s 2ms/step\n",
          "output_type": "stream"
        }
      ],
      "id": "3f58713a"
    },
    {
      "cell_type": "code",
      "source": [
        "y_pred = (pred_y > 0.5)"
      ],
      "metadata": {
        "id": "d90e4ec6",
        "execution": {
          "iopub.status.busy": "2023-04-20T07:08:18.200561Z",
          "iopub.execute_input": "2023-04-20T07:08:18.201337Z",
          "iopub.status.idle": "2023-04-20T07:08:18.207180Z",
          "shell.execute_reply.started": "2023-04-20T07:08:18.201277Z",
          "shell.execute_reply": "2023-04-20T07:08:18.206030Z"
        },
        "trusted": true
      },
      "execution_count": null,
      "outputs": [],
      "id": "d90e4ec6"
    },
    {
      "cell_type": "code",
      "source": [
        "sns.heatmap(confusion_matrix(Y_test, y_pred), annot = True, cmap = 'Blues', fmt='g')"
      ],
      "metadata": {
        "id": "2c2e0e8a",
        "execution": {
          "iopub.status.busy": "2023-04-20T07:08:18.209014Z",
          "iopub.execute_input": "2023-04-20T07:08:18.209405Z",
          "iopub.status.idle": "2023-04-20T07:08:19.708546Z",
          "shell.execute_reply.started": "2023-04-20T07:08:18.209365Z",
          "shell.execute_reply": "2023-04-20T07:08:19.707441Z"
        },
        "trusted": true,
        "outputId": "e43323b1-351e-4a9a-a321-f9f19a13e3d1"
      },
      "execution_count": null,
      "outputs": [
        {
          "execution_count": 151,
          "output_type": "execute_result",
          "data": {
            "text/plain": "<AxesSubplot:>"
          },
          "metadata": {}
        },
        {
          "output_type": "display_data",
          "data": {
            "text/plain": "<Figure size 640x480 with 2 Axes>",
            "image/png": "[encoded data removed]"
          },
          "metadata": {}
        }
      ],
      "id": "2c2e0e8a"
    },
    {
      "cell_type": "code",
      "source": [
        "score = accuracy_score(Y_test, y_pred)"
      ],
      "metadata": {
        "id": "458c95a3",
        "execution": {
          "iopub.status.busy": "2023-04-20T07:08:19.711623Z",
          "iopub.execute_input": "2023-04-20T07:08:19.711972Z",
          "iopub.status.idle": "2023-04-20T07:08:19.775514Z",
          "shell.execute_reply.started": "2023-04-20T07:08:19.711941Z",
          "shell.execute_reply": "2023-04-20T07:08:19.774123Z"
        },
        "trusted": true
      },
      "execution_count": null,
      "outputs": [],
      "id": "458c95a3"
    },
    {
      "cell_type": "code",
      "source": [
        "score"
      ],
      "metadata": {
        "id": "0d75dbce",
        "execution": {
          "iopub.status.busy": "2023-04-20T07:08:19.777185Z",
          "iopub.execute_input": "2023-04-20T07:08:19.778801Z",
          "iopub.status.idle": "2023-04-20T07:08:19.786689Z",
          "shell.execute_reply.started": "2023-04-20T07:08:19.778689Z",
          "shell.execute_reply": "2023-04-20T07:08:19.785529Z"
        },
        "trusted": true,
        "outputId": "d702c9ec-f837-4924-9f44-be56915cc6de"
      },
      "execution_count": null,
      "outputs": [
        {
          "execution_count": 153,
          "output_type": "execute_result",
          "data": {
            "text/plain": "0.28431095571682813"
          },
          "metadata": {}
        }
      ],
      "id": "0d75dbce"
    },
    {
      "cell_type": "code",
      "source": [
        "print('Classfication report = \\n', classification_report(Y_test, y_pred))"
      ],
      "metadata": {
        "id": "16f11da4",
        "execution": {
          "iopub.status.busy": "2023-04-20T07:08:19.788520Z",
          "iopub.execute_input": "2023-04-20T07:08:19.789229Z",
          "iopub.status.idle": "2023-04-20T07:08:20.841727Z",
          "shell.execute_reply.started": "2023-04-20T07:08:19.789186Z",
          "shell.execute_reply": "2023-04-20T07:08:20.840256Z"
        },
        "trusted": true,
        "outputId": "49298e25-4d76-4810-c1ac-3f9c473621d0"
      },
      "execution_count": null,
      "outputs": [
        {
          "name": "stdout",
          "text": "Classfication report = \n               precision    recall  f1-score   support\n\n         0.0       1.00      0.28      0.44    553574\n         1.0       0.00      0.82      0.01      2145\n\n    accuracy                           0.28    555719\n   macro avg       0.50      0.55      0.22    555719\nweighted avg       0.99      0.28      0.44    555719\n\n",
          "output_type": "stream"
        }
      ],
      "id": "16f11da4"
    },
    {
      "cell_type": "markdown",
      "source": [
        "The above are the results of **Hyperparameter tuning**"
      ],
      "metadata": {
        "id": "f47685f0"
      },
      "id": "f47685f0"
    },
    {
      "cell_type": "markdown",
      "source": [
        "# 8. Solution\n",
        "\n",
        "We propose an ANN Deep Learning solution for the credit card fraud transaction detection problem scenario\n",
        "\n",
        "Challenges faced :\n",
        "\n",
        " - Huge dataset\n",
        " - Tweaking the parameters"
      ],
      "metadata": {
        "id": "5314f203"
      },
      "id": "5314f203"
    }
  ]
}